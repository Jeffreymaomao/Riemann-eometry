{
 "cells": [
  {
   "cell_type": "markdown",
   "id": "37fb3d07-cafe-4909-93b5-8fbbd843ab55",
   "metadata": {},
   "source": [
    "# Riemann Geometry"
   ]
  },
  {
   "cell_type": "code",
   "execution_count": 1,
   "id": "32bdd23c-0739-43a2-8423-3a3081fbdd83",
   "metadata": {},
   "outputs": [],
   "source": [
    "import sympy as sp\n",
    "from IPython.display import Math, Markdown"
   ]
  },
  {
   "cell_type": "code",
   "execution_count": 2,
   "id": "638e75b4-7fb2-4ce6-95cf-f463ee7dd27c",
   "metadata": {},
   "outputs": [],
   "source": [
    "%reload_ext autoreload\n",
    "%autoreload 2\n",
    "from riemann_geometry import RiemannGeometry "
   ]
  },
  {
   "cell_type": "code",
   "execution_count": 3,
   "id": "073dd68d-21a9-4b4c-977d-3a4bf7a9e625",
   "metadata": {},
   "outputs": [
    {
     "data": {
      "text/plain": [
       "riemann_geometry.core.RiemannGeometry"
      ]
     },
     "execution_count": 3,
     "metadata": {},
     "output_type": "execute_result"
    }
   ],
   "source": [
    "RiemannGeometry"
   ]
  },
  {
   "cell_type": "markdown",
   "id": "05940fc7-3975-44b0-b111-9254c1e1d094",
   "metadata": {},
   "source": [
    "## Convension\n",
    "\n",
    "### Einstein Convension\n",
    "\n",
    "Here using the Einstein summation convention,\n",
    "> When an index variable appears twice in a single term and is not otherwise defined,<br>\n",
    "> it implies summation of that term over all the values of the index.\n",
    "\n",
    "### Tensor denotion\n",
    "\n",
    "On the manofold $\\mathcal{M}$ with dimension $\\dim\\mathcal{M} = n$.\n",
    "The ***metric*** $g_{ab}$ and the ***inverse of metric*** $g^{ab}$ is denoted in matrix form, that is \n",
    "$$\n",
    "g_{ab} = \\begin{pmatrix}\n",
    " g_{11} &  g_{12} & \\cdots &  g_{1n} \\\\ \n",
    " g_{21} &  g_{22} & \\cdots &  g_{2n} \\\\ \n",
    " \\vdots & \\vdots & \\ddots &\\vdots \\\\ \n",
    " g_{n1} &  g_{n2} & \\cdots &  g_{nn} \\\\ \n",
    "\\end{pmatrix}\n",
    ",\\quad \n",
    "g^{ab} = \\begin{pmatrix}\n",
    " g^{11} &  g^{12} & \\cdots &  g^{1n} \\\\ \n",
    " g^{21} &  g^{22} & \\cdots &  g^{2n} \\\\ \n",
    " \\vdots & \\vdots & \\ddots &\\vdots \\\\ \n",
    " g^{n1} &  g^{n2} & \\cdots &  g^{nn} \\\\ \n",
    "\\end{pmatrix}.\n",
    "$$\n",
    "\n",
    "For the ***Christoffel symbols*** ${\\Gamma^{a}}_{bc}$, notice that it only has $3$ indices, so here define it in the form\n",
    "$$\n",
    "{\\Gamma^{a}}_{bcd} = \n",
    "\\begin{pmatrix}\n",
    "\\begin{pmatrix}\n",
    " {\\Gamma^{1}_{11}} &  {\\Gamma^{1}_{12}} & \\cdots &  {\\Gamma^{1}_{1n}} \\\\ \n",
    " {\\Gamma^{1}_{21}} &  {\\Gamma^{1}_{22}} & \\cdots &  {\\Gamma^{1}_{2n}} \\\\ \n",
    " \\vdots & \\vdots & \\ddots &\\vdots \\\\ \n",
    " {\\Gamma^{1}_{n1}} &  {\\Gamma^{1}_{n2}} & \\cdots &  {\\Gamma^{1}_{nn}} \\\\ \n",
    "\\end{pmatrix}\n",
    "& \n",
    "\\begin{pmatrix}\n",
    " {\\Gamma^{2}_{11}} &  {\\Gamma^{2}_{12}} & \\cdots &  {\\Gamma^{2}_{1n}} \\\\ \n",
    " {\\Gamma^{2}_{21}} &  {\\Gamma^{2}_{22}} & \\cdots &  {\\Gamma^{2}_{2n}} \\\\ \n",
    " \\vdots & \\vdots & \\ddots &\\vdots \\\\ \n",
    " {\\Gamma^{2}_{n1}} &  {\\Gamma^{2}_{n2}} & \\cdots &  {\\Gamma^{2}_{nn}} \\\\ \n",
    "\\end{pmatrix}\n",
    "& \\cdots & \n",
    "\\begin{pmatrix}\n",
    " {\\Gamma^{n}_{11}} &  {\\Gamma^{n}_{12}} & \\cdots &  {\\Gamma^{n}_{1n}} \\\\ \n",
    " {\\Gamma^{n}_{21}} &  {\\Gamma^{n}_{22}} & \\cdots &  {\\Gamma^{n}_{2n}} \\\\ \n",
    " \\vdots & \\vdots & \\ddots &\\vdots \\\\ \n",
    " {\\Gamma^{n}_{n1}} &  {\\Gamma^{n}_{n2}} & \\cdots &  {\\Gamma^{n}_{nn}} \\\\ \n",
    "\\end{pmatrix}\n",
    "\\end{pmatrix}\n",
    "$$\n",
    "\n",
    "\n",
    "Then the ***Riemann tensor*** ${R^{a}}_{bcd}$ also denote as a matrix in a matrix form, \n",
    "$$\n",
    "{R^{a}}_{bcd} = \\begin{pmatrix}\n",
    " {R^{1}}_{1cd} & {R^{1}}_{1cd} & \\cdots &  {R^{1}}_{1cd} \\\\ \n",
    " {R^{2}}_{2cd} & {R^{2}}_{2cd} & \\cdots &  {R^{2}}_{2cd} \\\\ \n",
    " \\vdots & \\vdots & \\ddots &\\vdots \\\\ \n",
    " {R^{n}}_{ncd} & {R^{n}}_{ncd} & \\cdots &  {R^{n}}_{ncd} \\\\ \n",
    "\\end{pmatrix}\n",
    "= \\begin{pmatrix}\n",
    "\\begin{pmatrix}\n",
    "{R^{1}}_{111} & {R^{1}}_{211} & \\cdots & {R^{1}}_{n11} \\\\ \n",
    "{R^{2}}_{111} & {R^{2}}_{211} & \\cdots & {R^{2}}_{n11} \\\\ \n",
    " \\vdots & \\vdots & \\ddots &\\vdots \\\\ \n",
    "{R^{n}}_{111} & {R^{n}}_{211} & \\cdots & {R^{n}}_{n11} \\\\ \n",
    "\\end{pmatrix} & \\begin{pmatrix}\n",
    "{R^{1}}_{112} & {R^{1}}_{212} & \\cdots & {R^{1}}_{n12} \\\\ \n",
    "{R^{2}}_{112} & {R^{2}}_{212} & \\cdots & {R^{2}}_{n12} \\\\ \n",
    " \\vdots & \\vdots & \\ddots &\\vdots \\\\ \n",
    "{R^{n}}_{112} & {R^{n}}_{212} & \\cdots & {R^{n}}_{n12} \\\\ \n",
    "\\end{pmatrix} & \\cdots & \\begin{pmatrix}\n",
    "{R^{1}}_{11n} & {R^{1}}_{21n} & \\cdots & {R^{1}}_{n1n} \\\\ \n",
    "{R^{2}}_{11n} & {R^{2}}_{21n} & \\cdots & {R^{2}}_{n1n} \\\\ \n",
    " \\vdots & \\vdots & \\ddots &\\vdots \\\\ \n",
    "{R^{n}}_{11n} & {R^{n}}_{21n} & \\cdots & {R^{n}}_{n1n} \\\\ \n",
    "\\end{pmatrix} \\\\ \n",
    "\\begin{pmatrix}\n",
    "{R^{1}}_{121} & {R^{1}}_{221} & \\cdots & {R^{1}}_{n21} \\\\ \n",
    "{R^{2}}_{121} & {R^{2}}_{221} & \\cdots & {R^{2}}_{n21} \\\\ \n",
    " \\vdots & \\vdots & \\ddots &\\vdots \\\\ \n",
    "{R^{n}}_{121} & {R^{n}}_{221} & \\cdots & {R^{n}}_{n21} \\\\ \n",
    "\\end{pmatrix} & \\begin{pmatrix}\n",
    "{R^{1}}_{122} & {R^{1}}_{222} & \\cdots & {R^{1}}_{n22} \\\\ \n",
    "{R^{2}}_{122} & {R^{2}}_{222} & \\cdots & {R^{2}}_{n22} \\\\ \n",
    " \\vdots & \\vdots & \\ddots &\\vdots \\\\ \n",
    "{R^{n}}_{122} & {R^{n}}_{222} & \\cdots & {R^{n}}_{n22} \\\\ \n",
    "\\end{pmatrix} & \\cdots & \\begin{pmatrix}\n",
    "{R^{1}}_{12n} & {R^{1}}_{22n} & \\cdots & {R^{1}}_{n2n} \\\\ \n",
    "{R^{2}}_{12n} & {R^{2}}_{22n} & \\cdots & {R^{2}}_{n2n} \\\\ \n",
    " \\vdots & \\vdots & \\ddots &\\vdots \\\\ \n",
    "{R^{n}}_{12n} & {R^{n}}_{22n} & \\cdots & {R^{n}}_{n2n} \\\\ \n",
    "\\end{pmatrix} \\\\ \n",
    " \\vdots & \\vdots & \\ddots &\\vdots \\\\ \n",
    "\\begin{pmatrix}\n",
    "{R^{1}}_{1n1} & {R^{1}}_{2n1} & \\cdots & {R^{1}}_{nn1} \\\\ \n",
    "{R^{2}}_{1n1} & {R^{2}}_{2n1} & \\cdots & {R^{2}}_{nn1} \\\\ \n",
    " \\vdots & \\vdots & \\ddots &\\vdots \\\\ \n",
    "{R^{n}}_{1n1} & {R^{n}}_{2n1} & \\cdots & {R^{n}}_{nn1} \\\\ \n",
    "\\end{pmatrix} & \\begin{pmatrix}\n",
    "{R^{1}}_{1n2} & {R^{1}}_{2n2} & \\cdots & {R^{1}}_{nn2} \\\\ \n",
    "{R^{2}}_{1n2} & {R^{2}}_{2n2} & \\cdots & {R^{2}}_{nn2} \\\\ \n",
    " \\vdots & \\vdots & \\ddots &\\vdots \\\\ \n",
    "{R^{n}}_{1n2} & {R^{n}}_{2n2} & \\cdots & {R^{n}}_{nn2} \\\\ \n",
    "\\end{pmatrix} & \\cdots & \\begin{pmatrix}\n",
    "{R^{1}}_{1nn} & {R^{1}}_{2nn} & \\cdots & {R^{1}}_{nnn} \\\\ \n",
    "{R^{2}}_{1nn} & {R^{2}}_{2nn} & \\cdots & {R^{2}}_{nnn} \\\\ \n",
    " \\vdots & \\vdots & \\ddots &\\vdots \\\\ \n",
    "{R^{n}}_{1nn} & {R^{n}}_{2nn} & \\cdots & {R^{n}}_{nnn} \\\\ \n",
    "\\end{pmatrix} \\\\ \n",
    "\\end{pmatrix}.\n",
    "$$\n",
    "\n",
    "Also, for the ***Ricci tensor*** $R_{ab}$, it will also denote as a matrix form (since it only has two indices), that is\n",
    "$$\n",
    "R_{ab} = {R^{c}}_{acb} = \\begin{pmatrix}\n",
    " R_{11} & R_{11} & \\cdots &  R_{11} \\\\ \n",
    " R_{22} & R_{22} & \\cdots &  R_{22} \\\\ \n",
    " \\vdots & \\vdots & \\ddots &\\vdots \\\\ \n",
    " R_{nn} & R_{nn} & \\cdots &  R_{nn} \\\\ \n",
    "\\end{pmatrix}.\n",
    "$$\n",
    "\n",
    "Last, since the ***Ricci scalar*** $R$ is just a scalar, so it has no metrix definition. "
   ]
  },
  {
   "cell_type": "markdown",
   "id": "b13a69df-3d01-4fc4-b695-ce975ac0d505",
   "metadata": {},
   "source": [
    "## Example for Manifolds in Euclidean $\\mathbb{R}^n$"
   ]
  },
  {
   "cell_type": "markdown",
   "id": "ff401c09-e155-4cfe-b302-2f3327b42e70",
   "metadata": {},
   "source": [
    "### Flat Manifold in $\\mathbb{R}^2$"
   ]
  },
  {
   "cell_type": "markdown",
   "id": "7c5cc71f-ebe8-437a-a6cd-8aebbac222f2",
   "metadata": {},
   "source": [
    "#### Cartesian coordinate\n",
    "In $2$-dimensional flat space $\\mathbb{R}^2$, the line element in Cartesian coordinate is\n",
    "$$\n",
    "ds^2 = dx^2 + dy^2 +dz^2 \n",
    "$$\n",
    "then we can calculate the ***Christoffel symbols***, ***Riemann tensor***, ***Ricci tensor*** and ***Ricci scalar***."
   ]
  },
  {
   "cell_type": "code",
   "execution_count": 4,
   "id": "d75e3634-a119-4b16-9e9d-4d2c8a03cc5f",
   "metadata": {},
   "outputs": [
    {
     "name": "stdout",
     "output_type": "stream",
     "text": [
      "Calculating ...\n"
     ]
    },
    {
     "name": "stderr",
     "output_type": "stream",
     "text": [
      "Christoffel Symbols : 100%|█████████████████████████████████| 2/2 [00:00<00:00, 1008.00it/s]\n",
      "Riemann Tensor      : 100%|█████████████████████████████████| 2/2 [00:00<00:00, 1059.97it/s]\n",
      "Ricci Tensor        : 100%|█████████████████████████████████| 2/2 [00:00<00:00, 6172.63it/s]\n",
      "Ricci Scalar        : 100%|████████████████████████████████| 2/2 [00:00<00:00, 50231.19it/s]\n"
     ]
    },
    {
     "data": {
      "text/latex": [
       "$$x^{a}=\\begin{pmatrix}x\\\\y\\end{pmatrix},\\quad g_{ab}=\\begin{pmatrix} 1 & 0\\\\ 0 & 1 \\end{pmatrix},\\quad g^{ab}=\\begin{pmatrix} 1 & 0\\\\ 0 & 1 \\end{pmatrix},$$\n",
       "$${\\Gamma^{a}}_{bc}=\\begin{pmatrix} \\begin{pmatrix} 0 & 0\\\\ 0 & 0 \\end{pmatrix} & \\begin{pmatrix} 0 & 0\\\\ 0 & 0 \\end{pmatrix} \\end{pmatrix},$$\n",
       "$${R^{a}}_{bcd}=\\begin{pmatrix} \\begin{pmatrix} 0 & 0\\\\ 0 & 0 \\end{pmatrix} & \\begin{pmatrix} 0 & 0\\\\ 0 & 0 \\end{pmatrix}\\\\ \\begin{pmatrix} 0 & 0\\\\ 0 & 0 \\end{pmatrix} & \\begin{pmatrix} 0 & 0\\\\ 0 & 0 \\end{pmatrix} \\end{pmatrix},$$\n",
       "$$R_{ab}=\\begin{pmatrix} 0 & 0\\\\ 0 & 0 \\end{pmatrix},\\quad R=0.$$"
      ],
      "text/plain": [
       "# Riemann geometry\n",
       "## x: [x, y]\n",
       "## metric: [[1, 0], [0, 1]]\n",
       "## inverse metric: [[1, 0], [0, 1]]\n",
       "## Christoffel symbols: [[[0, 0], [0, 0]], [[0, 0], [0, 0]]]\n",
       "## Riemann tensor: [[[[0, 0], [0, 0]], [[0, 0], [0, 0]]], [[[0, 0], [0, 0]], [[0, 0], [0, 0]]]]\n",
       "## Ricci tensor: [[0, 0], [0, 0]]\n",
       "## Ricci scalar: 0"
      ]
     },
     "execution_count": 4,
     "metadata": {},
     "output_type": "execute_result"
    }
   ],
   "source": [
    "x, y = sp.symbols('x y')\n",
    "coords = sp.Matrix([x, y])\n",
    "metric = sp.diag(1, 1)\n",
    "geo = RiemannGeometry(metric, coords)\n",
    "geo.calculate()\n",
    "geo"
   ]
  },
  {
   "cell_type": "markdown",
   "id": "c3faedec-2598-4f3e-b067-c436dcb64850",
   "metadata": {},
   "source": [
    "#### Polar coordinate\n",
    "In $2$-dimensional flat space $\\mathbb{R}^2$, the line element in polar coordinate is\n",
    "$$\n",
    "ds^2 = dr^2 + r^2d\\theta^2\n",
    "$$\n",
    "then we can calculate the ***Christoffel symbols***, ***Riemann tensor***, ***Ricci tensor*** and ***Ricci scalar***."
   ]
  },
  {
   "cell_type": "code",
   "execution_count": 5,
   "id": "74f0b438-436b-4087-a466-912eedbd662a",
   "metadata": {},
   "outputs": [
    {
     "name": "stdout",
     "output_type": "stream",
     "text": [
      "Calculating ...\n"
     ]
    },
    {
     "name": "stderr",
     "output_type": "stream",
     "text": [
      "Christoffel Symbols : 100%|██████████████████████████████████| 2/2 [00:00<00:00, 308.02it/s]\n",
      "Riemann Tensor      : 100%|██████████████████████████████████| 2/2 [00:00<00:00, 613.34it/s]\n",
      "Ricci Tensor        : 100%|█████████████████████████████████| 2/2 [00:00<00:00, 6355.01it/s]\n",
      "Ricci Scalar        : 100%|████████████████████████████████| 2/2 [00:00<00:00, 21959.71it/s]\n"
     ]
    },
    {
     "data": {
      "text/latex": [
       "$$x^{a}=\\begin{pmatrix}r\\\\\\theta\\end{pmatrix},\\quad g_{ab}=\\begin{pmatrix} 1 & 0\\\\ 0 & r^{2} \\end{pmatrix},\\quad g^{ab}=\\begin{pmatrix} 1 & 0\\\\ 0 & \\frac{1}{r^{2}} \\end{pmatrix},$$\n",
       "$${\\Gamma^{a}}_{bc}=\\begin{pmatrix} \\begin{pmatrix} 0 & 0\\\\ 0 & - r \\end{pmatrix} & \\begin{pmatrix} 0 & \\frac{1}{r}\\\\ \\frac{1}{r} & 0 \\end{pmatrix} \\end{pmatrix},$$\n",
       "$${R^{a}}_{bcd}=\\begin{pmatrix} \\begin{pmatrix} 0 & 0\\\\ 0 & 0 \\end{pmatrix} & \\begin{pmatrix} 0 & 0\\\\ 0 & 0 \\end{pmatrix}\\\\ \\begin{pmatrix} 0 & 0\\\\ 0 & 0 \\end{pmatrix} & \\begin{pmatrix} 0 & 0\\\\ 0 & 0 \\end{pmatrix} \\end{pmatrix},$$\n",
       "$$R_{ab}=\\begin{pmatrix} 0 & 0\\\\ 0 & 0 \\end{pmatrix},\\quad R=0.$$"
      ],
      "text/plain": [
       "# Riemann geometry\n",
       "## x: [r, theta]\n",
       "## metric: [[1, 0], [0, r**2]]\n",
       "## inverse metric: [[1, 0], [0, r**(-2)]]\n",
       "## Christoffel symbols: [[[0, 0], [0, -r]], [[0, 1/r], [1/r, 0]]]\n",
       "## Riemann tensor: [[[[0, 0], [0, 0]], [[0, 0], [0, 0]]], [[[0, 0], [0, 0]], [[0, 0], [0, 0]]]]\n",
       "## Ricci tensor: [[0, 0], [0, 0]]\n",
       "## Ricci scalar: 0"
      ]
     },
     "execution_count": 5,
     "metadata": {},
     "output_type": "execute_result"
    }
   ],
   "source": [
    "r, theta = sp.symbols('r theta')\n",
    "coords = sp.Matrix([r, theta])\n",
    "metric = sp.diag(1, r**2)\n",
    "geo = RiemannGeometry(metric, coords)\n",
    "geo.calculate()\n",
    "geo"
   ]
  },
  {
   "cell_type": "markdown",
   "id": "cf27793d-428c-4dce-8ce7-de77844279fa",
   "metadata": {
    "jp-MarkdownHeadingCollapsed": true
   },
   "source": [
    "### Flat Manifold in $\\mathbb{R}^3$"
   ]
  },
  {
   "cell_type": "markdown",
   "id": "4a66e409-dde3-4176-8195-962a19d919a5",
   "metadata": {},
   "source": [
    "#### Cartesian coordinate\n",
    "In $3$-dimensional flat space $\\mathbb{R}^3$, the line element in Cartesian coordinate is\n",
    "$$\n",
    "ds^2 = dx^2 + dy^2 +dz^2 \n",
    "$$\n",
    "then we can calculate the ***Christoffel symbols***, ***Riemann tensor***, ***Ricci tensor*** and ***Ricci scalar***."
   ]
  },
  {
   "cell_type": "code",
   "execution_count": 6,
   "id": "331616fd-4e7a-4930-88b9-ad73c0d43af3",
   "metadata": {},
   "outputs": [
    {
     "name": "stdout",
     "output_type": "stream",
     "text": [
      "Calculating ...\n"
     ]
    },
    {
     "name": "stderr",
     "output_type": "stream",
     "text": [
      "Christoffel Symbols : 100%|██████████████████████████████████| 3/3 [00:00<00:00, 576.67it/s]\n",
      "Riemann Tensor      : 100%|██████████████████████████████████| 3/3 [00:00<00:00, 361.92it/s]\n",
      "Ricci Tensor        : 100%|█████████████████████████████████| 3/3 [00:00<00:00, 5007.13it/s]\n",
      "Ricci Scalar        : 100%|████████████████████████████████| 3/3 [00:00<00:00, 17050.02it/s]\n"
     ]
    },
    {
     "data": {
      "text/latex": [
       "$$x^{a}=\\begin{pmatrix}x\\\\y\\\\z\\end{pmatrix},\\quad g_{ab}=\\begin{pmatrix} 1 & 0 & 0\\\\ 0 & 1 & 0\\\\ 0 & 0 & 1 \\end{pmatrix},\\quad g^{ab}=\\begin{pmatrix} 1 & 0 & 0\\\\ 0 & 1 & 0\\\\ 0 & 0 & 1 \\end{pmatrix},$$\n",
       "$${\\Gamma^{a}}_{bc}=\\begin{pmatrix} \\begin{pmatrix} 0 & 0 & 0\\\\ 0 & 0 & 0\\\\ 0 & 0 & 0 \\end{pmatrix} & \\begin{pmatrix} 0 & 0 & 0\\\\ 0 & 0 & 0\\\\ 0 & 0 & 0 \\end{pmatrix} & \\begin{pmatrix} 0 & 0 & 0\\\\ 0 & 0 & 0\\\\ 0 & 0 & 0 \\end{pmatrix} \\end{pmatrix},$$\n",
       "$${R^{a}}_{bcd}=\\begin{pmatrix} \\begin{pmatrix} 0 & 0 & 0\\\\ 0 & 0 & 0\\\\ 0 & 0 & 0 \\end{pmatrix} & \\begin{pmatrix} 0 & 0 & 0\\\\ 0 & 0 & 0\\\\ 0 & 0 & 0 \\end{pmatrix} & \\begin{pmatrix} 0 & 0 & 0\\\\ 0 & 0 & 0\\\\ 0 & 0 & 0 \\end{pmatrix}\\\\ \\begin{pmatrix} 0 & 0 & 0\\\\ 0 & 0 & 0\\\\ 0 & 0 & 0 \\end{pmatrix} & \\begin{pmatrix} 0 & 0 & 0\\\\ 0 & 0 & 0\\\\ 0 & 0 & 0 \\end{pmatrix} & \\begin{pmatrix} 0 & 0 & 0\\\\ 0 & 0 & 0\\\\ 0 & 0 & 0 \\end{pmatrix}\\\\ \\begin{pmatrix} 0 & 0 & 0\\\\ 0 & 0 & 0\\\\ 0 & 0 & 0 \\end{pmatrix} & \\begin{pmatrix} 0 & 0 & 0\\\\ 0 & 0 & 0\\\\ 0 & 0 & 0 \\end{pmatrix} & \\begin{pmatrix} 0 & 0 & 0\\\\ 0 & 0 & 0\\\\ 0 & 0 & 0 \\end{pmatrix} \\end{pmatrix},$$\n",
       "$$R_{ab}=\\begin{pmatrix} 0 & 0 & 0\\\\ 0 & 0 & 0\\\\ 0 & 0 & 0 \\end{pmatrix},\\quad R=0.$$"
      ],
      "text/plain": [
       "# Riemann geometry\n",
       "## x: [x, y, z]\n",
       "## metric: [[1, 0, 0], [0, 1, 0], [0, 0, 1]]\n",
       "## inverse metric: [[1, 0, 0], [0, 1, 0], [0, 0, 1]]\n",
       "## Christoffel symbols: [[[0, 0, 0], [0, 0, 0], [0, 0, 0]], [[0, 0, 0], [0, 0, 0], [0, 0, 0]], [[0, 0, 0], [0, 0, 0], [0, 0, 0]]]\n",
       "## Riemann tensor: [[[[0, 0, 0], [0, 0, 0], [0, 0, 0]], [[0, 0, 0], [0, 0, 0], [0, 0, 0]], [[0, 0, 0], [0, 0, 0], [0, 0, 0]]], [[[0, 0, 0], [0, 0, 0], [0, 0, 0]], [[0, 0, 0], [0, 0, 0], [0, 0, 0]], [[0, 0, 0], [0, 0, 0], [0, 0, 0]]], [[[0, 0, 0], [0, 0, 0], [0, 0, 0]], [[0, 0, 0], [0, 0, 0], [0, 0, 0]], [[0, 0, 0], [0, 0, 0], [0, 0, 0]]]]\n",
       "## Ricci tensor: [[0, 0, 0], [0, 0, 0], [0, 0, 0]]\n",
       "## Ricci scalar: 0"
      ]
     },
     "execution_count": 6,
     "metadata": {},
     "output_type": "execute_result"
    }
   ],
   "source": [
    "x, y, z = sp.symbols('x y z')\n",
    "coords = sp.Matrix([x, y, z])\n",
    "metric = sp.diag(1, 1, 1)\n",
    "geo = RiemannGeometry(metric, coords)\n",
    "geo.calculate()\n",
    "geo"
   ]
  },
  {
   "cell_type": "markdown",
   "id": "3f9a91e0-4472-4b87-971c-8c3a7ff8e46e",
   "metadata": {},
   "source": [
    "#### Spherical coordinate\n",
    "In $3$-dimensional flat space $\\mathbb{R}^3$, the line element in spherical coordinate is\n",
    "$$\n",
    "ds^2 = dr^2 + r^2d\\theta^2 + r^2\\sin^2\\theta d\\varphi^2\n",
    "$$\n",
    "then we can calculate the ***Christoffel symbols***, ***Riemann tensor***, ***Ricci tensor*** and ***Ricci scalar***."
   ]
  },
  {
   "cell_type": "code",
   "execution_count": 7,
   "id": "041362c8-6e98-4e03-8889-fb6095198660",
   "metadata": {},
   "outputs": [
    {
     "name": "stdout",
     "output_type": "stream",
     "text": [
      "Calculating ...\n"
     ]
    },
    {
     "name": "stderr",
     "output_type": "stream",
     "text": [
      "Christoffel Symbols : 100%|███████████████████████████████████| 3/3 [00:00<00:00, 45.22it/s]\n",
      "Riemann Tensor      : 100%|███████████████████████████████████| 3/3 [00:00<00:00, 95.38it/s]\n",
      "Ricci Tensor        : 100%|█████████████████████████████████| 3/3 [00:00<00:00, 5094.30it/s]\n",
      "Ricci Scalar        : 100%|████████████████████████████████| 3/3 [00:00<00:00, 45425.68it/s]\n"
     ]
    },
    {
     "data": {
      "text/latex": [
       "$$x^{a}=\\begin{pmatrix}r\\\\\\theta\\\\\\varphi\\end{pmatrix},\\quad g_{ab}=\\begin{pmatrix} 1 & 0 & 0\\\\ 0 & r^{2} & 0\\\\ 0 & 0 & r^{2} \\sin^{2}{\\left(\\theta \\right)} \\end{pmatrix},\\quad g^{ab}=\\begin{pmatrix} 1 & 0 & 0\\\\ 0 & \\frac{1}{r^{2}} & 0\\\\ 0 & 0 & \\frac{1}{r^{2} \\sin^{2}{\\left(\\theta \\right)}} \\end{pmatrix},$$\n",
       "$${\\Gamma^{a}}_{bc}=\\begin{pmatrix} \\begin{pmatrix} 0 & 0 & 0\\\\ 0 & - r & 0\\\\ 0 & 0 & - r \\sin^{2}{\\left(\\theta \\right)} \\end{pmatrix} & \\begin{pmatrix} 0 & \\frac{1}{r} & 0\\\\ \\frac{1}{r} & 0 & 0\\\\ 0 & 0 & - \\sin{\\left(\\theta \\right)} \\cos{\\left(\\theta \\right)} \\end{pmatrix} & \\begin{pmatrix} 0 & 0 & \\frac{1}{r}\\\\ 0 & 0 & \\frac{1}{\\tan{\\left(\\theta \\right)}}\\\\ \\frac{1}{r} & \\frac{1}{\\tan{\\left(\\theta \\right)}} & 0 \\end{pmatrix} \\end{pmatrix},$$\n",
       "$${R^{a}}_{bcd}=\\begin{pmatrix} \\begin{pmatrix} 0 & 0 & 0\\\\ 0 & 0 & 0\\\\ 0 & 0 & 0 \\end{pmatrix} & \\begin{pmatrix} 0 & 0 & 0\\\\ 0 & 0 & 0\\\\ 0 & 0 & 0 \\end{pmatrix} & \\begin{pmatrix} 0 & 0 & 0\\\\ 0 & 0 & 0\\\\ 0 & 0 & 0 \\end{pmatrix}\\\\ \\begin{pmatrix} 0 & 0 & 0\\\\ 0 & 0 & 0\\\\ 0 & 0 & 0 \\end{pmatrix} & \\begin{pmatrix} 0 & 0 & 0\\\\ 0 & 0 & 0\\\\ 0 & 0 & 0 \\end{pmatrix} & \\begin{pmatrix} 0 & 0 & 0\\\\ 0 & 0 & 0\\\\ 0 & 0 & 0 \\end{pmatrix}\\\\ \\begin{pmatrix} 0 & 0 & 0\\\\ 0 & 0 & 0\\\\ 0 & 0 & 0 \\end{pmatrix} & \\begin{pmatrix} 0 & 0 & 0\\\\ 0 & 0 & 0\\\\ 0 & 0 & 0 \\end{pmatrix} & \\begin{pmatrix} 0 & 0 & 0\\\\ 0 & 0 & 0\\\\ 0 & 0 & 0 \\end{pmatrix} \\end{pmatrix},$$\n",
       "$$R_{ab}=\\begin{pmatrix} 0 & 0 & 0\\\\ 0 & 0 & 0\\\\ 0 & 0 & 0 \\end{pmatrix},\\quad R=0.$$"
      ],
      "text/plain": [
       "# Riemann geometry\n",
       "## x: [r, theta, varphi]\n",
       "## metric: [[1, 0, 0], [0, r**2, 0], [0, 0, r**2*sin(theta)**2]]\n",
       "## inverse metric: [[1, 0, 0], [0, r**(-2), 0], [0, 0, 1/(r**2*sin(theta)**2)]]\n",
       "## Christoffel symbols: [[[0, 0, 0], [0, -r, 0], [0, 0, -r*sin(theta)**2]], [[0, 1/r, 0], [1/r, 0, 0], [0, 0, -sin(theta)*cos(theta)]], [[0, 0, 1/r], [0, 0, 1/tan(theta)], [1/r, 1/tan(theta), 0]]]\n",
       "## Riemann tensor: [[[[0, 0, 0], [0, 0, 0], [0, 0, 0]], [[0, 0, 0], [0, 0, 0], [0, 0, 0]], [[0, 0, 0], [0, 0, 0], [0, 0, 0]]], [[[0, 0, 0], [0, 0, 0], [0, 0, 0]], [[0, 0, 0], [0, 0, 0], [0, 0, 0]], [[0, 0, 0], [0, 0, 0], [0, 0, 0]]], [[[0, 0, 0], [0, 0, 0], [0, 0, 0]], [[0, 0, 0], [0, 0, 0], [0, 0, 0]], [[0, 0, 0], [0, 0, 0], [0, 0, 0]]]]\n",
       "## Ricci tensor: [[0, 0, 0], [0, 0, 0], [0, 0, 0]]\n",
       "## Ricci scalar: 0"
      ]
     },
     "execution_count": 7,
     "metadata": {},
     "output_type": "execute_result"
    }
   ],
   "source": [
    "r, theta, phi = sp.symbols('r theta varphi')\n",
    "coords = sp.Matrix([r, theta, phi])\n",
    "metric = sp.diag(1, r**2, r**2 * (sp.sin(theta))**2)\n",
    "geo = RiemannGeometry(metric, coords)\n",
    "geo.calculate()\n",
    "geo"
   ]
  },
  {
   "cell_type": "markdown",
   "id": "9f542275-08fa-4e63-b35d-57239045d415",
   "metadata": {},
   "source": [
    "#### Cylindrical coordinate\n",
    "\n",
    "In $3$-dimensional flat space $\\mathbb{R}^3$, the line element in cylindrical coordinate is\n",
    "$$\n",
    "ds^2 = dr^2 + r^2d\\varphi^2 + dz^2\n",
    "$$\n",
    "then we can calculate the ***Christoffel symbols***, ***Riemann tensor***, ***Ricci tensor*** and ***Ricci scalar***."
   ]
  },
  {
   "cell_type": "code",
   "execution_count": 8,
   "id": "9cdcdb7b-85c7-4b32-9e08-d966c3b82cfe",
   "metadata": {},
   "outputs": [
    {
     "name": "stdout",
     "output_type": "stream",
     "text": [
      "Calculating ...\n"
     ]
    },
    {
     "name": "stderr",
     "output_type": "stream",
     "text": [
      "Christoffel Symbols : 100%|██████████████████████████████████| 3/3 [00:00<00:00, 369.50it/s]\n",
      "Riemann Tensor      : 100%|██████████████████████████████████| 3/3 [00:00<00:00, 360.67it/s]\n",
      "Ricci Tensor        : 100%|█████████████████████████████████| 3/3 [00:00<00:00, 3424.85it/s]\n",
      "Ricci Scalar        : 100%|████████████████████████████████| 3/3 [00:00<00:00, 41120.63it/s]\n"
     ]
    },
    {
     "data": {
      "text/latex": [
       "$$x^{a}=\\begin{pmatrix}r\\\\\\theta\\\\z\\end{pmatrix},\\quad g_{ab}=\\begin{pmatrix} 1 & 0 & 0\\\\ 0 & r^{2} & 0\\\\ 0 & 0 & 1 \\end{pmatrix},\\quad g^{ab}=\\begin{pmatrix} 1 & 0 & 0\\\\ 0 & \\frac{1}{r^{2}} & 0\\\\ 0 & 0 & 1 \\end{pmatrix},$$\n",
       "$${\\Gamma^{a}}_{bc}=\\begin{pmatrix} \\begin{pmatrix} 0 & 0 & 0\\\\ 0 & - r & 0\\\\ 0 & 0 & 0 \\end{pmatrix} & \\begin{pmatrix} 0 & \\frac{1}{r} & 0\\\\ \\frac{1}{r} & 0 & 0\\\\ 0 & 0 & 0 \\end{pmatrix} & \\begin{pmatrix} 0 & 0 & 0\\\\ 0 & 0 & 0\\\\ 0 & 0 & 0 \\end{pmatrix} \\end{pmatrix},$$\n",
       "$${R^{a}}_{bcd}=\\begin{pmatrix} \\begin{pmatrix} 0 & 0 & 0\\\\ 0 & 0 & 0\\\\ 0 & 0 & 0 \\end{pmatrix} & \\begin{pmatrix} 0 & 0 & 0\\\\ 0 & 0 & 0\\\\ 0 & 0 & 0 \\end{pmatrix} & \\begin{pmatrix} 0 & 0 & 0\\\\ 0 & 0 & 0\\\\ 0 & 0 & 0 \\end{pmatrix}\\\\ \\begin{pmatrix} 0 & 0 & 0\\\\ 0 & 0 & 0\\\\ 0 & 0 & 0 \\end{pmatrix} & \\begin{pmatrix} 0 & 0 & 0\\\\ 0 & 0 & 0\\\\ 0 & 0 & 0 \\end{pmatrix} & \\begin{pmatrix} 0 & 0 & 0\\\\ 0 & 0 & 0\\\\ 0 & 0 & 0 \\end{pmatrix}\\\\ \\begin{pmatrix} 0 & 0 & 0\\\\ 0 & 0 & 0\\\\ 0 & 0 & 0 \\end{pmatrix} & \\begin{pmatrix} 0 & 0 & 0\\\\ 0 & 0 & 0\\\\ 0 & 0 & 0 \\end{pmatrix} & \\begin{pmatrix} 0 & 0 & 0\\\\ 0 & 0 & 0\\\\ 0 & 0 & 0 \\end{pmatrix} \\end{pmatrix},$$\n",
       "$$R_{ab}=\\begin{pmatrix} 0 & 0 & 0\\\\ 0 & 0 & 0\\\\ 0 & 0 & 0 \\end{pmatrix},\\quad R=0.$$"
      ],
      "text/plain": [
       "# Riemann geometry\n",
       "## x: [r, theta, z]\n",
       "## metric: [[1, 0, 0], [0, r**2, 0], [0, 0, 1]]\n",
       "## inverse metric: [[1, 0, 0], [0, r**(-2), 0], [0, 0, 1]]\n",
       "## Christoffel symbols: [[[0, 0, 0], [0, -r, 0], [0, 0, 0]], [[0, 1/r, 0], [1/r, 0, 0], [0, 0, 0]], [[0, 0, 0], [0, 0, 0], [0, 0, 0]]]\n",
       "## Riemann tensor: [[[[0, 0, 0], [0, 0, 0], [0, 0, 0]], [[0, 0, 0], [0, 0, 0], [0, 0, 0]], [[0, 0, 0], [0, 0, 0], [0, 0, 0]]], [[[0, 0, 0], [0, 0, 0], [0, 0, 0]], [[0, 0, 0], [0, 0, 0], [0, 0, 0]], [[0, 0, 0], [0, 0, 0], [0, 0, 0]]], [[[0, 0, 0], [0, 0, 0], [0, 0, 0]], [[0, 0, 0], [0, 0, 0], [0, 0, 0]], [[0, 0, 0], [0, 0, 0], [0, 0, 0]]]]\n",
       "## Ricci tensor: [[0, 0, 0], [0, 0, 0], [0, 0, 0]]\n",
       "## Ricci scalar: 0"
      ]
     },
     "execution_count": 8,
     "metadata": {},
     "output_type": "execute_result"
    }
   ],
   "source": [
    "r, phi, z = sp.symbols('r theta z')\n",
    "coords = sp.Matrix([r, phi, z])\n",
    "metric = sp.diag(1, r**2, 1)\n",
    "geo = RiemannGeometry(metric, coords)\n",
    "geo.calculate()\n",
    "geo"
   ]
  },
  {
   "cell_type": "markdown",
   "id": "cc236a21-6239-4953-a946-9a8bca202cc0",
   "metadata": {
    "jp-MarkdownHeadingCollapsed": true
   },
   "source": [
    "### Curved Manifolds"
   ]
  },
  {
   "cell_type": "markdown",
   "id": "096cd6a3-011b-4dc6-b4a5-594393cb1265",
   "metadata": {},
   "source": [
    "#### Sphere $S^2$\n",
    "On a sphere, the line element is given by\n",
    "$$\n",
    "ds^2 = dr^2 + R^2 d\\theta^2 + R^2 \\sin^2\\theta d\\varphi,\n",
    "$$\n",
    "then we can calculate the ***Christoffel symbols***, ***Riemann tensor***, ***Ricci tensor*** and ***Ricci scalar***."
   ]
  },
  {
   "cell_type": "code",
   "execution_count": 9,
   "id": "2b318ea0-feb8-45e0-9c31-b6e537b0bdfd",
   "metadata": {},
   "outputs": [
    {
     "name": "stdout",
     "output_type": "stream",
     "text": [
      "Calculating ...\n"
     ]
    },
    {
     "name": "stderr",
     "output_type": "stream",
     "text": [
      "Christoffel Symbols : 100%|██████████████████████████████████| 2/2 [00:00<00:00, 105.26it/s]\n",
      "Riemann Tensor      : 100%|███████████████████████████████████| 2/2 [00:00<00:00, 62.22it/s]\n",
      "Ricci Tensor        : 100%|██████████████████████████████████| 2/2 [00:00<00:00, 336.35it/s]\n",
      "Ricci Scalar        : 100%|████████████████████████████████| 2/2 [00:00<00:00, 13421.77it/s]\n"
     ]
    },
    {
     "data": {
      "text/latex": [
       "$$x^{a}=\\begin{pmatrix}\\theta\\\\\\varphi\\end{pmatrix},\\quad g_{ab}=\\begin{pmatrix} R^{2} & 0\\\\ 0 & R^{2} \\sin^{2}{\\left(\\theta \\right)} \\end{pmatrix},\\quad g^{ab}=\\begin{pmatrix} \\frac{1}{R^{2}} & 0\\\\ 0 & \\frac{1}{R^{2} \\sin^{2}{\\left(\\theta \\right)}} \\end{pmatrix},$$\n",
       "$${\\Gamma^{a}}_{bc}=\\begin{pmatrix} \\begin{pmatrix} 0 & 0\\\\ 0 & - \\sin{\\left(\\theta \\right)} \\cos{\\left(\\theta \\right)} \\end{pmatrix} & \\begin{pmatrix} 0 & \\frac{1}{\\tan{\\left(\\theta \\right)}}\\\\ \\frac{1}{\\tan{\\left(\\theta \\right)}} & 0 \\end{pmatrix} \\end{pmatrix},$$\n",
       "$${R^{a}}_{bcd}=\\begin{pmatrix} \\begin{pmatrix} 0 & 0\\\\ 0 & 0 \\end{pmatrix} & \\begin{pmatrix} 0 & \\sin^{2}{\\left(\\theta \\right)}\\\\ - \\sin^{2}{\\left(\\theta \\right)} & 0 \\end{pmatrix}\\\\ \\begin{pmatrix} 0 & -1\\\\ 1 & 0 \\end{pmatrix} & \\begin{pmatrix} 0 & 0\\\\ 0 & 0 \\end{pmatrix} \\end{pmatrix},$$\n",
       "$$R_{ab}=\\begin{pmatrix} 1 & 0\\\\ 0 & \\sin^{2}{\\left(\\theta \\right)} \\end{pmatrix},\\quad R=\\frac{2}{R^{2}}.$$"
      ],
      "text/plain": [
       "# Riemann geometry\n",
       "## x: [theta, varphi]\n",
       "## metric: [[R**2, 0], [0, R**2*sin(theta)**2]]\n",
       "## inverse metric: [[R**(-2), 0], [0, 1/(R**2*sin(theta)**2)]]\n",
       "## Christoffel symbols: [[[0, 0], [0, -sin(theta)*cos(theta)]], [[0, 1/tan(theta)], [1/tan(theta), 0]]]\n",
       "## Riemann tensor: [[[[0, 0], [0, 0]], [[0, sin(theta)**2], [-sin(theta)**2, 0]]], [[[0, -1], [1, 0]], [[0, 0], [0, 0]]]]\n",
       "## Ricci tensor: [[1, 0], [0, sin(theta)**2]]\n",
       "## Ricci scalar: 2/R**2"
      ]
     },
     "execution_count": 9,
     "metadata": {},
     "output_type": "execute_result"
    }
   ],
   "source": [
    "theta, phi = sp.symbols('theta varphi')\n",
    "R = sp.symbols('R')\n",
    "coords = sp.Matrix([theta, phi])\n",
    "metric = sp.diag(R**2, R**2 * (sp.sin(theta))**2)\n",
    "geo = RiemannGeometry(metric, coords)\n",
    "geo.calculate()\n",
    "geo"
   ]
  },
  {
   "cell_type": "markdown",
   "id": "ecda7fd3-36f7-4f01-bedc-0cd33a24092b",
   "metadata": {},
   "source": [
    "#### Torus $T^2$\n",
    "On a sphere, the line element is given by\n",
    "$$\n",
    "ds^2 = \\left(R + r\\cos v\\right)^2 du^2 + r^2 dv^2,\n",
    "$$\n",
    "then we can calculate the ***Christoffel symbols***, ***Riemann tensor***, ***Ricci tensor*** and ***Ricci scalar***."
   ]
  },
  {
   "cell_type": "code",
   "execution_count": 10,
   "id": "b3fb7820-23bb-47f4-aae5-fba4f6cf7bbf",
   "metadata": {},
   "outputs": [
    {
     "name": "stdout",
     "output_type": "stream",
     "text": [
      "Calculating ...\n"
     ]
    },
    {
     "name": "stderr",
     "output_type": "stream",
     "text": [
      "Christoffel Symbols : 100%|███████████████████████████████████| 2/2 [00:00<00:00, 12.76it/s]\n",
      "Riemann Tensor      : 100%|███████████████████████████████████| 2/2 [00:00<00:00, 13.72it/s]\n",
      "Ricci Tensor        : 100%|███████████████████████████████████| 2/2 [00:00<00:00, 33.62it/s]\n",
      "Ricci Scalar        : 100%|█████████████████████████████████| 2/2 [00:00<00:00, 8971.77it/s]\n"
     ]
    },
    {
     "data": {
      "text/latex": [
       "$$x^{a}=\\begin{pmatrix}u\\\\v\\end{pmatrix},\\quad g_{ab}=\\begin{pmatrix} \\left(R + r \\cos{\\left(v \\right)}\\right)^{2} & 0\\\\ 0 & r^{2} \\end{pmatrix},\\quad g^{ab}=\\begin{pmatrix} \\frac{1}{R^{2} + 2 R r \\cos{\\left(v \\right)} + r^{2} \\cos^{2}{\\left(v \\right)}} & 0\\\\ 0 & \\frac{1}{r^{2}} \\end{pmatrix},$$\n",
       "$${\\Gamma^{a}}_{bc}=\\begin{pmatrix} \\begin{pmatrix} 0 & - \\frac{r \\sin{\\left(v \\right)}}{R + r \\cos{\\left(v \\right)}}\\\\ - \\frac{r \\sin{\\left(v \\right)}}{R + r \\cos{\\left(v \\right)}} & 0 \\end{pmatrix} & \\begin{pmatrix} \\frac{\\left(R + r \\cos{\\left(v \\right)}\\right) \\sin{\\left(v \\right)}}{r} & 0\\\\ 0 & 0 \\end{pmatrix} \\end{pmatrix},$$\n",
       "$${R^{a}}_{bcd}=\\begin{pmatrix} \\begin{pmatrix} 0 & 0\\\\ 0 & 0 \\end{pmatrix} & \\begin{pmatrix} 0 & \\frac{r \\cos{\\left(v \\right)}}{R + r \\cos{\\left(v \\right)}}\\\\ - \\frac{r \\cos{\\left(v \\right)}}{R + r \\cos{\\left(v \\right)}} & 0 \\end{pmatrix}\\\\ \\begin{pmatrix} 0 & - \\frac{\\left(R + r \\cos{\\left(v \\right)}\\right) \\cos{\\left(v \\right)}}{r}\\\\ \\frac{\\left(R + r \\cos{\\left(v \\right)}\\right) \\cos{\\left(v \\right)}}{r} & 0 \\end{pmatrix} & \\begin{pmatrix} 0 & 0\\\\ 0 & 0 \\end{pmatrix} \\end{pmatrix},$$\n",
       "$$R_{ab}=\\begin{pmatrix} \\frac{\\left(R + r \\cos{\\left(v \\right)}\\right) \\cos{\\left(v \\right)}}{r} & 0\\\\ 0 & \\frac{r \\cos{\\left(v \\right)}}{R + r \\cos{\\left(v \\right)}} \\end{pmatrix},\\quad R=\\frac{2 \\cos{\\left(v \\right)}}{r \\left(R + r \\cos{\\left(v \\right)}\\right)}.$$"
      ],
      "text/plain": [
       "# Riemann geometry\n",
       "## x: [u, v]\n",
       "## metric: [[(R + r*cos(v))**2, 0], [0, r**2]]\n",
       "## inverse metric: [[1/(R**2 + 2*R*r*cos(v) + r**2*cos(v)**2), 0], [0, r**(-2)]]\n",
       "## Christoffel symbols: [[[0, -r*sin(v)/(R + r*cos(v))], [-r*sin(v)/(R + r*cos(v)), 0]], [[(R + r*cos(v))*sin(v)/r, 0], [0, 0]]]\n",
       "## Riemann tensor: [[[[0, 0], [0, 0]], [[0, r*cos(v)/(R + r*cos(v))], [-r*cos(v)/(R + r*cos(v)), 0]]], [[[0, -(R + r*cos(v))*cos(v)/r], [(R + r*cos(v))*cos(v)/r, 0]], [[0, 0], [0, 0]]]]\n",
       "## Ricci tensor: [[(R + r*cos(v))*cos(v)/r, 0], [0, r*cos(v)/(R + r*cos(v))]]\n",
       "## Ricci scalar: 2*cos(v)/(r*(R + r*cos(v)))"
      ]
     },
     "execution_count": 10,
     "metadata": {},
     "output_type": "execute_result"
    }
   ],
   "source": [
    "u, v = sp.symbols('u v')\n",
    "R, r = sp.symbols('R, r')\n",
    "coords = sp.Matrix([u, v])\n",
    "metric = sp.diag((R + r*sp.cos(v))**2, r**2)\n",
    "geo = RiemannGeometry(metric, coords)\n",
    "geo.calculate()\n",
    "geo"
   ]
  },
  {
   "cell_type": "markdown",
   "id": "ab321dad-35bb-4227-933d-e8e976374075",
   "metadata": {},
   "source": [
    "## Example for Manifolds in Spacetime $\\mathbb{R}^{n+1}$"
   ]
  },
  {
   "cell_type": "markdown",
   "id": "94bcae69-6749-4247-8d12-a7e4d8a1b387",
   "metadata": {},
   "source": [
    "### Flat Manifolds in $\\mathbb{R}^{3+1}$"
   ]
  },
  {
   "cell_type": "markdown",
   "id": "b7a40af5-16aa-4cd1-a9cf-ffaf5525ee65",
   "metadata": {},
   "source": [
    "#### Cartesian coordinate\n",
    "Minkowski metric is the metric in flat spacetime, the line element in Cartesian coordinate is given by\n",
    "$$\n",
    "ds^2 = -dt^2 + dx^2 + dy^2 + dz^2\n",
    "$$\n",
    "then we can calculate the ***Christoffel symbols***, ***Riemann tensor***, ***Ricci tensor*** and ***Ricci scalar***.\n",
    "\n",
    "> Here using Geometrized unit system $G=c=1$."
   ]
  },
  {
   "cell_type": "code",
   "execution_count": 15,
   "id": "e0445add-d5b9-4aeb-ad22-75c1c12091ed",
   "metadata": {},
   "outputs": [
    {
     "name": "stdout",
     "output_type": "stream",
     "text": [
      "Calculating ...\n"
     ]
    },
    {
     "name": "stderr",
     "output_type": "stream",
     "text": [
      "Christoffel Symbols : 100%|██████████████████████████████████| 4/4 [00:00<00:00, 234.91it/s]\n",
      "Riemann Tensor      : 100%|██████████████████████████████████| 4/4 [00:00<00:00, 132.96it/s]\n",
      "Ricci Tensor        : 100%|█████████████████████████████████| 4/4 [00:00<00:00, 2240.85it/s]\n",
      "Ricci Scalar        : 100%|████████████████████████████████| 4/4 [00:00<00:00, 45964.98it/s]\n"
     ]
    },
    {
     "data": {
      "text/latex": [
       "$$x^{a}=\\begin{pmatrix}t\\\\x\\\\y\\\\z\\end{pmatrix},\\quad g_{ab}=\\begin{pmatrix} -1 & 0 & 0 & 0\\\\ 0 & 1 & 0 & 0\\\\ 0 & 0 & 1 & 0\\\\ 0 & 0 & 0 & 1 \\end{pmatrix},\\quad g^{ab}=\\begin{pmatrix} -1 & 0 & 0 & 0\\\\ 0 & 1 & 0 & 0\\\\ 0 & 0 & 1 & 0\\\\ 0 & 0 & 0 & 1 \\end{pmatrix},$$\n",
       "$${\\Gamma^{a}}_{bc}=\\begin{pmatrix} \\begin{pmatrix} 0 & 0 & 0 & 0\\\\ 0 & 0 & 0 & 0\\\\ 0 & 0 & 0 & 0\\\\ 0 & 0 & 0 & 0 \\end{pmatrix} & \\begin{pmatrix} 0 & 0 & 0 & 0\\\\ 0 & 0 & 0 & 0\\\\ 0 & 0 & 0 & 0\\\\ 0 & 0 & 0 & 0 \\end{pmatrix} & \\begin{pmatrix} 0 & 0 & 0 & 0\\\\ 0 & 0 & 0 & 0\\\\ 0 & 0 & 0 & 0\\\\ 0 & 0 & 0 & 0 \\end{pmatrix} & \\begin{pmatrix} 0 & 0 & 0 & 0\\\\ 0 & 0 & 0 & 0\\\\ 0 & 0 & 0 & 0\\\\ 0 & 0 & 0 & 0 \\end{pmatrix} \\end{pmatrix},$$\n",
       "$${R^{a}}_{bcd}=\\begin{pmatrix} \\begin{pmatrix} 0 & 0 & 0 & 0\\\\ 0 & 0 & 0 & 0\\\\ 0 & 0 & 0 & 0\\\\ 0 & 0 & 0 & 0 \\end{pmatrix} & \\begin{pmatrix} 0 & 0 & 0 & 0\\\\ 0 & 0 & 0 & 0\\\\ 0 & 0 & 0 & 0\\\\ 0 & 0 & 0 & 0 \\end{pmatrix} & \\begin{pmatrix} 0 & 0 & 0 & 0\\\\ 0 & 0 & 0 & 0\\\\ 0 & 0 & 0 & 0\\\\ 0 & 0 & 0 & 0 \\end{pmatrix} & \\begin{pmatrix} 0 & 0 & 0 & 0\\\\ 0 & 0 & 0 & 0\\\\ 0 & 0 & 0 & 0\\\\ 0 & 0 & 0 & 0 \\end{pmatrix}\\\\ \\begin{pmatrix} 0 & 0 & 0 & 0\\\\ 0 & 0 & 0 & 0\\\\ 0 & 0 & 0 & 0\\\\ 0 & 0 & 0 & 0 \\end{pmatrix} & \\begin{pmatrix} 0 & 0 & 0 & 0\\\\ 0 & 0 & 0 & 0\\\\ 0 & 0 & 0 & 0\\\\ 0 & 0 & 0 & 0 \\end{pmatrix} & \\begin{pmatrix} 0 & 0 & 0 & 0\\\\ 0 & 0 & 0 & 0\\\\ 0 & 0 & 0 & 0\\\\ 0 & 0 & 0 & 0 \\end{pmatrix} & \\begin{pmatrix} 0 & 0 & 0 & 0\\\\ 0 & 0 & 0 & 0\\\\ 0 & 0 & 0 & 0\\\\ 0 & 0 & 0 & 0 \\end{pmatrix}\\\\ \\begin{pmatrix} 0 & 0 & 0 & 0\\\\ 0 & 0 & 0 & 0\\\\ 0 & 0 & 0 & 0\\\\ 0 & 0 & 0 & 0 \\end{pmatrix} & \\begin{pmatrix} 0 & 0 & 0 & 0\\\\ 0 & 0 & 0 & 0\\\\ 0 & 0 & 0 & 0\\\\ 0 & 0 & 0 & 0 \\end{pmatrix} & \\begin{pmatrix} 0 & 0 & 0 & 0\\\\ 0 & 0 & 0 & 0\\\\ 0 & 0 & 0 & 0\\\\ 0 & 0 & 0 & 0 \\end{pmatrix} & \\begin{pmatrix} 0 & 0 & 0 & 0\\\\ 0 & 0 & 0 & 0\\\\ 0 & 0 & 0 & 0\\\\ 0 & 0 & 0 & 0 \\end{pmatrix}\\\\ \\begin{pmatrix} 0 & 0 & 0 & 0\\\\ 0 & 0 & 0 & 0\\\\ 0 & 0 & 0 & 0\\\\ 0 & 0 & 0 & 0 \\end{pmatrix} & \\begin{pmatrix} 0 & 0 & 0 & 0\\\\ 0 & 0 & 0 & 0\\\\ 0 & 0 & 0 & 0\\\\ 0 & 0 & 0 & 0 \\end{pmatrix} & \\begin{pmatrix} 0 & 0 & 0 & 0\\\\ 0 & 0 & 0 & 0\\\\ 0 & 0 & 0 & 0\\\\ 0 & 0 & 0 & 0 \\end{pmatrix} & \\begin{pmatrix} 0 & 0 & 0 & 0\\\\ 0 & 0 & 0 & 0\\\\ 0 & 0 & 0 & 0\\\\ 0 & 0 & 0 & 0 \\end{pmatrix} \\end{pmatrix},$$\n",
       "$$R_{ab}=\\begin{pmatrix} 0 & 0 & 0 & 0\\\\ 0 & 0 & 0 & 0\\\\ 0 & 0 & 0 & 0\\\\ 0 & 0 & 0 & 0 \\end{pmatrix},\\quad R=0.$$"
      ],
      "text/plain": [
       "# Riemann geometry\n",
       "## x: [t, x, y, z]\n",
       "## metric: [[-1, 0, 0, 0], [0, 1, 0, 0], [0, 0, 1, 0], [0, 0, 0, 1]]\n",
       "## inverse metric: [[-1, 0, 0, 0], [0, 1, 0, 0], [0, 0, 1, 0], [0, 0, 0, 1]]\n",
       "## Christoffel symbols: [[[0, 0, 0, 0], [0, 0, 0, 0], [0, 0, 0, 0], [0, 0, 0, 0]], [[0, 0, 0, 0], [0, 0, 0, 0], [0, 0, 0, 0], [0, 0, 0, 0]], [[0, 0, 0, 0], [0, 0, 0, 0], [0, 0, 0, 0], [0, 0, 0, 0]], [[0, 0, 0, 0], [0, 0, 0, 0], [0, 0, 0, 0], [0, 0, 0, 0]]]\n",
       "## Riemann tensor: [[[[0, 0, 0, 0], [0, 0, 0, 0], [0, 0, 0, 0], [0, 0, 0, 0]], [[0, 0, 0, 0], [0, 0, 0, 0], [0, 0, 0, 0], [0, 0, 0, 0]], [[0, 0, 0, 0], [0, 0, 0, 0], [0, 0, 0, 0], [0, 0, 0, 0]], [[0, 0, 0, 0], [0, 0, 0, 0], [0, 0, 0, 0], [0, 0, 0, 0]]], [[[0, 0, 0, 0], [0, 0, 0, 0], [0, 0, 0, 0], [0, 0, 0, 0]], [[0, 0, 0, 0], [0, 0, 0, 0], [0, 0, 0, 0], [0, 0, 0, 0]], [[0, 0, 0, 0], [0, 0, 0, 0], [0, 0, 0, 0], [0, 0, 0, 0]], [[0, 0, 0, 0], [0, 0, 0, 0], [0, 0, 0, 0], [0, 0, 0, 0]]], [[[0, 0, 0, 0], [0, 0, 0, 0], [0, 0, 0, 0], [0, 0, 0, 0]], [[0, 0, 0, 0], [0, 0, 0, 0], [0, 0, 0, 0], [0, 0, 0, 0]], [[0, 0, 0, 0], [0, 0, 0, 0], [0, 0, 0, 0], [0, 0, 0, 0]], [[0, 0, 0, 0], [0, 0, 0, 0], [0, 0, 0, 0], [0, 0, 0, 0]]], [[[0, 0, 0, 0], [0, 0, 0, 0], [0, 0, 0, 0], [0, 0, 0, 0]], [[0, 0, 0, 0], [0, 0, 0, 0], [0, 0, 0, 0], [0, 0, 0, 0]], [[0, 0, 0, 0], [0, 0, 0, 0], [0, 0, 0, 0], [0, 0, 0, 0]], [[0, 0, 0, 0], [0, 0, 0, 0], [0, 0, 0, 0], [0, 0, 0, 0]]]]\n",
       "## Ricci tensor: [[0, 0, 0, 0], [0, 0, 0, 0], [0, 0, 0, 0], [0, 0, 0, 0]]\n",
       "## Ricci scalar: 0"
      ]
     },
     "execution_count": 15,
     "metadata": {},
     "output_type": "execute_result"
    }
   ],
   "source": [
    "t, x, y, z = sp.symbols('t x y z')\n",
    "coords = sp.Matrix([t, x, y, z])\n",
    "metric = sp.diag(-1, 1, 1, 1)\n",
    "geo = RiemannGeometry(metric, coords)\n",
    "geo.calculate()\n",
    "geo"
   ]
  },
  {
   "cell_type": "markdown",
   "id": "c0b371bd-de51-4486-8b50-155aa2ce9cee",
   "metadata": {},
   "source": [
    "#### Spheical coordinate\n",
    "Minkowski metric is the metric in flat spacetime, the line element in spherical coordinate is given by\n",
    "$$\n",
    "ds^2 = -dt^2 + dr^2 + r^2 d\\theta^2 + r^2 \\sin^2\\theta d\\varphi\n",
    "$$\n",
    "then we can calculate the ***Christoffel symbols***, ***Riemann tensor***, ***Ricci tensor*** and ***Ricci scalar***.\n",
    "\n",
    "> Here using Geometrized unit system $G=c=1$."
   ]
  },
  {
   "cell_type": "code",
   "execution_count": 16,
   "id": "d9b74c05-6a31-4e3d-95a5-3406ff9db938",
   "metadata": {},
   "outputs": [
    {
     "name": "stdout",
     "output_type": "stream",
     "text": [
      "Calculating ...\n"
     ]
    },
    {
     "name": "stderr",
     "output_type": "stream",
     "text": [
      "Christoffel Symbols : 100%|███████████████████████████████████| 4/4 [00:00<00:00, 65.89it/s]\n",
      "Riemann Tensor      : 100%|███████████████████████████████████| 4/4 [00:00<00:00, 67.29it/s]\n",
      "Ricci Tensor        : 100%|█████████████████████████████████| 4/4 [00:00<00:00, 3629.86it/s]\n",
      "Ricci Scalar        : 100%|████████████████████████████████| 4/4 [00:00<00:00, 39475.80it/s]\n"
     ]
    },
    {
     "data": {
      "text/latex": [
       "$$x^{a}=\\begin{pmatrix}t\\\\r\\\\\\theta\\\\\\varphi\\end{pmatrix},\\quad g_{ab}=\\begin{pmatrix} 1 & 0 & 0 & 0\\\\ 0 & -1 & 0 & 0\\\\ 0 & 0 & - r^{2} & 0\\\\ 0 & 0 & 0 & - r^{2} \\sin^{2}{\\left(\\theta \\right)} \\end{pmatrix},\\quad g^{ab}=\\begin{pmatrix} 1 & 0 & 0 & 0\\\\ 0 & -1 & 0 & 0\\\\ 0 & 0 & - \\frac{1}{r^{2}} & 0\\\\ 0 & 0 & 0 & - \\frac{1}{r^{2} \\sin^{2}{\\left(\\theta \\right)}} \\end{pmatrix},$$\n",
       "$${\\Gamma^{a}}_{bc}=\\begin{pmatrix} \\begin{pmatrix} 0 & 0 & 0 & 0\\\\ 0 & 0 & 0 & 0\\\\ 0 & 0 & 0 & 0\\\\ 0 & 0 & 0 & 0 \\end{pmatrix} & \\begin{pmatrix} 0 & 0 & 0 & 0\\\\ 0 & 0 & 0 & 0\\\\ 0 & 0 & - r & 0\\\\ 0 & 0 & 0 & - r \\sin^{2}{\\left(\\theta \\right)} \\end{pmatrix} & \\begin{pmatrix} 0 & 0 & 0 & 0\\\\ 0 & 0 & \\frac{1}{r} & 0\\\\ 0 & \\frac{1}{r} & 0 & 0\\\\ 0 & 0 & 0 & - \\sin{\\left(\\theta \\right)} \\cos{\\left(\\theta \\right)} \\end{pmatrix} & \\begin{pmatrix} 0 & 0 & 0 & 0\\\\ 0 & 0 & 0 & \\frac{1}{r}\\\\ 0 & 0 & 0 & \\frac{1}{\\tan{\\left(\\theta \\right)}}\\\\ 0 & \\frac{1}{r} & \\frac{1}{\\tan{\\left(\\theta \\right)}} & 0 \\end{pmatrix} \\end{pmatrix},$$\n",
       "$${R^{a}}_{bcd}=\\begin{pmatrix} \\begin{pmatrix} 0 & 0 & 0 & 0\\\\ 0 & 0 & 0 & 0\\\\ 0 & 0 & 0 & 0\\\\ 0 & 0 & 0 & 0 \\end{pmatrix} & \\begin{pmatrix} 0 & 0 & 0 & 0\\\\ 0 & 0 & 0 & 0\\\\ 0 & 0 & 0 & 0\\\\ 0 & 0 & 0 & 0 \\end{pmatrix} & \\begin{pmatrix} 0 & 0 & 0 & 0\\\\ 0 & 0 & 0 & 0\\\\ 0 & 0 & 0 & 0\\\\ 0 & 0 & 0 & 0 \\end{pmatrix} & \\begin{pmatrix} 0 & 0 & 0 & 0\\\\ 0 & 0 & 0 & 0\\\\ 0 & 0 & 0 & 0\\\\ 0 & 0 & 0 & 0 \\end{pmatrix}\\\\ \\begin{pmatrix} 0 & 0 & 0 & 0\\\\ 0 & 0 & 0 & 0\\\\ 0 & 0 & 0 & 0\\\\ 0 & 0 & 0 & 0 \\end{pmatrix} & \\begin{pmatrix} 0 & 0 & 0 & 0\\\\ 0 & 0 & 0 & 0\\\\ 0 & 0 & 0 & 0\\\\ 0 & 0 & 0 & 0 \\end{pmatrix} & \\begin{pmatrix} 0 & 0 & 0 & 0\\\\ 0 & 0 & 0 & 0\\\\ 0 & 0 & 0 & 0\\\\ 0 & 0 & 0 & 0 \\end{pmatrix} & \\begin{pmatrix} 0 & 0 & 0 & 0\\\\ 0 & 0 & 0 & 0\\\\ 0 & 0 & 0 & 0\\\\ 0 & 0 & 0 & 0 \\end{pmatrix}\\\\ \\begin{pmatrix} 0 & 0 & 0 & 0\\\\ 0 & 0 & 0 & 0\\\\ 0 & 0 & 0 & 0\\\\ 0 & 0 & 0 & 0 \\end{pmatrix} & \\begin{pmatrix} 0 & 0 & 0 & 0\\\\ 0 & 0 & 0 & 0\\\\ 0 & 0 & 0 & 0\\\\ 0 & 0 & 0 & 0 \\end{pmatrix} & \\begin{pmatrix} 0 & 0 & 0 & 0\\\\ 0 & 0 & 0 & 0\\\\ 0 & 0 & 0 & 0\\\\ 0 & 0 & 0 & 0 \\end{pmatrix} & \\begin{pmatrix} 0 & 0 & 0 & 0\\\\ 0 & 0 & 0 & 0\\\\ 0 & 0 & 0 & 0\\\\ 0 & 0 & 0 & 0 \\end{pmatrix}\\\\ \\begin{pmatrix} 0 & 0 & 0 & 0\\\\ 0 & 0 & 0 & 0\\\\ 0 & 0 & 0 & 0\\\\ 0 & 0 & 0 & 0 \\end{pmatrix} & \\begin{pmatrix} 0 & 0 & 0 & 0\\\\ 0 & 0 & 0 & 0\\\\ 0 & 0 & 0 & 0\\\\ 0 & 0 & 0 & 0 \\end{pmatrix} & \\begin{pmatrix} 0 & 0 & 0 & 0\\\\ 0 & 0 & 0 & 0\\\\ 0 & 0 & 0 & 0\\\\ 0 & 0 & 0 & 0 \\end{pmatrix} & \\begin{pmatrix} 0 & 0 & 0 & 0\\\\ 0 & 0 & 0 & 0\\\\ 0 & 0 & 0 & 0\\\\ 0 & 0 & 0 & 0 \\end{pmatrix} \\end{pmatrix},$$\n",
       "$$R_{ab}=\\begin{pmatrix} 0 & 0 & 0 & 0\\\\ 0 & 0 & 0 & 0\\\\ 0 & 0 & 0 & 0\\\\ 0 & 0 & 0 & 0 \\end{pmatrix},\\quad R=0.$$"
      ],
      "text/plain": [
       "# Riemann geometry\n",
       "## x: [t, r, theta, varphi]\n",
       "## metric: [[1, 0, 0, 0], [0, -1, 0, 0], [0, 0, -r**2, 0], [0, 0, 0, -r**2*sin(theta)**2]]\n",
       "## inverse metric: [[1, 0, 0, 0], [0, -1, 0, 0], [0, 0, -1/r**2, 0], [0, 0, 0, -1/(r**2*sin(theta)**2)]]\n",
       "## Christoffel symbols: [[[0, 0, 0, 0], [0, 0, 0, 0], [0, 0, 0, 0], [0, 0, 0, 0]], [[0, 0, 0, 0], [0, 0, 0, 0], [0, 0, -r, 0], [0, 0, 0, -r*sin(theta)**2]], [[0, 0, 0, 0], [0, 0, 1/r, 0], [0, 1/r, 0, 0], [0, 0, 0, -sin(theta)*cos(theta)]], [[0, 0, 0, 0], [0, 0, 0, 1/r], [0, 0, 0, 1/tan(theta)], [0, 1/r, 1/tan(theta), 0]]]\n",
       "## Riemann tensor: [[[[0, 0, 0, 0], [0, 0, 0, 0], [0, 0, 0, 0], [0, 0, 0, 0]], [[0, 0, 0, 0], [0, 0, 0, 0], [0, 0, 0, 0], [0, 0, 0, 0]], [[0, 0, 0, 0], [0, 0, 0, 0], [0, 0, 0, 0], [0, 0, 0, 0]], [[0, 0, 0, 0], [0, 0, 0, 0], [0, 0, 0, 0], [0, 0, 0, 0]]], [[[0, 0, 0, 0], [0, 0, 0, 0], [0, 0, 0, 0], [0, 0, 0, 0]], [[0, 0, 0, 0], [0, 0, 0, 0], [0, 0, 0, 0], [0, 0, 0, 0]], [[0, 0, 0, 0], [0, 0, 0, 0], [0, 0, 0, 0], [0, 0, 0, 0]], [[0, 0, 0, 0], [0, 0, 0, 0], [0, 0, 0, 0], [0, 0, 0, 0]]], [[[0, 0, 0, 0], [0, 0, 0, 0], [0, 0, 0, 0], [0, 0, 0, 0]], [[0, 0, 0, 0], [0, 0, 0, 0], [0, 0, 0, 0], [0, 0, 0, 0]], [[0, 0, 0, 0], [0, 0, 0, 0], [0, 0, 0, 0], [0, 0, 0, 0]], [[0, 0, 0, 0], [0, 0, 0, 0], [0, 0, 0, 0], [0, 0, 0, 0]]], [[[0, 0, 0, 0], [0, 0, 0, 0], [0, 0, 0, 0], [0, 0, 0, 0]], [[0, 0, 0, 0], [0, 0, 0, 0], [0, 0, 0, 0], [0, 0, 0, 0]], [[0, 0, 0, 0], [0, 0, 0, 0], [0, 0, 0, 0], [0, 0, 0, 0]], [[0, 0, 0, 0], [0, 0, 0, 0], [0, 0, 0, 0], [0, 0, 0, 0]]]]\n",
       "## Ricci tensor: [[0, 0, 0, 0], [0, 0, 0, 0], [0, 0, 0, 0], [0, 0, 0, 0]]\n",
       "## Ricci scalar: 0"
      ]
     },
     "execution_count": 16,
     "metadata": {},
     "output_type": "execute_result"
    }
   ],
   "source": [
    "t, r, theta, phi = sp.symbols('t r theta varphi')\n",
    "coords = sp.Matrix([t, r, theta, phi])\n",
    "metric = sp.diag(1, -1, -r**2, -r**2*(sp.sin(theta))**2)\n",
    "geo = RiemannGeometry(metric, coords)\n",
    "geo.calculate()\n",
    "geo"
   ]
  },
  {
   "cell_type": "markdown",
   "id": "420c7eeb-54c3-4b49-8aa1-1f694782f7a3",
   "metadata": {},
   "source": [
    "### Curved manifolds in $\\mathbb{R}^{3+1}$"
   ]
  },
  {
   "cell_type": "markdown",
   "id": "927d1f80-fc8f-417e-9a30-7c87691f7e96",
   "metadata": {},
   "source": [
    "#### Schwarzschild\n",
    "One of the solution for Einstein field equations, is Schwarzschild metric, where the line element is given by\n",
    "$$\n",
    "ds^2 = \\left(1 - \\frac{r_s}{r}\\right) dt^2 - \\left(1 - \\frac{r_s}{r}\\right)^{-1} dr^2 - r^2 d\\theta^2 - r^2 \\sin^2\\theta d\\varphi\n",
    "$$\n",
    "then we can calculate the ***Christoffel symbols***, ***Riemann tensor***, ***Ricci tensor*** and ***Ricci scalar***.\n",
    "\n",
    "> Here using Geometrized unit system $G=c=1$."
   ]
  },
  {
   "cell_type": "code",
   "execution_count": 11,
   "id": "cf11e58a-3b60-47ed-a82b-45d6cb7078cc",
   "metadata": {},
   "outputs": [
    {
     "name": "stdout",
     "output_type": "stream",
     "text": [
      "Calculating ...\n"
     ]
    },
    {
     "name": "stderr",
     "output_type": "stream",
     "text": [
      "Christoffel Symbols : 100%|███████████████████████████████████| 4/4 [00:00<00:00, 40.57it/s]\n",
      "Riemann Tensor      : 100%|███████████████████████████████████| 4/4 [00:00<00:00, 12.59it/s]\n",
      "Ricci Tensor        : 100%|█████████████████████████████████| 4/4 [00:00<00:00, 1763.79it/s]\n",
      "Ricci Scalar        : 100%|████████████████████████████████| 4/4 [00:00<00:00, 22610.80it/s]\n"
     ]
    },
    {
     "data": {
      "text/latex": [
       "$$x^{a}=\\begin{pmatrix}t\\\\r\\\\\\theta\\\\\\varphi\\end{pmatrix},\\quad g_{ab}=\\begin{pmatrix} 1 - \\frac{r_{s}}{r} & 0 & 0 & 0\\\\ 0 & - \\frac{1}{1 - \\frac{r_{s}}{r}} & 0 & 0\\\\ 0 & 0 & - r^{2} & 0\\\\ 0 & 0 & 0 & - r^{2} \\sin^{2}{\\left(\\theta \\right)} \\end{pmatrix},\\quad g^{ab}=\\begin{pmatrix} \\frac{1}{1 - \\frac{r_{s}}{r}} & 0 & 0 & 0\\\\ 0 & -1 + \\frac{r_{s}}{r} & 0 & 0\\\\ 0 & 0 & - \\frac{1}{r^{2}} & 0\\\\ 0 & 0 & 0 & - \\frac{1}{r^{2} \\sin^{2}{\\left(\\theta \\right)}} \\end{pmatrix},$$\n",
       "$${\\Gamma^{a}}_{bc}=\\begin{pmatrix} \\begin{pmatrix} 0 & \\frac{r_{s}}{2 r \\left(r - r_{s}\\right)} & 0 & 0\\\\ \\frac{r_{s}}{2 r \\left(r - r_{s}\\right)} & 0 & 0 & 0\\\\ 0 & 0 & 0 & 0\\\\ 0 & 0 & 0 & 0 \\end{pmatrix} & \\begin{pmatrix} \\frac{r_{s} \\left(r - r_{s}\\right)}{2 r^{3}} & 0 & 0 & 0\\\\ 0 & - \\frac{r_{s}}{2 r \\left(r - r_{s}\\right)} & 0 & 0\\\\ 0 & 0 & - r + r_{s} & 0\\\\ 0 & 0 & 0 & \\left(- r + r_{s}\\right) \\sin^{2}{\\left(\\theta \\right)} \\end{pmatrix} & \\begin{pmatrix} 0 & 0 & 0 & 0\\\\ 0 & 0 & \\frac{1}{r} & 0\\\\ 0 & \\frac{1}{r} & 0 & 0\\\\ 0 & 0 & 0 & - \\sin{\\left(\\theta \\right)} \\cos{\\left(\\theta \\right)} \\end{pmatrix} & \\begin{pmatrix} 0 & 0 & 0 & 0\\\\ 0 & 0 & 0 & \\frac{1}{r}\\\\ 0 & 0 & 0 & \\frac{1}{\\tan{\\left(\\theta \\right)}}\\\\ 0 & \\frac{1}{r} & \\frac{1}{\\tan{\\left(\\theta \\right)}} & 0 \\end{pmatrix} \\end{pmatrix},$$\n",
       "$${R^{a}}_{bcd}=\\begin{pmatrix} \\begin{pmatrix} 0 & 0 & 0 & 0\\\\ 0 & 0 & 0 & 0\\\\ 0 & 0 & 0 & 0\\\\ 0 & 0 & 0 & 0 \\end{pmatrix} & \\begin{pmatrix} 0 & \\frac{r_{s}}{r^{2} \\left(r - r_{s}\\right)} & 0 & 0\\\\ - \\frac{r_{s}}{r^{2} \\left(r - r_{s}\\right)} & 0 & 0 & 0\\\\ 0 & 0 & 0 & 0\\\\ 0 & 0 & 0 & 0 \\end{pmatrix} & \\begin{pmatrix} 0 & 0 & - \\frac{r_{s}}{2 r} & 0\\\\ 0 & 0 & 0 & 0\\\\ \\frac{r_{s}}{2 r} & 0 & 0 & 0\\\\ 0 & 0 & 0 & 0 \\end{pmatrix} & \\begin{pmatrix} 0 & 0 & 0 & - \\frac{r_{s} \\sin^{2}{\\left(\\theta \\right)}}{2 r}\\\\ 0 & 0 & 0 & 0\\\\ 0 & 0 & 0 & 0\\\\ \\frac{r_{s} \\sin^{2}{\\left(\\theta \\right)}}{2 r} & 0 & 0 & 0 \\end{pmatrix}\\\\ \\begin{pmatrix} 0 & \\frac{r_{s} \\left(r - r_{s}\\right)}{r^{4}} & 0 & 0\\\\ \\frac{r_{s} \\left(- r + r_{s}\\right)}{r^{4}} & 0 & 0 & 0\\\\ 0 & 0 & 0 & 0\\\\ 0 & 0 & 0 & 0 \\end{pmatrix} & \\begin{pmatrix} 0 & 0 & 0 & 0\\\\ 0 & 0 & 0 & 0\\\\ 0 & 0 & 0 & 0\\\\ 0 & 0 & 0 & 0 \\end{pmatrix} & \\begin{pmatrix} 0 & 0 & 0 & 0\\\\ 0 & 0 & - \\frac{r_{s}}{2 r} & 0\\\\ 0 & \\frac{r_{s}}{2 r} & 0 & 0\\\\ 0 & 0 & 0 & 0 \\end{pmatrix} & \\begin{pmatrix} 0 & 0 & 0 & 0\\\\ 0 & 0 & 0 & - \\frac{r_{s} \\sin^{2}{\\left(\\theta \\right)}}{2 r}\\\\ 0 & 0 & 0 & 0\\\\ 0 & \\frac{r_{s} \\sin^{2}{\\left(\\theta \\right)}}{2 r} & 0 & 0 \\end{pmatrix}\\\\ \\begin{pmatrix} 0 & 0 & \\frac{r_{s} \\left(- r + r_{s}\\right)}{2 r^{4}} & 0\\\\ 0 & 0 & 0 & 0\\\\ \\frac{r_{s} \\left(r - r_{s}\\right)}{2 r^{4}} & 0 & 0 & 0\\\\ 0 & 0 & 0 & 0 \\end{pmatrix} & \\begin{pmatrix} 0 & 0 & 0 & 0\\\\ 0 & 0 & \\frac{r_{s}}{2 r^{2} \\left(r - r_{s}\\right)} & 0\\\\ 0 & - \\frac{r_{s}}{2 r^{2} \\left(r - r_{s}\\right)} & 0 & 0\\\\ 0 & 0 & 0 & 0 \\end{pmatrix} & \\begin{pmatrix} 0 & 0 & 0 & 0\\\\ 0 & 0 & 0 & 0\\\\ 0 & 0 & 0 & 0\\\\ 0 & 0 & 0 & 0 \\end{pmatrix} & \\begin{pmatrix} 0 & 0 & 0 & 0\\\\ 0 & 0 & 0 & 0\\\\ 0 & 0 & 0 & \\frac{r_{s} \\sin^{2}{\\left(\\theta \\right)}}{r}\\\\ 0 & 0 & - \\frac{r_{s} \\sin^{2}{\\left(\\theta \\right)}}{r} & 0 \\end{pmatrix}\\\\ \\begin{pmatrix} 0 & 0 & 0 & \\frac{r_{s} \\left(- r + r_{s}\\right)}{2 r^{4}}\\\\ 0 & 0 & 0 & 0\\\\ 0 & 0 & 0 & 0\\\\ \\frac{r_{s} \\left(r - r_{s}\\right)}{2 r^{4}} & 0 & 0 & 0 \\end{pmatrix} & \\begin{pmatrix} 0 & 0 & 0 & 0\\\\ 0 & 0 & 0 & \\frac{r_{s}}{2 r^{2} \\left(r - r_{s}\\right)}\\\\ 0 & 0 & 0 & 0\\\\ 0 & - \\frac{r_{s}}{2 r^{2} \\left(r - r_{s}\\right)} & 0 & 0 \\end{pmatrix} & \\begin{pmatrix} 0 & 0 & 0 & 0\\\\ 0 & 0 & 0 & 0\\\\ 0 & 0 & 0 & - \\frac{r_{s}}{r}\\\\ 0 & 0 & \\frac{r_{s}}{r} & 0 \\end{pmatrix} & \\begin{pmatrix} 0 & 0 & 0 & 0\\\\ 0 & 0 & 0 & 0\\\\ 0 & 0 & 0 & 0\\\\ 0 & 0 & 0 & 0 \\end{pmatrix} \\end{pmatrix},$$\n",
       "$$R_{ab}=\\begin{pmatrix} 0 & 0 & 0 & 0\\\\ 0 & 0 & 0 & 0\\\\ 0 & 0 & 0 & 0\\\\ 0 & 0 & 0 & 0 \\end{pmatrix},\\quad R=0.$$"
      ],
      "text/plain": [
       "# Riemann geometry\n",
       "## x: [t, r, theta, varphi]\n",
       "## metric: [[1 - r_s/r, 0, 0, 0], [0, -1/(1 - r_s/r), 0, 0], [0, 0, -r**2, 0], [0, 0, 0, -r**2*sin(theta)**2]]\n",
       "## inverse metric: [[1/(1 - r_s/r), 0, 0, 0], [0, -1 + r_s/r, 0, 0], [0, 0, -1/r**2, 0], [0, 0, 0, -1/(r**2*sin(theta)**2)]]\n",
       "## Christoffel symbols: [[[0, r_s/(2*r*(r - r_s)), 0, 0], [r_s/(2*r*(r - r_s)), 0, 0, 0], [0, 0, 0, 0], [0, 0, 0, 0]], [[r_s*(r - r_s)/(2*r**3), 0, 0, 0], [0, -r_s/(2*r*(r - r_s)), 0, 0], [0, 0, -r + r_s, 0], [0, 0, 0, (-r + r_s)*sin(theta)**2]], [[0, 0, 0, 0], [0, 0, 1/r, 0], [0, 1/r, 0, 0], [0, 0, 0, -sin(theta)*cos(theta)]], [[0, 0, 0, 0], [0, 0, 0, 1/r], [0, 0, 0, 1/tan(theta)], [0, 1/r, 1/tan(theta), 0]]]\n",
       "## Riemann tensor: [[[[0, 0, 0, 0], [0, 0, 0, 0], [0, 0, 0, 0], [0, 0, 0, 0]], [[0, r_s/(r**2*(r - r_s)), 0, 0], [-r_s/(r**2*(r - r_s)), 0, 0, 0], [0, 0, 0, 0], [0, 0, 0, 0]], [[0, 0, -r_s/(2*r), 0], [0, 0, 0, 0], [r_s/(2*r), 0, 0, 0], [0, 0, 0, 0]], [[0, 0, 0, -r_s*sin(theta)**2/(2*r)], [0, 0, 0, 0], [0, 0, 0, 0], [r_s*sin(theta)**2/(2*r), 0, 0, 0]]], [[[0, r_s*(r - r_s)/r**4, 0, 0], [r_s*(-r + r_s)/r**4, 0, 0, 0], [0, 0, 0, 0], [0, 0, 0, 0]], [[0, 0, 0, 0], [0, 0, 0, 0], [0, 0, 0, 0], [0, 0, 0, 0]], [[0, 0, 0, 0], [0, 0, -r_s/(2*r), 0], [0, r_s/(2*r), 0, 0], [0, 0, 0, 0]], [[0, 0, 0, 0], [0, 0, 0, -r_s*sin(theta)**2/(2*r)], [0, 0, 0, 0], [0, r_s*sin(theta)**2/(2*r), 0, 0]]], [[[0, 0, r_s*(-r + r_s)/(2*r**4), 0], [0, 0, 0, 0], [r_s*(r - r_s)/(2*r**4), 0, 0, 0], [0, 0, 0, 0]], [[0, 0, 0, 0], [0, 0, r_s/(2*r**2*(r - r_s)), 0], [0, -r_s/(2*r**2*(r - r_s)), 0, 0], [0, 0, 0, 0]], [[0, 0, 0, 0], [0, 0, 0, 0], [0, 0, 0, 0], [0, 0, 0, 0]], [[0, 0, 0, 0], [0, 0, 0, 0], [0, 0, 0, r_s*sin(theta)**2/r], [0, 0, -r_s*sin(theta)**2/r, 0]]], [[[0, 0, 0, r_s*(-r + r_s)/(2*r**4)], [0, 0, 0, 0], [0, 0, 0, 0], [r_s*(r - r_s)/(2*r**4), 0, 0, 0]], [[0, 0, 0, 0], [0, 0, 0, r_s/(2*r**2*(r - r_s))], [0, 0, 0, 0], [0, -r_s/(2*r**2*(r - r_s)), 0, 0]], [[0, 0, 0, 0], [0, 0, 0, 0], [0, 0, 0, -r_s/r], [0, 0, r_s/r, 0]], [[0, 0, 0, 0], [0, 0, 0, 0], [0, 0, 0, 0], [0, 0, 0, 0]]]]\n",
       "## Ricci tensor: [[0, 0, 0, 0], [0, 0, 0, 0], [0, 0, 0, 0], [0, 0, 0, 0]]\n",
       "## Ricci scalar: 0"
      ]
     },
     "execution_count": 11,
     "metadata": {},
     "output_type": "execute_result"
    }
   ],
   "source": [
    "t, r, theta, phi = sp.symbols('t r theta varphi')\n",
    "rs = sp.symbols('r_s')\n",
    "coords = sp.Matrix([t, r, theta, phi])\n",
    "metric = sp.diag((1-rs/r), -1/(1-rs/r), -r**2, -r**2*(sp.sin(theta))**2)\n",
    "geo = RiemannGeometry(metric, coords)\n",
    "geo.calculate()\n",
    "geo"
   ]
  },
  {
   "cell_type": "markdown",
   "id": "2d88fcac-83df-4251-a06c-c63c78297b01",
   "metadata": {},
   "source": [
    "#### Kerr\n",
    "One of the solution for Einstein field equations, which corresponds to the gravitational field of a uncharged, rotating, spherically symmetric body, is Kerr metric, and the line element is given by\n",
    "$$\n",
    "ds^2 = -\\left(1-\\frac{r_{s}r}{\\Sigma}\\right)dt^2+\\frac{\\Sigma}{\\Delta}dr^2+\\Sigma d\\theta^2+\\left(r^2+a^2+\\frac{r_{s}ra^2}{\\Sigma}\\sin^2\\theta \\right)\\sin^2\\theta \\ d\\phi^2-{\\frac{2r_{s}ra\\sin^2\\theta}{\\Sigma}}\\,dt\\,d\\phi\n",
    "$$\n",
    "which is in *Boyer-Lindquist coordinates*, then we can calculate the ***Christoffel symbols***, ***Riemann tensor***, ***Ricci tensor*** and ***Ricci scalar***.\n",
    "\n",
    "> Here using Geometrized unit system $G=c=1$."
   ]
  },
  {
   "cell_type": "code",
   "execution_count": 24,
   "id": "99a27898-5d4f-48ee-bbf4-2273b204f4aa",
   "metadata": {},
   "outputs": [],
   "source": [
    "t, r, theta, phi = sp.symbols('t r theta varphi')\n",
    "rs, J, M = sp.symbols('r_s J, M')\n",
    "coords = sp.Matrix([t, r, theta, phi])\n",
    "a = J/M\n",
    "mu = r**2 + a**2\n",
    "Sigma = r**2 + a**2 * sp.cos(theta)**2\n",
    "Delta = r**2 + a**2 - rs*r\n",
    "\n",
    "metric = sp.Matrix([\n",
    "    [-(1-rs*r/Sigma),             0,           0,     -rs*r*a*sp.sin(theta)**2/Sigma],\n",
    "    [0,                           Sigma/Delta, 0,     0],\n",
    "    [0,                           0,           Sigma, 0],\n",
    "    [-rs*r*a*sp.sin(theta)**2/Sigma, 0,           0,     (mu+rs*r*a**2*sp.sin(theta)**2/Sigma)*sp.sin(theta)**2]\n",
    "])\n",
    "# WARM: !!! It would take many time to calcuate!!!!!\n",
    "# geo = RiemannGeometry(metric, coords)\n",
    "# geo.calculate()\n",
    "# geo"
   ]
  },
  {
   "cell_type": "markdown",
   "id": "6f2e1948-01da-48ba-a08e-d40b5f5b6056",
   "metadata": {},
   "source": [
    "#### Reissner-Nordström\n",
    "One of the solution for Einstein field equations, which corresponds to the gravitational field of a charged, non-rotating, spherically symmetric body, is Weak-Field metric, and the line element is given by\n",
    "$$\n",
    "ds^2 = \\left(1 - \\frac{r_s}{r} + \\frac{r_Q^2}{r^2}\\right)dt^2 - \\left(1 - \\frac{r_s}{r} + \\frac{r_Q^2}{r^2}\\right) dr^2 - d\\theta^2 - r^2 \\sin^2\\theta d\\varphi,\n",
    "$$\n",
    "where $\\Phi$ is a function of $r$ (usual Newtonian gravitational potential $\\Phi=-GM/r$), then we can calculate the ***Christoffel symbols***, ***Riemann tensor***, ***Ricci tensor*** and ***Ricci scalar***.\n",
    "\n",
    "> Here using Geometrized unit system $G=c=1$."
   ]
  },
  {
   "cell_type": "code",
   "execution_count": 12,
   "id": "94f31de5-9438-44ef-abdf-9aa77ea3cc11",
   "metadata": {},
   "outputs": [
    {
     "name": "stdout",
     "output_type": "stream",
     "text": [
      "Calculating ...\n"
     ]
    },
    {
     "name": "stderr",
     "output_type": "stream",
     "text": [
      "Christoffel Symbols : 100%|███████████████████████████████████| 4/4 [00:00<00:00, 22.81it/s]\n",
      "Riemann Tensor      : 100%|███████████████████████████████████| 4/4 [00:00<00:00,  4.55it/s]\n",
      "Ricci Tensor        : 100%|███████████████████████████████████| 4/4 [00:00<00:00, 59.79it/s]\n",
      "Ricci Scalar        : 100%|████████████████████████████████| 4/4 [00:00<00:00, 11732.32it/s]\n"
     ]
    },
    {
     "data": {
      "text/latex": [
       "$$x^{a}=\\begin{pmatrix}t\\\\r\\\\\\theta\\\\\\varphi\\end{pmatrix},\\quad g_{ab}=\\begin{pmatrix} 1 - \\frac{r_{s}}{r} + \\frac{r_{Q}^{2}}{r^{2}} & 0 & 0 & 0\\\\ 0 & - \\frac{1}{1 - \\frac{r_{s}}{r} + \\frac{r_{Q}^{2}}{r^{2}}} & 0 & 0\\\\ 0 & 0 & - r^{2} & 0\\\\ 0 & 0 & 0 & - r^{2} \\sin^{2}{\\left(\\theta \\right)} \\end{pmatrix},\\quad g^{ab}=\\begin{pmatrix} \\frac{r^{2}}{r^{2} - r r_{s} + r_{Q}^{2}} & 0 & 0 & 0\\\\ 0 & \\frac{- r^{2} + r r_{s} - r_{Q}^{2}}{r^{2}} & 0 & 0\\\\ 0 & 0 & - \\frac{1}{r^{2}} & 0\\\\ 0 & 0 & 0 & - \\frac{1}{r^{2} \\sin^{2}{\\left(\\theta \\right)}} \\end{pmatrix},$$\n",
       "$${\\Gamma^{a}}_{bc}=\\begin{pmatrix} \\begin{pmatrix} 0 & \\frac{\\frac{r r_{s}}{2} - r_{Q}^{2}}{r \\left(r^{2} - r r_{s} + r_{Q}^{2}\\right)} & 0 & 0\\\\ \\frac{\\frac{r r_{s}}{2} - r_{Q}^{2}}{r \\left(r^{2} - r r_{s} + r_{Q}^{2}\\right)} & 0 & 0 & 0\\\\ 0 & 0 & 0 & 0\\\\ 0 & 0 & 0 & 0 \\end{pmatrix} & \\begin{pmatrix} \\frac{\\left(r r_{s} - 2 r_{Q}^{2}\\right) \\left(r^{2} - r r_{s} + r_{Q}^{2}\\right)}{2 r^{5}} & 0 & 0 & 0\\\\ 0 & \\frac{- \\frac{r r_{s}}{2} + r_{Q}^{2}}{r \\left(r^{2} - r r_{s} + r_{Q}^{2}\\right)} & 0 & 0\\\\ 0 & 0 & - r + r_{s} - \\frac{r_{Q}^{2}}{r} & 0\\\\ 0 & 0 & 0 & \\frac{\\left(- r^{2} + r r_{s} - r_{Q}^{2}\\right) \\sin^{2}{\\left(\\theta \\right)}}{r} \\end{pmatrix} & \\begin{pmatrix} 0 & 0 & 0 & 0\\\\ 0 & 0 & \\frac{1}{r} & 0\\\\ 0 & \\frac{1}{r} & 0 & 0\\\\ 0 & 0 & 0 & - \\sin{\\left(\\theta \\right)} \\cos{\\left(\\theta \\right)} \\end{pmatrix} & \\begin{pmatrix} 0 & 0 & 0 & 0\\\\ 0 & 0 & 0 & \\frac{1}{r}\\\\ 0 & 0 & 0 & \\frac{1}{\\tan{\\left(\\theta \\right)}}\\\\ 0 & \\frac{1}{r} & \\frac{1}{\\tan{\\left(\\theta \\right)}} & 0 \\end{pmatrix} \\end{pmatrix},$$\n",
       "$${R^{a}}_{bcd}=\\begin{pmatrix} \\begin{pmatrix} 0 & 0 & 0 & 0\\\\ 0 & 0 & 0 & 0\\\\ 0 & 0 & 0 & 0\\\\ 0 & 0 & 0 & 0 \\end{pmatrix} & \\begin{pmatrix} 0 & \\frac{r r_{s} - 3 r_{Q}^{2}}{r^{2} \\left(r^{2} - r r_{s} + r_{Q}^{2}\\right)} & 0 & 0\\\\ \\frac{- r r_{s} + 3 r_{Q}^{2}}{r^{2} \\left(r^{2} - r r_{s} + r_{Q}^{2}\\right)} & 0 & 0 & 0\\\\ 0 & 0 & 0 & 0\\\\ 0 & 0 & 0 & 0 \\end{pmatrix} & \\begin{pmatrix} 0 & 0 & \\frac{- \\frac{r r_{s}}{2} + r_{Q}^{2}}{r^{2}} & 0\\\\ 0 & 0 & 0 & 0\\\\ \\frac{\\frac{r r_{s}}{2} - r_{Q}^{2}}{r^{2}} & 0 & 0 & 0\\\\ 0 & 0 & 0 & 0 \\end{pmatrix} & \\begin{pmatrix} 0 & 0 & 0 & \\frac{\\left(- \\frac{r r_{s}}{2} + r_{Q}^{2}\\right) \\sin^{2}{\\left(\\theta \\right)}}{r^{2}}\\\\ 0 & 0 & 0 & 0\\\\ 0 & 0 & 0 & 0\\\\ \\frac{\\left(\\frac{r r_{s}}{2} - r_{Q}^{2}\\right) \\sin^{2}{\\left(\\theta \\right)}}{r^{2}} & 0 & 0 & 0 \\end{pmatrix}\\\\ \\begin{pmatrix} 0 & \\frac{r^{3} r_{s} - 3 r^{2} r_{Q}^{2} - r^{2} r_{s}^{2} + 4 r r_{Q}^{2} r_{s} - 3 r_{Q}^{4}}{r^{6}} & 0 & 0\\\\ \\frac{- r^{3} r_{s} + 3 r^{2} r_{Q}^{2} + r^{2} r_{s}^{2} - 4 r r_{Q}^{2} r_{s} + 3 r_{Q}^{4}}{r^{6}} & 0 & 0 & 0\\\\ 0 & 0 & 0 & 0\\\\ 0 & 0 & 0 & 0 \\end{pmatrix} & \\begin{pmatrix} 0 & 0 & 0 & 0\\\\ 0 & 0 & 0 & 0\\\\ 0 & 0 & 0 & 0\\\\ 0 & 0 & 0 & 0 \\end{pmatrix} & \\begin{pmatrix} 0 & 0 & 0 & 0\\\\ 0 & 0 & \\frac{- \\frac{r r_{s}}{2} + r_{Q}^{2}}{r^{2}} & 0\\\\ 0 & \\frac{\\frac{r r_{s}}{2} - r_{Q}^{2}}{r^{2}} & 0 & 0\\\\ 0 & 0 & 0 & 0 \\end{pmatrix} & \\begin{pmatrix} 0 & 0 & 0 & 0\\\\ 0 & 0 & 0 & \\frac{\\left(- \\frac{r r_{s}}{2} + r_{Q}^{2}\\right) \\sin^{2}{\\left(\\theta \\right)}}{r^{2}}\\\\ 0 & 0 & 0 & 0\\\\ 0 & \\frac{\\left(\\frac{r r_{s}}{2} - r_{Q}^{2}\\right) \\sin^{2}{\\left(\\theta \\right)}}{r^{2}} & 0 & 0 \\end{pmatrix}\\\\ \\begin{pmatrix} 0 & 0 & - \\frac{\\left(r r_{s} - 2 r_{Q}^{2}\\right) \\left(r^{2} - r r_{s} + r_{Q}^{2}\\right)}{2 r^{6}} & 0\\\\ 0 & 0 & 0 & 0\\\\ \\frac{\\left(r r_{s} - 2 r_{Q}^{2}\\right) \\left(r^{2} - r r_{s} + r_{Q}^{2}\\right)}{2 r^{6}} & 0 & 0 & 0\\\\ 0 & 0 & 0 & 0 \\end{pmatrix} & \\begin{pmatrix} 0 & 0 & 0 & 0\\\\ 0 & 0 & \\frac{\\frac{r r_{s}}{2} - r_{Q}^{2}}{r^{2} \\left(r^{2} - r r_{s} + r_{Q}^{2}\\right)} & 0\\\\ 0 & \\frac{- \\frac{r r_{s}}{2} + r_{Q}^{2}}{r^{2} \\left(r^{2} - r r_{s} + r_{Q}^{2}\\right)} & 0 & 0\\\\ 0 & 0 & 0 & 0 \\end{pmatrix} & \\begin{pmatrix} 0 & 0 & 0 & 0\\\\ 0 & 0 & 0 & 0\\\\ 0 & 0 & 0 & 0\\\\ 0 & 0 & 0 & 0 \\end{pmatrix} & \\begin{pmatrix} 0 & 0 & 0 & 0\\\\ 0 & 0 & 0 & 0\\\\ 0 & 0 & 0 & \\frac{\\left(r r_{s} - r_{Q}^{2}\\right) \\sin^{2}{\\left(\\theta \\right)}}{r^{2}}\\\\ 0 & 0 & \\frac{\\left(- r r_{s} + r_{Q}^{2}\\right) \\sin^{2}{\\left(\\theta \\right)}}{r^{2}} & 0 \\end{pmatrix}\\\\ \\begin{pmatrix} 0 & 0 & 0 & - \\frac{\\left(r r_{s} - 2 r_{Q}^{2}\\right) \\left(r^{2} - r r_{s} + r_{Q}^{2}\\right)}{2 r^{6}}\\\\ 0 & 0 & 0 & 0\\\\ 0 & 0 & 0 & 0\\\\ \\frac{\\left(r r_{s} - 2 r_{Q}^{2}\\right) \\left(r^{2} - r r_{s} + r_{Q}^{2}\\right)}{2 r^{6}} & 0 & 0 & 0 \\end{pmatrix} & \\begin{pmatrix} 0 & 0 & 0 & 0\\\\ 0 & 0 & 0 & \\frac{\\frac{r r_{s}}{2} - r_{Q}^{2}}{r^{2} \\left(r^{2} - r r_{s} + r_{Q}^{2}\\right)}\\\\ 0 & 0 & 0 & 0\\\\ 0 & \\frac{- \\frac{r r_{s}}{2} + r_{Q}^{2}}{r^{2} \\left(r^{2} - r r_{s} + r_{Q}^{2}\\right)} & 0 & 0 \\end{pmatrix} & \\begin{pmatrix} 0 & 0 & 0 & 0\\\\ 0 & 0 & 0 & 0\\\\ 0 & 0 & 0 & \\frac{- r r_{s} + r_{Q}^{2}}{r^{2}}\\\\ 0 & 0 & \\frac{r r_{s} - r_{Q}^{2}}{r^{2}} & 0 \\end{pmatrix} & \\begin{pmatrix} 0 & 0 & 0 & 0\\\\ 0 & 0 & 0 & 0\\\\ 0 & 0 & 0 & 0\\\\ 0 & 0 & 0 & 0 \\end{pmatrix} \\end{pmatrix},$$\n",
       "$$R_{ab}=\\begin{pmatrix} \\frac{r_{Q}^{2} \\left(r^{2} - r r_{s} + r_{Q}^{2}\\right)}{r^{6}} & 0 & 0 & 0\\\\ 0 & - \\frac{r_{Q}^{2}}{r^{2} \\left(r^{2} - r r_{s} + r_{Q}^{2}\\right)} & 0 & 0\\\\ 0 & 0 & \\frac{r_{Q}^{2}}{r^{2}} & 0\\\\ 0 & 0 & 0 & \\frac{r_{Q}^{2} \\sin^{2}{\\left(\\theta \\right)}}{r^{2}} \\end{pmatrix},\\quad R=0.$$"
      ],
      "text/plain": [
       "# Riemann geometry\n",
       "## x: [t, r, theta, varphi]\n",
       "## metric: [[1 - r_s/r + r_Q**2/r**2, 0, 0, 0], [0, -1/(1 - r_s/r + r_Q**2/r**2), 0, 0], [0, 0, -r**2, 0], [0, 0, 0, -r**2*sin(theta)**2]]\n",
       "## inverse metric: [[r**2/(r**2 - r*r_s + r_Q**2), 0, 0, 0], [0, (-r**2 + r*r_s - r_Q**2)/r**2, 0, 0], [0, 0, -1/r**2, 0], [0, 0, 0, -1/(r**2*sin(theta)**2)]]\n",
       "## Christoffel symbols: [[[0, (r*r_s/2 - r_Q**2)/(r*(r**2 - r*r_s + r_Q**2)), 0, 0], [(r*r_s/2 - r_Q**2)/(r*(r**2 - r*r_s + r_Q**2)), 0, 0, 0], [0, 0, 0, 0], [0, 0, 0, 0]], [[(r*r_s - 2*r_Q**2)*(r**2 - r*r_s + r_Q**2)/(2*r**5), 0, 0, 0], [0, (-r*r_s/2 + r_Q**2)/(r*(r**2 - r*r_s + r_Q**2)), 0, 0], [0, 0, -r + r_s - r_Q**2/r, 0], [0, 0, 0, (-r**2 + r*r_s - r_Q**2)*sin(theta)**2/r]], [[0, 0, 0, 0], [0, 0, 1/r, 0], [0, 1/r, 0, 0], [0, 0, 0, -sin(theta)*cos(theta)]], [[0, 0, 0, 0], [0, 0, 0, 1/r], [0, 0, 0, 1/tan(theta)], [0, 1/r, 1/tan(theta), 0]]]\n",
       "## Riemann tensor: [[[[0, 0, 0, 0], [0, 0, 0, 0], [0, 0, 0, 0], [0, 0, 0, 0]], [[0, (r*r_s - 3*r_Q**2)/(r**2*(r**2 - r*r_s + r_Q**2)), 0, 0], [(-r*r_s + 3*r_Q**2)/(r**2*(r**2 - r*r_s + r_Q**2)), 0, 0, 0], [0, 0, 0, 0], [0, 0, 0, 0]], [[0, 0, (-r*r_s/2 + r_Q**2)/r**2, 0], [0, 0, 0, 0], [(r*r_s/2 - r_Q**2)/r**2, 0, 0, 0], [0, 0, 0, 0]], [[0, 0, 0, (-r*r_s/2 + r_Q**2)*sin(theta)**2/r**2], [0, 0, 0, 0], [0, 0, 0, 0], [(r*r_s/2 - r_Q**2)*sin(theta)**2/r**2, 0, 0, 0]]], [[[0, (r**3*r_s - 3*r**2*r_Q**2 - r**2*r_s**2 + 4*r*r_Q**2*r_s - 3*r_Q**4)/r**6, 0, 0], [(-r**3*r_s + 3*r**2*r_Q**2 + r**2*r_s**2 - 4*r*r_Q**2*r_s + 3*r_Q**4)/r**6, 0, 0, 0], [0, 0, 0, 0], [0, 0, 0, 0]], [[0, 0, 0, 0], [0, 0, 0, 0], [0, 0, 0, 0], [0, 0, 0, 0]], [[0, 0, 0, 0], [0, 0, (-r*r_s/2 + r_Q**2)/r**2, 0], [0, (r*r_s/2 - r_Q**2)/r**2, 0, 0], [0, 0, 0, 0]], [[0, 0, 0, 0], [0, 0, 0, (-r*r_s/2 + r_Q**2)*sin(theta)**2/r**2], [0, 0, 0, 0], [0, (r*r_s/2 - r_Q**2)*sin(theta)**2/r**2, 0, 0]]], [[[0, 0, -(r*r_s - 2*r_Q**2)*(r**2 - r*r_s + r_Q**2)/(2*r**6), 0], [0, 0, 0, 0], [(r*r_s - 2*r_Q**2)*(r**2 - r*r_s + r_Q**2)/(2*r**6), 0, 0, 0], [0, 0, 0, 0]], [[0, 0, 0, 0], [0, 0, (r*r_s/2 - r_Q**2)/(r**2*(r**2 - r*r_s + r_Q**2)), 0], [0, (-r*r_s/2 + r_Q**2)/(r**2*(r**2 - r*r_s + r_Q**2)), 0, 0], [0, 0, 0, 0]], [[0, 0, 0, 0], [0, 0, 0, 0], [0, 0, 0, 0], [0, 0, 0, 0]], [[0, 0, 0, 0], [0, 0, 0, 0], [0, 0, 0, (r*r_s - r_Q**2)*sin(theta)**2/r**2], [0, 0, (-r*r_s + r_Q**2)*sin(theta)**2/r**2, 0]]], [[[0, 0, 0, -(r*r_s - 2*r_Q**2)*(r**2 - r*r_s + r_Q**2)/(2*r**6)], [0, 0, 0, 0], [0, 0, 0, 0], [(r*r_s - 2*r_Q**2)*(r**2 - r*r_s + r_Q**2)/(2*r**6), 0, 0, 0]], [[0, 0, 0, 0], [0, 0, 0, (r*r_s/2 - r_Q**2)/(r**2*(r**2 - r*r_s + r_Q**2))], [0, 0, 0, 0], [0, (-r*r_s/2 + r_Q**2)/(r**2*(r**2 - r*r_s + r_Q**2)), 0, 0]], [[0, 0, 0, 0], [0, 0, 0, 0], [0, 0, 0, (-r*r_s + r_Q**2)/r**2], [0, 0, (r*r_s - r_Q**2)/r**2, 0]], [[0, 0, 0, 0], [0, 0, 0, 0], [0, 0, 0, 0], [0, 0, 0, 0]]]]\n",
       "## Ricci tensor: [[r_Q**2*(r**2 - r*r_s + r_Q**2)/r**6, 0, 0, 0], [0, -r_Q**2/(r**2*(r**2 - r*r_s + r_Q**2)), 0, 0], [0, 0, r_Q**2/r**2, 0], [0, 0, 0, r_Q**2*sin(theta)**2/r**2]]\n",
       "## Ricci scalar: 0"
      ]
     },
     "execution_count": 12,
     "metadata": {},
     "output_type": "execute_result"
    }
   ],
   "source": [
    "t, r, theta, phi = sp.symbols('t r theta varphi')\n",
    "rs, rQ = sp.symbols('r_s r_Q')\n",
    "coords = sp.Matrix([t, r, theta, phi])\n",
    "metric = sp.diag((1-rs/r + rQ**2/r**2), -1/(1-rs/r+ rQ**2/r**2), -r**2, -r**2*(sp.sin(theta))**2)\n",
    "geo = RiemannGeometry(metric, coords)\n",
    "geo.calculate()\n",
    "geo"
   ]
  },
  {
   "cell_type": "markdown",
   "id": "6a8dc445-9f7e-4d85-a5d8-e2782663a5dc",
   "metadata": {},
   "source": [
    "#### Weak-Field\n",
    "One of the solution for Einstein field equations in the limit of weak gravity, is Weak-Field metric, where the line element is given by\n",
    "$$\n",
    "ds^2 = \\left(1 + 2\\Phi^2(r)\\right)dt^2 - \\left(1 + 2\\Phi^2(r)\\right) dr^2 - \\left(1 + 2\\Phi^2(r)\\right) d\\theta^2 - \\left(1 + 2\\Phi^2(r)\\right) r^2 \\sin^2\\theta d\\varphi,\n",
    "$$\n",
    "where $\\Phi$ is a function of $r$ (usual Newtonian gravitational potential $\\Phi=-GM/r$), then we can calculate the ***Christoffel symbols***, ***Riemann tensor***, ***Ricci tensor*** and ***Ricci scalar***.\n",
    "\n",
    "> Here using Geometrized unit system $G=c=1$."
   ]
  },
  {
   "cell_type": "code",
   "execution_count": 25,
   "id": "a5106a09-a35b-4a00-9265-4ea41f93ef7b",
   "metadata": {},
   "outputs": [
    {
     "name": "stdout",
     "output_type": "stream",
     "text": [
      "Calculating ...\n"
     ]
    },
    {
     "name": "stderr",
     "output_type": "stream",
     "text": [
      "Christoffel Symbols : 100%|███████████████████████████████████| 4/4 [00:00<00:00, 13.07it/s]\n",
      "Riemann Tensor      : 100%|███████████████████████████████████| 4/4 [00:01<00:00,  3.22it/s]\n",
      "Ricci Tensor        : 100%|███████████████████████████████████| 4/4 [00:00<00:00,  9.54it/s]\n",
      "Ricci Scalar        : 100%|████████████████████████████████| 4/4 [00:00<00:00, 12087.33it/s]\n"
     ]
    },
    {
     "data": {
      "text/latex": [
       "$$x^{a}=\\begin{pmatrix}t\\\\r\\\\\\theta\\\\\\varphi\\end{pmatrix},\\quad g_{ab}=\\begin{pmatrix} - 2 \\Phi{\\left(r \\right)} - 1 & 0 & 0 & 0\\\\ 0 & 1 - 2 \\Phi{\\left(r \\right)} & 0 & 0\\\\ 0 & 0 & r^{2} \\cdot \\left(1 - 2 \\Phi{\\left(r \\right)}\\right) & 0\\\\ 0 & 0 & 0 & r^{2} \\cdot \\left(1 - 2 \\Phi{\\left(r \\right)}\\right) \\sin^{2}{\\left(\\theta \\right)} \\end{pmatrix},\\quad g^{ab}=\\begin{pmatrix} \\frac{1}{- 2 \\Phi{\\left(r \\right)} - 1} & 0 & 0 & 0\\\\ 0 & \\frac{1}{1 - 2 \\Phi{\\left(r \\right)}} & 0 & 0\\\\ 0 & 0 & - \\frac{1}{2 r^{2} \\Phi{\\left(r \\right)} - r^{2}} & 0\\\\ 0 & 0 & 0 & - \\frac{1}{2 r^{2} \\Phi{\\left(r \\right)} \\sin^{2}{\\left(\\theta \\right)} - r^{2} \\sin^{2}{\\left(\\theta \\right)}} \\end{pmatrix},$$\n",
       "$${\\Gamma^{a}}_{bc}=\\begin{pmatrix} \\begin{pmatrix} 0 & \\frac{\\frac{d}{d r} \\Phi{\\left(r \\right)}}{2 \\Phi{\\left(r \\right)} + 1} & 0 & 0\\\\ \\frac{\\frac{d}{d r} \\Phi{\\left(r \\right)}}{2 \\Phi{\\left(r \\right)} + 1} & 0 & 0 & 0\\\\ 0 & 0 & 0 & 0\\\\ 0 & 0 & 0 & 0 \\end{pmatrix} & \\begin{pmatrix} - \\frac{\\frac{d}{d r} \\Phi{\\left(r \\right)}}{2 \\Phi{\\left(r \\right)} - 1} & 0 & 0 & 0\\\\ 0 & \\frac{\\frac{d}{d r} \\Phi{\\left(r \\right)}}{2 \\Phi{\\left(r \\right)} - 1} & 0 & 0\\\\ 0 & 0 & \\frac{r \\left(- r \\frac{d}{d r} \\Phi{\\left(r \\right)} - 2 \\Phi{\\left(r \\right)} + 1\\right)}{2 \\Phi{\\left(r \\right)} - 1} & 0\\\\ 0 & 0 & 0 & \\frac{r \\left(- r \\frac{d}{d r} \\Phi{\\left(r \\right)} - 2 \\Phi{\\left(r \\right)} + 1\\right) \\sin^{2}{\\left(\\theta \\right)}}{2 \\Phi{\\left(r \\right)} - 1} \\end{pmatrix} & \\begin{pmatrix} 0 & 0 & 0 & 0\\\\ 0 & 0 & \\frac{r \\frac{d}{d r} \\Phi{\\left(r \\right)} + 2 \\Phi{\\left(r \\right)} - 1}{r \\left(2 \\Phi{\\left(r \\right)} - 1\\right)} & 0\\\\ 0 & \\frac{r \\frac{d}{d r} \\Phi{\\left(r \\right)} + 2 \\Phi{\\left(r \\right)} - 1}{r \\left(2 \\Phi{\\left(r \\right)} - 1\\right)} & 0 & 0\\\\ 0 & 0 & 0 & - \\sin{\\left(\\theta \\right)} \\cos{\\left(\\theta \\right)} \\end{pmatrix} & \\begin{pmatrix} 0 & 0 & 0 & 0\\\\ 0 & 0 & 0 & \\frac{r \\frac{d}{d r} \\Phi{\\left(r \\right)} + 2 \\Phi{\\left(r \\right)} - 1}{r \\left(2 \\Phi{\\left(r \\right)} - 1\\right)}\\\\ 0 & 0 & 0 & \\frac{1}{\\tan{\\left(\\theta \\right)}}\\\\ 0 & \\frac{r \\frac{d}{d r} \\Phi{\\left(r \\right)} + 2 \\Phi{\\left(r \\right)} - 1}{r \\left(2 \\Phi{\\left(r \\right)} - 1\\right)} & \\frac{1}{\\tan{\\left(\\theta \\right)}} & 0 \\end{pmatrix} \\end{pmatrix},$$\n",
       "$${R^{a}}_{bcd}=\\begin{pmatrix} \\begin{pmatrix} 0 & 0 & 0 & 0\\\\ 0 & 0 & 0 & 0\\\\ 0 & 0 & 0 & 0\\\\ 0 & 0 & 0 & 0 \\end{pmatrix} & \\begin{pmatrix} 0 & \\frac{- 4 \\Phi^{2}{\\left(r \\right)} \\frac{d^{2}}{d r^{2}} \\Phi{\\left(r \\right)} + 4 \\Phi{\\left(r \\right)} \\left(\\frac{d}{d r} \\Phi{\\left(r \\right)}\\right)^{2} + \\frac{d^{2}}{d r^{2}} \\Phi{\\left(r \\right)}}{8 \\Phi^{3}{\\left(r \\right)} + 4 \\Phi^{2}{\\left(r \\right)} - 2 \\Phi{\\left(r \\right)} - 1} & 0 & 0\\\\ \\frac{4 \\Phi^{2}{\\left(r \\right)} \\frac{d^{2}}{d r^{2}} \\Phi{\\left(r \\right)} - 4 \\Phi{\\left(r \\right)} \\left(\\frac{d}{d r} \\Phi{\\left(r \\right)}\\right)^{2} - \\frac{d^{2}}{d r^{2}} \\Phi{\\left(r \\right)}}{8 \\Phi^{3}{\\left(r \\right)} + 4 \\Phi^{2}{\\left(r \\right)} - 2 \\Phi{\\left(r \\right)} - 1} & 0 & 0 & 0\\\\ 0 & 0 & 0 & 0\\\\ 0 & 0 & 0 & 0 \\end{pmatrix} & \\begin{pmatrix} 0 & 0 & \\frac{r \\left(- r \\frac{d}{d r} \\Phi{\\left(r \\right)} - 2 \\Phi{\\left(r \\right)} + 1\\right) \\frac{d}{d r} \\Phi{\\left(r \\right)}}{4 \\Phi^{2}{\\left(r \\right)} - 1} & 0\\\\ 0 & 0 & 0 & 0\\\\ \\frac{r \\left(r \\frac{d}{d r} \\Phi{\\left(r \\right)} + 2 \\Phi{\\left(r \\right)} - 1\\right) \\frac{d}{d r} \\Phi{\\left(r \\right)}}{4 \\Phi^{2}{\\left(r \\right)} - 1} & 0 & 0 & 0\\\\ 0 & 0 & 0 & 0 \\end{pmatrix} & \\begin{pmatrix} 0 & 0 & 0 & \\frac{r \\left(- r \\frac{d}{d r} \\Phi{\\left(r \\right)} - 2 \\Phi{\\left(r \\right)} + 1\\right) \\sin^{2}{\\left(\\theta \\right)} \\frac{d}{d r} \\Phi{\\left(r \\right)}}{4 \\Phi^{2}{\\left(r \\right)} - 1}\\\\ 0 & 0 & 0 & 0\\\\ 0 & 0 & 0 & 0\\\\ \\frac{r \\left(r \\frac{d}{d r} \\Phi{\\left(r \\right)} + 2 \\Phi{\\left(r \\right)} - 1\\right) \\sin^{2}{\\left(\\theta \\right)} \\frac{d}{d r} \\Phi{\\left(r \\right)}}{4 \\Phi^{2}{\\left(r \\right)} - 1} & 0 & 0 & 0 \\end{pmatrix}\\\\ \\begin{pmatrix} 0 & \\frac{4 \\Phi^{2}{\\left(r \\right)} \\frac{d^{2}}{d r^{2}} \\Phi{\\left(r \\right)} - 4 \\Phi{\\left(r \\right)} \\left(\\frac{d}{d r} \\Phi{\\left(r \\right)}\\right)^{2} - \\frac{d^{2}}{d r^{2}} \\Phi{\\left(r \\right)}}{8 \\Phi^{3}{\\left(r \\right)} - 4 \\Phi^{2}{\\left(r \\right)} - 2 \\Phi{\\left(r \\right)} + 1} & 0 & 0\\\\ \\frac{- 4 \\Phi^{2}{\\left(r \\right)} \\frac{d^{2}}{d r^{2}} \\Phi{\\left(r \\right)} + 4 \\Phi{\\left(r \\right)} \\left(\\frac{d}{d r} \\Phi{\\left(r \\right)}\\right)^{2} + \\frac{d^{2}}{d r^{2}} \\Phi{\\left(r \\right)}}{8 \\Phi^{3}{\\left(r \\right)} - 4 \\Phi^{2}{\\left(r \\right)} - 2 \\Phi{\\left(r \\right)} + 1} & 0 & 0 & 0\\\\ 0 & 0 & 0 & 0\\\\ 0 & 0 & 0 & 0 \\end{pmatrix} & \\begin{pmatrix} 0 & 0 & 0 & 0\\\\ 0 & 0 & 0 & 0\\\\ 0 & 0 & 0 & 0\\\\ 0 & 0 & 0 & 0 \\end{pmatrix} & \\begin{pmatrix} 0 & 0 & 0 & 0\\\\ 0 & 0 & \\frac{r \\left(- 2 r \\Phi{\\left(r \\right)} \\frac{d^{2}}{d r^{2}} \\Phi{\\left(r \\right)} + 2 r \\left(\\frac{d}{d r} \\Phi{\\left(r \\right)}\\right)^{2} + r \\frac{d^{2}}{d r^{2}} \\Phi{\\left(r \\right)} - 2 \\Phi{\\left(r \\right)} \\frac{d}{d r} \\Phi{\\left(r \\right)} + \\frac{d}{d r} \\Phi{\\left(r \\right)}\\right)}{4 \\Phi^{2}{\\left(r \\right)} - 4 \\Phi{\\left(r \\right)} + 1} & 0\\\\ 0 & \\frac{r \\left(2 r \\Phi{\\left(r \\right)} \\frac{d^{2}}{d r^{2}} \\Phi{\\left(r \\right)} - 2 r \\left(\\frac{d}{d r} \\Phi{\\left(r \\right)}\\right)^{2} - r \\frac{d^{2}}{d r^{2}} \\Phi{\\left(r \\right)} + 2 \\Phi{\\left(r \\right)} \\frac{d}{d r} \\Phi{\\left(r \\right)} - \\frac{d}{d r} \\Phi{\\left(r \\right)}\\right)}{4 \\Phi^{2}{\\left(r \\right)} - 4 \\Phi{\\left(r \\right)} + 1} & 0 & 0\\\\ 0 & 0 & 0 & 0 \\end{pmatrix} & \\begin{pmatrix} 0 & 0 & 0 & 0\\\\ 0 & 0 & 0 & \\frac{r \\left(- 2 r \\Phi{\\left(r \\right)} \\frac{d^{2}}{d r^{2}} \\Phi{\\left(r \\right)} + 2 r \\left(\\frac{d}{d r} \\Phi{\\left(r \\right)}\\right)^{2} + r \\frac{d^{2}}{d r^{2}} \\Phi{\\left(r \\right)} - 2 \\Phi{\\left(r \\right)} \\frac{d}{d r} \\Phi{\\left(r \\right)} + \\frac{d}{d r} \\Phi{\\left(r \\right)}\\right) \\sin^{2}{\\left(\\theta \\right)}}{4 \\Phi^{2}{\\left(r \\right)} - 4 \\Phi{\\left(r \\right)} + 1}\\\\ 0 & 0 & 0 & 0\\\\ 0 & \\frac{r \\left(2 r \\Phi{\\left(r \\right)} \\frac{d^{2}}{d r^{2}} \\Phi{\\left(r \\right)} - 2 r \\left(\\frac{d}{d r} \\Phi{\\left(r \\right)}\\right)^{2} - r \\frac{d^{2}}{d r^{2}} \\Phi{\\left(r \\right)} + 2 \\Phi{\\left(r \\right)} \\frac{d}{d r} \\Phi{\\left(r \\right)} - \\frac{d}{d r} \\Phi{\\left(r \\right)}\\right) \\sin^{2}{\\left(\\theta \\right)}}{4 \\Phi^{2}{\\left(r \\right)} - 4 \\Phi{\\left(r \\right)} + 1} & 0 & 0 \\end{pmatrix}\\\\ \\begin{pmatrix} 0 & 0 & \\frac{\\left(r \\frac{d}{d r} \\Phi{\\left(r \\right)} + 2 \\Phi{\\left(r \\right)} - 1\\right) \\frac{d}{d r} \\Phi{\\left(r \\right)}}{r \\left(2 \\Phi{\\left(r \\right)} - 1\\right)^{2}} & 0\\\\ 0 & 0 & 0 & 0\\\\ - \\frac{\\left(r \\frac{d}{d r} \\Phi{\\left(r \\right)} + 2 \\Phi{\\left(r \\right)} - 1\\right) \\frac{d}{d r} \\Phi{\\left(r \\right)}}{r \\left(2 \\Phi{\\left(r \\right)} - 1\\right)^{2}} & 0 & 0 & 0\\\\ 0 & 0 & 0 & 0 \\end{pmatrix} & \\begin{pmatrix} 0 & 0 & 0 & 0\\\\ 0 & 0 & \\frac{2 r \\Phi{\\left(r \\right)} \\frac{d^{2}}{d r^{2}} \\Phi{\\left(r \\right)} - 2 r \\left(\\frac{d}{d r} \\Phi{\\left(r \\right)}\\right)^{2} - r \\frac{d^{2}}{d r^{2}} \\Phi{\\left(r \\right)} + 2 \\Phi{\\left(r \\right)} \\frac{d}{d r} \\Phi{\\left(r \\right)} - \\frac{d}{d r} \\Phi{\\left(r \\right)}}{r \\left(4 \\Phi^{2}{\\left(r \\right)} - 4 \\Phi{\\left(r \\right)} + 1\\right)} & 0\\\\ 0 & \\frac{- 2 r \\Phi{\\left(r \\right)} \\frac{d^{2}}{d r^{2}} \\Phi{\\left(r \\right)} + 2 r \\left(\\frac{d}{d r} \\Phi{\\left(r \\right)}\\right)^{2} + r \\frac{d^{2}}{d r^{2}} \\Phi{\\left(r \\right)} - 2 \\Phi{\\left(r \\right)} \\frac{d}{d r} \\Phi{\\left(r \\right)} + \\frac{d}{d r} \\Phi{\\left(r \\right)}}{r \\left(4 \\Phi^{2}{\\left(r \\right)} - 4 \\Phi{\\left(r \\right)} + 1\\right)} & 0 & 0\\\\ 0 & 0 & 0 & 0 \\end{pmatrix} & \\begin{pmatrix} 0 & 0 & 0 & 0\\\\ 0 & 0 & 0 & 0\\\\ 0 & 0 & 0 & 0\\\\ 0 & 0 & 0 & 0 \\end{pmatrix} & \\begin{pmatrix} 0 & 0 & 0 & 0\\\\ 0 & 0 & 0 & 0\\\\ 0 & 0 & 0 & \\sin^{2}{\\left(\\theta \\right)} - \\frac{\\left(r \\frac{d}{d r} \\Phi{\\left(r \\right)} + 2 \\Phi{\\left(r \\right)} - 1\\right)^{2} \\sin^{2}{\\left(\\theta \\right)}}{\\left(2 \\Phi{\\left(r \\right)} - 1\\right)^{2}}\\\\ 0 & 0 & - \\sin^{2}{\\left(\\theta \\right)} + \\frac{\\left(r \\frac{d}{d r} \\Phi{\\left(r \\right)} + 2 \\Phi{\\left(r \\right)} - 1\\right)^{2} \\sin^{2}{\\left(\\theta \\right)}}{\\left(2 \\Phi{\\left(r \\right)} - 1\\right)^{2}} & 0 \\end{pmatrix}\\\\ \\begin{pmatrix} 0 & 0 & 0 & \\frac{\\left(r \\frac{d}{d r} \\Phi{\\left(r \\right)} + 2 \\Phi{\\left(r \\right)} - 1\\right) \\frac{d}{d r} \\Phi{\\left(r \\right)}}{r \\left(2 \\Phi{\\left(r \\right)} - 1\\right)^{2}}\\\\ 0 & 0 & 0 & 0\\\\ 0 & 0 & 0 & 0\\\\ - \\frac{\\left(r \\frac{d}{d r} \\Phi{\\left(r \\right)} + 2 \\Phi{\\left(r \\right)} - 1\\right) \\frac{d}{d r} \\Phi{\\left(r \\right)}}{r \\left(2 \\Phi{\\left(r \\right)} - 1\\right)^{2}} & 0 & 0 & 0 \\end{pmatrix} & \\begin{pmatrix} 0 & 0 & 0 & 0\\\\ 0 & 0 & 0 & \\frac{2 r \\Phi{\\left(r \\right)} \\frac{d^{2}}{d r^{2}} \\Phi{\\left(r \\right)} - 2 r \\left(\\frac{d}{d r} \\Phi{\\left(r \\right)}\\right)^{2} - r \\frac{d^{2}}{d r^{2}} \\Phi{\\left(r \\right)} + 2 \\Phi{\\left(r \\right)} \\frac{d}{d r} \\Phi{\\left(r \\right)} - \\frac{d}{d r} \\Phi{\\left(r \\right)}}{r \\left(4 \\Phi^{2}{\\left(r \\right)} - 4 \\Phi{\\left(r \\right)} + 1\\right)}\\\\ 0 & 0 & 0 & 0\\\\ 0 & \\frac{- 2 r \\Phi{\\left(r \\right)} \\frac{d^{2}}{d r^{2}} \\Phi{\\left(r \\right)} + 2 r \\left(\\frac{d}{d r} \\Phi{\\left(r \\right)}\\right)^{2} + r \\frac{d^{2}}{d r^{2}} \\Phi{\\left(r \\right)} - 2 \\Phi{\\left(r \\right)} \\frac{d}{d r} \\Phi{\\left(r \\right)} + \\frac{d}{d r} \\Phi{\\left(r \\right)}}{r \\left(4 \\Phi^{2}{\\left(r \\right)} - 4 \\Phi{\\left(r \\right)} + 1\\right)} & 0 & 0 \\end{pmatrix} & \\begin{pmatrix} 0 & 0 & 0 & 0\\\\ 0 & 0 & 0 & 0\\\\ 0 & 0 & 0 & \\frac{r \\left(r \\frac{d}{d r} \\Phi{\\left(r \\right)} + 4 \\Phi{\\left(r \\right)} - 2\\right) \\frac{d}{d r} \\Phi{\\left(r \\right)}}{4 \\Phi^{2}{\\left(r \\right)} - 4 \\Phi{\\left(r \\right)} + 1}\\\\ 0 & 0 & \\frac{r \\left(- r \\frac{d}{d r} \\Phi{\\left(r \\right)} - 4 \\Phi{\\left(r \\right)} + 2\\right) \\frac{d}{d r} \\Phi{\\left(r \\right)}}{4 \\Phi^{2}{\\left(r \\right)} - 4 \\Phi{\\left(r \\right)} + 1} & 0 \\end{pmatrix} & \\begin{pmatrix} 0 & 0 & 0 & 0\\\\ 0 & 0 & 0 & 0\\\\ 0 & 0 & 0 & 0\\\\ 0 & 0 & 0 & 0 \\end{pmatrix} \\end{pmatrix},$$\n",
       "$$R_{ab}=\\begin{pmatrix} \\frac{- 4 r \\Phi^{2}{\\left(r \\right)} \\frac{d^{2}}{d r^{2}} \\Phi{\\left(r \\right)} - 2 r \\left(\\frac{d}{d r} \\Phi{\\left(r \\right)}\\right)^{2} + r \\frac{d^{2}}{d r^{2}} \\Phi{\\left(r \\right)} - 8 \\Phi^{2}{\\left(r \\right)} \\frac{d}{d r} \\Phi{\\left(r \\right)} + 2 \\frac{d}{d r} \\Phi{\\left(r \\right)}}{r \\left(8 \\Phi^{3}{\\left(r \\right)} - 4 \\Phi^{2}{\\left(r \\right)} - 2 \\Phi{\\left(r \\right)} + 1\\right)} & 0 & 0 & 0\\\\ 0 & \\frac{- 24 r \\Phi^{3}{\\left(r \\right)} \\frac{d^{2}}{d r^{2}} \\Phi{\\left(r \\right)} + 24 r \\Phi^{2}{\\left(r \\right)} \\left(\\frac{d}{d r} \\Phi{\\left(r \\right)}\\right)^{2} - 4 r \\Phi^{2}{\\left(r \\right)} \\frac{d^{2}}{d r^{2}} \\Phi{\\left(r \\right)} + 12 r \\Phi{\\left(r \\right)} \\left(\\frac{d}{d r} \\Phi{\\left(r \\right)}\\right)^{2} + 6 r \\Phi{\\left(r \\right)} \\frac{d^{2}}{d r^{2}} \\Phi{\\left(r \\right)} + 4 r \\left(\\frac{d}{d r} \\Phi{\\left(r \\right)}\\right)^{2} + r \\frac{d^{2}}{d r^{2}} \\Phi{\\left(r \\right)} - 16 \\Phi^{3}{\\left(r \\right)} \\frac{d}{d r} \\Phi{\\left(r \\right)} - 8 \\Phi^{2}{\\left(r \\right)} \\frac{d}{d r} \\Phi{\\left(r \\right)} + 4 \\Phi{\\left(r \\right)} \\frac{d}{d r} \\Phi{\\left(r \\right)} + 2 \\frac{d}{d r} \\Phi{\\left(r \\right)}}{r \\left(16 \\Phi^{4}{\\left(r \\right)} - 8 \\Phi^{2}{\\left(r \\right)} + 1\\right)} & 0 & 0\\\\ 0 & 0 & \\frac{r \\left(- 4 r \\Phi^{2}{\\left(r \\right)} \\frac{d^{2}}{d r^{2}} \\Phi{\\left(r \\right)} + 2 r \\left(\\frac{d}{d r} \\Phi{\\left(r \\right)}\\right)^{2} + r \\frac{d^{2}}{d r^{2}} \\Phi{\\left(r \\right)} - 16 \\Phi^{2}{\\left(r \\right)} \\frac{d}{d r} \\Phi{\\left(r \\right)} + 4 \\Phi{\\left(r \\right)} \\frac{d}{d r} \\Phi{\\left(r \\right)} + 2 \\frac{d}{d r} \\Phi{\\left(r \\right)}\\right)}{8 \\Phi^{3}{\\left(r \\right)} - 4 \\Phi^{2}{\\left(r \\right)} - 2 \\Phi{\\left(r \\right)} + 1} & 0\\\\ 0 & 0 & 0 & \\frac{r \\left(- 4 r \\Phi^{2}{\\left(r \\right)} \\frac{d^{2}}{d r^{2}} \\Phi{\\left(r \\right)} + 2 r \\left(\\frac{d}{d r} \\Phi{\\left(r \\right)}\\right)^{2} + r \\frac{d^{2}}{d r^{2}} \\Phi{\\left(r \\right)} - 16 \\Phi^{2}{\\left(r \\right)} \\frac{d}{d r} \\Phi{\\left(r \\right)} + 4 \\Phi{\\left(r \\right)} \\frac{d}{d r} \\Phi{\\left(r \\right)} + 2 \\frac{d}{d r} \\Phi{\\left(r \\right)}\\right) \\sin^{2}{\\left(\\theta \\right)}}{8 \\Phi^{3}{\\left(r \\right)} - 4 \\Phi^{2}{\\left(r \\right)} - 2 \\Phi{\\left(r \\right)} + 1} \\end{pmatrix},\\quad R=\\frac{2 \\cdot \\left(24 r \\Phi^{3}{\\left(r \\right)} \\frac{d^{2}}{d r^{2}} \\Phi{\\left(r \\right)} - 12 r \\Phi^{2}{\\left(r \\right)} \\left(\\frac{d}{d r} \\Phi{\\left(r \\right)}\\right)^{2} + 4 r \\Phi^{2}{\\left(r \\right)} \\frac{d^{2}}{d r^{2}} \\Phi{\\left(r \\right)} - 8 r \\Phi{\\left(r \\right)} \\left(\\frac{d}{d r} \\Phi{\\left(r \\right)}\\right)^{2} - 6 r \\Phi{\\left(r \\right)} \\frac{d^{2}}{d r^{2}} \\Phi{\\left(r \\right)} - 5 r \\left(\\frac{d}{d r} \\Phi{\\left(r \\right)}\\right)^{2} - r \\frac{d^{2}}{d r^{2}} \\Phi{\\left(r \\right)} + 48 \\Phi^{3}{\\left(r \\right)} \\frac{d}{d r} \\Phi{\\left(r \\right)} + 8 \\Phi^{2}{\\left(r \\right)} \\frac{d}{d r} \\Phi{\\left(r \\right)} - 12 \\Phi{\\left(r \\right)} \\frac{d}{d r} \\Phi{\\left(r \\right)} - 2 \\frac{d}{d r} \\Phi{\\left(r \\right)}\\right)}{r \\left(32 \\Phi^{5}{\\left(r \\right)} - 16 \\Phi^{4}{\\left(r \\right)} - 16 \\Phi^{3}{\\left(r \\right)} + 8 \\Phi^{2}{\\left(r \\right)} + 2 \\Phi{\\left(r \\right)} - 1\\right)}.$$"
      ],
      "text/plain": [
       "# Riemann geometry\n",
       "## x: [t, r, theta, varphi]\n",
       "## metric: [[-2*Phi(r) - 1, 0, 0, 0], [0, 1 - 2*Phi(r), 0, 0], [0, 0, r**2*(1 - 2*Phi(r)), 0], [0, 0, 0, r**2*(1 - 2*Phi(r))*sin(theta)**2]]\n",
       "## inverse metric: [[1/(-2*Phi(r) - 1), 0, 0, 0], [0, 1/(1 - 2*Phi(r)), 0, 0], [0, 0, -1/(2*r**2*Phi(r) - r**2), 0], [0, 0, 0, -1/(2*r**2*Phi(r)*sin(theta)**2 - r**2*sin(theta)**2)]]\n",
       "## Christoffel symbols: [[[0, Derivative(Phi(r), r)/(2*Phi(r) + 1), 0, 0], [Derivative(Phi(r), r)/(2*Phi(r) + 1), 0, 0, 0], [0, 0, 0, 0], [0, 0, 0, 0]], [[-Derivative(Phi(r), r)/(2*Phi(r) - 1), 0, 0, 0], [0, Derivative(Phi(r), r)/(2*Phi(r) - 1), 0, 0], [0, 0, r*(-r*Derivative(Phi(r), r) - 2*Phi(r) + 1)/(2*Phi(r) - 1), 0], [0, 0, 0, r*(-r*Derivative(Phi(r), r) - 2*Phi(r) + 1)*sin(theta)**2/(2*Phi(r) - 1)]], [[0, 0, 0, 0], [0, 0, (r*Derivative(Phi(r), r) + 2*Phi(r) - 1)/(r*(2*Phi(r) - 1)), 0], [0, (r*Derivative(Phi(r), r) + 2*Phi(r) - 1)/(r*(2*Phi(r) - 1)), 0, 0], [0, 0, 0, -sin(theta)*cos(theta)]], [[0, 0, 0, 0], [0, 0, 0, (r*Derivative(Phi(r), r) + 2*Phi(r) - 1)/(r*(2*Phi(r) - 1))], [0, 0, 0, 1/tan(theta)], [0, (r*Derivative(Phi(r), r) + 2*Phi(r) - 1)/(r*(2*Phi(r) - 1)), 1/tan(theta), 0]]]\n",
       "## Riemann tensor: [[[[0, 0, 0, 0], [0, 0, 0, 0], [0, 0, 0, 0], [0, 0, 0, 0]], [[0, (-4*Phi(r)**2*Derivative(Phi(r), (r, 2)) + 4*Phi(r)*Derivative(Phi(r), r)**2 + Derivative(Phi(r), (r, 2)))/(8*Phi(r)**3 + 4*Phi(r)**2 - 2*Phi(r) - 1), 0, 0], [(4*Phi(r)**2*Derivative(Phi(r), (r, 2)) - 4*Phi(r)*Derivative(Phi(r), r)**2 - Derivative(Phi(r), (r, 2)))/(8*Phi(r)**3 + 4*Phi(r)**2 - 2*Phi(r) - 1), 0, 0, 0], [0, 0, 0, 0], [0, 0, 0, 0]], [[0, 0, r*(-r*Derivative(Phi(r), r) - 2*Phi(r) + 1)*Derivative(Phi(r), r)/(4*Phi(r)**2 - 1), 0], [0, 0, 0, 0], [r*(r*Derivative(Phi(r), r) + 2*Phi(r) - 1)*Derivative(Phi(r), r)/(4*Phi(r)**2 - 1), 0, 0, 0], [0, 0, 0, 0]], [[0, 0, 0, r*(-r*Derivative(Phi(r), r) - 2*Phi(r) + 1)*sin(theta)**2*Derivative(Phi(r), r)/(4*Phi(r)**2 - 1)], [0, 0, 0, 0], [0, 0, 0, 0], [r*(r*Derivative(Phi(r), r) + 2*Phi(r) - 1)*sin(theta)**2*Derivative(Phi(r), r)/(4*Phi(r)**2 - 1), 0, 0, 0]]], [[[0, (4*Phi(r)**2*Derivative(Phi(r), (r, 2)) - 4*Phi(r)*Derivative(Phi(r), r)**2 - Derivative(Phi(r), (r, 2)))/(8*Phi(r)**3 - 4*Phi(r)**2 - 2*Phi(r) + 1), 0, 0], [(-4*Phi(r)**2*Derivative(Phi(r), (r, 2)) + 4*Phi(r)*Derivative(Phi(r), r)**2 + Derivative(Phi(r), (r, 2)))/(8*Phi(r)**3 - 4*Phi(r)**2 - 2*Phi(r) + 1), 0, 0, 0], [0, 0, 0, 0], [0, 0, 0, 0]], [[0, 0, 0, 0], [0, 0, 0, 0], [0, 0, 0, 0], [0, 0, 0, 0]], [[0, 0, 0, 0], [0, 0, r*(-2*r*Phi(r)*Derivative(Phi(r), (r, 2)) + 2*r*Derivative(Phi(r), r)**2 + r*Derivative(Phi(r), (r, 2)) - 2*Phi(r)*Derivative(Phi(r), r) + Derivative(Phi(r), r))/(4*Phi(r)**2 - 4*Phi(r) + 1), 0], [0, r*(2*r*Phi(r)*Derivative(Phi(r), (r, 2)) - 2*r*Derivative(Phi(r), r)**2 - r*Derivative(Phi(r), (r, 2)) + 2*Phi(r)*Derivative(Phi(r), r) - Derivative(Phi(r), r))/(4*Phi(r)**2 - 4*Phi(r) + 1), 0, 0], [0, 0, 0, 0]], [[0, 0, 0, 0], [0, 0, 0, r*(-2*r*Phi(r)*Derivative(Phi(r), (r, 2)) + 2*r*Derivative(Phi(r), r)**2 + r*Derivative(Phi(r), (r, 2)) - 2*Phi(r)*Derivative(Phi(r), r) + Derivative(Phi(r), r))*sin(theta)**2/(4*Phi(r)**2 - 4*Phi(r) + 1)], [0, 0, 0, 0], [0, r*(2*r*Phi(r)*Derivative(Phi(r), (r, 2)) - 2*r*Derivative(Phi(r), r)**2 - r*Derivative(Phi(r), (r, 2)) + 2*Phi(r)*Derivative(Phi(r), r) - Derivative(Phi(r), r))*sin(theta)**2/(4*Phi(r)**2 - 4*Phi(r) + 1), 0, 0]]], [[[0, 0, (r*Derivative(Phi(r), r) + 2*Phi(r) - 1)*Derivative(Phi(r), r)/(r*(2*Phi(r) - 1)**2), 0], [0, 0, 0, 0], [-(r*Derivative(Phi(r), r) + 2*Phi(r) - 1)*Derivative(Phi(r), r)/(r*(2*Phi(r) - 1)**2), 0, 0, 0], [0, 0, 0, 0]], [[0, 0, 0, 0], [0, 0, (2*r*Phi(r)*Derivative(Phi(r), (r, 2)) - 2*r*Derivative(Phi(r), r)**2 - r*Derivative(Phi(r), (r, 2)) + 2*Phi(r)*Derivative(Phi(r), r) - Derivative(Phi(r), r))/(r*(4*Phi(r)**2 - 4*Phi(r) + 1)), 0], [0, (-2*r*Phi(r)*Derivative(Phi(r), (r, 2)) + 2*r*Derivative(Phi(r), r)**2 + r*Derivative(Phi(r), (r, 2)) - 2*Phi(r)*Derivative(Phi(r), r) + Derivative(Phi(r), r))/(r*(4*Phi(r)**2 - 4*Phi(r) + 1)), 0, 0], [0, 0, 0, 0]], [[0, 0, 0, 0], [0, 0, 0, 0], [0, 0, 0, 0], [0, 0, 0, 0]], [[0, 0, 0, 0], [0, 0, 0, 0], [0, 0, 0, sin(theta)**2 - (r*Derivative(Phi(r), r) + 2*Phi(r) - 1)**2*sin(theta)**2/(2*Phi(r) - 1)**2], [0, 0, -sin(theta)**2 + (r*Derivative(Phi(r), r) + 2*Phi(r) - 1)**2*sin(theta)**2/(2*Phi(r) - 1)**2, 0]]], [[[0, 0, 0, (r*Derivative(Phi(r), r) + 2*Phi(r) - 1)*Derivative(Phi(r), r)/(r*(2*Phi(r) - 1)**2)], [0, 0, 0, 0], [0, 0, 0, 0], [-(r*Derivative(Phi(r), r) + 2*Phi(r) - 1)*Derivative(Phi(r), r)/(r*(2*Phi(r) - 1)**2), 0, 0, 0]], [[0, 0, 0, 0], [0, 0, 0, (2*r*Phi(r)*Derivative(Phi(r), (r, 2)) - 2*r*Derivative(Phi(r), r)**2 - r*Derivative(Phi(r), (r, 2)) + 2*Phi(r)*Derivative(Phi(r), r) - Derivative(Phi(r), r))/(r*(4*Phi(r)**2 - 4*Phi(r) + 1))], [0, 0, 0, 0], [0, (-2*r*Phi(r)*Derivative(Phi(r), (r, 2)) + 2*r*Derivative(Phi(r), r)**2 + r*Derivative(Phi(r), (r, 2)) - 2*Phi(r)*Derivative(Phi(r), r) + Derivative(Phi(r), r))/(r*(4*Phi(r)**2 - 4*Phi(r) + 1)), 0, 0]], [[0, 0, 0, 0], [0, 0, 0, 0], [0, 0, 0, r*(r*Derivative(Phi(r), r) + 4*Phi(r) - 2)*Derivative(Phi(r), r)/(4*Phi(r)**2 - 4*Phi(r) + 1)], [0, 0, r*(-r*Derivative(Phi(r), r) - 4*Phi(r) + 2)*Derivative(Phi(r), r)/(4*Phi(r)**2 - 4*Phi(r) + 1), 0]], [[0, 0, 0, 0], [0, 0, 0, 0], [0, 0, 0, 0], [0, 0, 0, 0]]]]\n",
       "## Ricci tensor: [[(-4*r*Phi(r)**2*Derivative(Phi(r), (r, 2)) - 2*r*Derivative(Phi(r), r)**2 + r*Derivative(Phi(r), (r, 2)) - 8*Phi(r)**2*Derivative(Phi(r), r) + 2*Derivative(Phi(r), r))/(r*(8*Phi(r)**3 - 4*Phi(r)**2 - 2*Phi(r) + 1)), 0, 0, 0], [0, (-24*r*Phi(r)**3*Derivative(Phi(r), (r, 2)) + 24*r*Phi(r)**2*Derivative(Phi(r), r)**2 - 4*r*Phi(r)**2*Derivative(Phi(r), (r, 2)) + 12*r*Phi(r)*Derivative(Phi(r), r)**2 + 6*r*Phi(r)*Derivative(Phi(r), (r, 2)) + 4*r*Derivative(Phi(r), r)**2 + r*Derivative(Phi(r), (r, 2)) - 16*Phi(r)**3*Derivative(Phi(r), r) - 8*Phi(r)**2*Derivative(Phi(r), r) + 4*Phi(r)*Derivative(Phi(r), r) + 2*Derivative(Phi(r), r))/(r*(16*Phi(r)**4 - 8*Phi(r)**2 + 1)), 0, 0], [0, 0, r*(-4*r*Phi(r)**2*Derivative(Phi(r), (r, 2)) + 2*r*Derivative(Phi(r), r)**2 + r*Derivative(Phi(r), (r, 2)) - 16*Phi(r)**2*Derivative(Phi(r), r) + 4*Phi(r)*Derivative(Phi(r), r) + 2*Derivative(Phi(r), r))/(8*Phi(r)**3 - 4*Phi(r)**2 - 2*Phi(r) + 1), 0], [0, 0, 0, r*(-4*r*Phi(r)**2*Derivative(Phi(r), (r, 2)) + 2*r*Derivative(Phi(r), r)**2 + r*Derivative(Phi(r), (r, 2)) - 16*Phi(r)**2*Derivative(Phi(r), r) + 4*Phi(r)*Derivative(Phi(r), r) + 2*Derivative(Phi(r), r))*sin(theta)**2/(8*Phi(r)**3 - 4*Phi(r)**2 - 2*Phi(r) + 1)]]\n",
       "## Ricci scalar: 2*(24*r*Phi(r)**3*Derivative(Phi(r), (r, 2)) - 12*r*Phi(r)**2*Derivative(Phi(r), r)**2 + 4*r*Phi(r)**2*Derivative(Phi(r), (r, 2)) - 8*r*Phi(r)*Derivative(Phi(r), r)**2 - 6*r*Phi(r)*Derivative(Phi(r), (r, 2)) - 5*r*Derivative(Phi(r), r)**2 - r*Derivative(Phi(r), (r, 2)) + 48*Phi(r)**3*Derivative(Phi(r), r) + 8*Phi(r)**2*Derivative(Phi(r), r) - 12*Phi(r)*Derivative(Phi(r), r) - 2*Derivative(Phi(r), r))/(r*(32*Phi(r)**5 - 16*Phi(r)**4 - 16*Phi(r)**3 + 8*Phi(r)**2 + 2*Phi(r) - 1))"
      ]
     },
     "execution_count": 25,
     "metadata": {},
     "output_type": "execute_result"
    }
   ],
   "source": [
    "# coordinates \n",
    "t, r, theta, phi = sp.symbols('t r theta varphi')\n",
    "# dependent function\n",
    "Phi = sp.Function('Phi')(r)\n",
    "\n",
    "# M = sp.symbols('M')\n",
    "# Phi = -M/r\n",
    "# ------------------------------\n",
    "coords = sp.Matrix([t, r, theta, phi])\n",
    "metrix = sp.diag(-(1+2*Phi), +(1-2*Phi), +(1-2*Phi)*r**2, +(1-2*Phi)*r**2*(sp.sin(theta))**2)\n",
    "\n",
    "# WARM: !!! It would take many time to calcuate!!!!!\n",
    "geo = RiemannGeometry(metrix, coords)\n",
    "geo.calculate()\n",
    "geo"
   ]
  },
  {
   "cell_type": "markdown",
   "id": "d8394f75-dc29-472e-806e-cce5d44db0a7",
   "metadata": {},
   "source": [
    "#### Friedmann–Lemaître–Robertson–Walker\n",
    "One of the solution for Einstein field equations, is Friedmann–Lemaître–Robertson–Walker metric, where the line element is given by\n",
    "$$\n",
    "ds^2 = dt^2 - \\frac{a^2(t)}{1-kr^2} dr^2 - r^2 a^2(t) d\\theta^2 - r^2 a^2(t) \\sin^2\\theta d\\varphi,\n",
    "$$\n",
    "where $a$ is a function of time $a(t)$ (called scale factor), then we can calculate the ***Christoffel symbols***, ***Riemann tensor***, ***Ricci tensor*** and ***Ricci scalar***.\n",
    "\n",
    "> Here using Geometrized unit system $G=c=1$."
   ]
  },
  {
   "cell_type": "code",
   "execution_count": 14,
   "id": "130566ab-f069-48ad-b5b4-37847d1235d7",
   "metadata": {},
   "outputs": [
    {
     "name": "stdout",
     "output_type": "stream",
     "text": [
      "Calculating ...\n"
     ]
    },
    {
     "name": "stderr",
     "output_type": "stream",
     "text": [
      "Christoffel Symbols : 100%|███████████████████████████████████| 4/4 [00:00<00:00, 31.66it/s]\n",
      "Riemann Tensor      : 100%|███████████████████████████████████| 4/4 [00:00<00:00,  9.94it/s]\n",
      "Ricci Tensor        : 100%|███████████████████████████████████| 4/4 [00:00<00:00, 51.95it/s]\n",
      "Ricci Scalar        : 100%|████████████████████████████████| 4/4 [00:00<00:00, 13740.55it/s]\n"
     ]
    },
    {
     "data": {
      "text/latex": [
       "$$x^{a}=\\begin{pmatrix}t\\\\r\\\\\\theta\\\\\\varphi\\end{pmatrix},\\quad g_{ab}=\\begin{pmatrix} 1 & 0 & 0 & 0\\\\ 0 & - \\frac{a^{2}{\\left(t \\right)}}{- k r^{2} + 1} & 0 & 0\\\\ 0 & 0 & - r^{2} a^{2}{\\left(t \\right)} & 0\\\\ 0 & 0 & 0 & - r^{2} a^{2}{\\left(t \\right)} \\sin^{2}{\\left(\\theta \\right)} \\end{pmatrix},\\quad g^{ab}=\\begin{pmatrix} 1 & 0 & 0 & 0\\\\ 0 & \\frac{k r^{2} - 1}{a^{2}{\\left(t \\right)}} & 0 & 0\\\\ 0 & 0 & - \\frac{1}{r^{2} a^{2}{\\left(t \\right)}} & 0\\\\ 0 & 0 & 0 & - \\frac{1}{r^{2} a^{2}{\\left(t \\right)} \\sin^{2}{\\left(\\theta \\right)}} \\end{pmatrix},$$\n",
       "$${\\Gamma^{a}}_{bc}=\\begin{pmatrix} \\begin{pmatrix} 0 & 0 & 0 & 0\\\\ 0 & - \\frac{a{\\left(t \\right)} \\frac{d}{d t} a{\\left(t \\right)}}{k r^{2} - 1} & 0 & 0\\\\ 0 & 0 & r^{2} a{\\left(t \\right)} \\frac{d}{d t} a{\\left(t \\right)} & 0\\\\ 0 & 0 & 0 & r^{2} a{\\left(t \\right)} \\sin^{2}{\\left(\\theta \\right)} \\frac{d}{d t} a{\\left(t \\right)} \\end{pmatrix} & \\begin{pmatrix} 0 & \\frac{\\frac{d}{d t} a{\\left(t \\right)}}{a{\\left(t \\right)}} & 0 & 0\\\\ \\frac{\\frac{d}{d t} a{\\left(t \\right)}}{a{\\left(t \\right)}} & - \\frac{k r}{k r^{2} - 1} & 0 & 0\\\\ 0 & 0 & k r^{3} - r & 0\\\\ 0 & 0 & 0 & r \\left(k r^{2} - 1\\right) \\sin^{2}{\\left(\\theta \\right)} \\end{pmatrix} & \\begin{pmatrix} 0 & 0 & \\frac{\\frac{d}{d t} a{\\left(t \\right)}}{a{\\left(t \\right)}} & 0\\\\ 0 & 0 & \\frac{1}{r} & 0\\\\ \\frac{\\frac{d}{d t} a{\\left(t \\right)}}{a{\\left(t \\right)}} & \\frac{1}{r} & 0 & 0\\\\ 0 & 0 & 0 & - \\sin{\\left(\\theta \\right)} \\cos{\\left(\\theta \\right)} \\end{pmatrix} & \\begin{pmatrix} 0 & 0 & 0 & \\frac{\\frac{d}{d t} a{\\left(t \\right)}}{a{\\left(t \\right)}}\\\\ 0 & 0 & 0 & \\frac{1}{r}\\\\ 0 & 0 & 0 & \\frac{1}{\\tan{\\left(\\theta \\right)}}\\\\ \\frac{\\frac{d}{d t} a{\\left(t \\right)}}{a{\\left(t \\right)}} & \\frac{1}{r} & \\frac{1}{\\tan{\\left(\\theta \\right)}} & 0 \\end{pmatrix} \\end{pmatrix},$$\n",
       "$${R^{a}}_{bcd}=\\begin{pmatrix} \\begin{pmatrix} 0 & 0 & 0 & 0\\\\ 0 & 0 & 0 & 0\\\\ 0 & 0 & 0 & 0\\\\ 0 & 0 & 0 & 0 \\end{pmatrix} & \\begin{pmatrix} 0 & - \\frac{a{\\left(t \\right)} \\frac{d^{2}}{d t^{2}} a{\\left(t \\right)}}{k r^{2} - 1} & 0 & 0\\\\ \\frac{a{\\left(t \\right)} \\frac{d^{2}}{d t^{2}} a{\\left(t \\right)}}{k r^{2} - 1} & 0 & 0 & 0\\\\ 0 & 0 & 0 & 0\\\\ 0 & 0 & 0 & 0 \\end{pmatrix} & \\begin{pmatrix} 0 & 0 & r^{2} a{\\left(t \\right)} \\frac{d^{2}}{d t^{2}} a{\\left(t \\right)} & 0\\\\ 0 & 0 & 0 & 0\\\\ - r^{2} a{\\left(t \\right)} \\frac{d^{2}}{d t^{2}} a{\\left(t \\right)} & 0 & 0 & 0\\\\ 0 & 0 & 0 & 0 \\end{pmatrix} & \\begin{pmatrix} 0 & 0 & 0 & r^{2} a{\\left(t \\right)} \\sin^{2}{\\left(\\theta \\right)} \\frac{d^{2}}{d t^{2}} a{\\left(t \\right)}\\\\ 0 & 0 & 0 & 0\\\\ 0 & 0 & 0 & 0\\\\ - r^{2} a{\\left(t \\right)} \\sin^{2}{\\left(\\theta \\right)} \\frac{d^{2}}{d t^{2}} a{\\left(t \\right)} & 0 & 0 & 0 \\end{pmatrix}\\\\ \\begin{pmatrix} 0 & \\frac{\\frac{d^{2}}{d t^{2}} a{\\left(t \\right)}}{a{\\left(t \\right)}} & 0 & 0\\\\ - \\frac{\\frac{d^{2}}{d t^{2}} a{\\left(t \\right)}}{a{\\left(t \\right)}} & 0 & 0 & 0\\\\ 0 & 0 & 0 & 0\\\\ 0 & 0 & 0 & 0 \\end{pmatrix} & \\begin{pmatrix} 0 & 0 & 0 & 0\\\\ 0 & 0 & 0 & 0\\\\ 0 & 0 & 0 & 0\\\\ 0 & 0 & 0 & 0 \\end{pmatrix} & \\begin{pmatrix} 0 & 0 & 0 & 0\\\\ 0 & 0 & r^{2} \\left(k + \\left(\\frac{d}{d t} a{\\left(t \\right)}\\right)^{2}\\right) & 0\\\\ 0 & r^{2} \\left(- k - \\left(\\frac{d}{d t} a{\\left(t \\right)}\\right)^{2}\\right) & 0 & 0\\\\ 0 & 0 & 0 & 0 \\end{pmatrix} & \\begin{pmatrix} 0 & 0 & 0 & 0\\\\ 0 & 0 & 0 & r^{2} \\left(k + \\left(\\frac{d}{d t} a{\\left(t \\right)}\\right)^{2}\\right) \\sin^{2}{\\left(\\theta \\right)}\\\\ 0 & 0 & 0 & 0\\\\ 0 & r^{2} \\left(- k - \\left(\\frac{d}{d t} a{\\left(t \\right)}\\right)^{2}\\right) \\sin^{2}{\\left(\\theta \\right)} & 0 & 0 \\end{pmatrix}\\\\ \\begin{pmatrix} 0 & 0 & \\frac{\\frac{d^{2}}{d t^{2}} a{\\left(t \\right)}}{a{\\left(t \\right)}} & 0\\\\ 0 & 0 & 0 & 0\\\\ - \\frac{\\frac{d^{2}}{d t^{2}} a{\\left(t \\right)}}{a{\\left(t \\right)}} & 0 & 0 & 0\\\\ 0 & 0 & 0 & 0 \\end{pmatrix} & \\begin{pmatrix} 0 & 0 & 0 & 0\\\\ 0 & 0 & \\frac{k + \\left(\\frac{d}{d t} a{\\left(t \\right)}\\right)^{2}}{k r^{2} - 1} & 0\\\\ 0 & \\frac{- k - \\left(\\frac{d}{d t} a{\\left(t \\right)}\\right)^{2}}{k r^{2} - 1} & 0 & 0\\\\ 0 & 0 & 0 & 0 \\end{pmatrix} & \\begin{pmatrix} 0 & 0 & 0 & 0\\\\ 0 & 0 & 0 & 0\\\\ 0 & 0 & 0 & 0\\\\ 0 & 0 & 0 & 0 \\end{pmatrix} & \\begin{pmatrix} 0 & 0 & 0 & 0\\\\ 0 & 0 & 0 & 0\\\\ 0 & 0 & 0 & r^{2} \\left(k + \\left(\\frac{d}{d t} a{\\left(t \\right)}\\right)^{2}\\right) \\sin^{2}{\\left(\\theta \\right)}\\\\ 0 & 0 & r^{2} \\left(- k - \\left(\\frac{d}{d t} a{\\left(t \\right)}\\right)^{2}\\right) \\sin^{2}{\\left(\\theta \\right)} & 0 \\end{pmatrix}\\\\ \\begin{pmatrix} 0 & 0 & 0 & \\frac{\\frac{d^{2}}{d t^{2}} a{\\left(t \\right)}}{a{\\left(t \\right)}}\\\\ 0 & 0 & 0 & 0\\\\ 0 & 0 & 0 & 0\\\\ - \\frac{\\frac{d^{2}}{d t^{2}} a{\\left(t \\right)}}{a{\\left(t \\right)}} & 0 & 0 & 0 \\end{pmatrix} & \\begin{pmatrix} 0 & 0 & 0 & 0\\\\ 0 & 0 & 0 & \\frac{k + \\left(\\frac{d}{d t} a{\\left(t \\right)}\\right)^{2}}{k r^{2} - 1}\\\\ 0 & 0 & 0 & 0\\\\ 0 & \\frac{- k - \\left(\\frac{d}{d t} a{\\left(t \\right)}\\right)^{2}}{k r^{2} - 1} & 0 & 0 \\end{pmatrix} & \\begin{pmatrix} 0 & 0 & 0 & 0\\\\ 0 & 0 & 0 & 0\\\\ 0 & 0 & 0 & r^{2} \\left(- k - \\left(\\frac{d}{d t} a{\\left(t \\right)}\\right)^{2}\\right)\\\\ 0 & 0 & r^{2} \\left(k + \\left(\\frac{d}{d t} a{\\left(t \\right)}\\right)^{2}\\right) & 0 \\end{pmatrix} & \\begin{pmatrix} 0 & 0 & 0 & 0\\\\ 0 & 0 & 0 & 0\\\\ 0 & 0 & 0 & 0\\\\ 0 & 0 & 0 & 0 \\end{pmatrix} \\end{pmatrix},$$\n",
       "$$R_{ab}=\\begin{pmatrix} - \\frac{3 \\frac{d^{2}}{d t^{2}} a{\\left(t \\right)}}{a{\\left(t \\right)}} & 0 & 0 & 0\\\\ 0 & \\frac{- 2 k - a{\\left(t \\right)} \\frac{d^{2}}{d t^{2}} a{\\left(t \\right)} - 2 \\left(\\frac{d}{d t} a{\\left(t \\right)}\\right)^{2}}{k r^{2} - 1} & 0 & 0\\\\ 0 & 0 & r^{2} \\cdot \\left(2 k + a{\\left(t \\right)} \\frac{d^{2}}{d t^{2}} a{\\left(t \\right)} + 2 \\left(\\frac{d}{d t} a{\\left(t \\right)}\\right)^{2}\\right) & 0\\\\ 0 & 0 & 0 & r^{2} \\cdot \\left(2 k + a{\\left(t \\right)} \\frac{d^{2}}{d t^{2}} a{\\left(t \\right)} + 2 \\left(\\frac{d}{d t} a{\\left(t \\right)}\\right)^{2}\\right) \\sin^{2}{\\left(\\theta \\right)} \\end{pmatrix},\\quad R=\\frac{6 \\left(- k - a{\\left(t \\right)} \\frac{d^{2}}{d t^{2}} a{\\left(t \\right)} - \\left(\\frac{d}{d t} a{\\left(t \\right)}\\right)^{2}\\right)}{a^{2}{\\left(t \\right)}}.$$"
      ],
      "text/plain": [
       "# Riemann geometry\n",
       "## x: [t, r, theta, varphi]\n",
       "## metric: [[1, 0, 0, 0], [0, -a(t)**2/(-k*r**2 + 1), 0, 0], [0, 0, -r**2*a(t)**2, 0], [0, 0, 0, -r**2*a(t)**2*sin(theta)**2]]\n",
       "## inverse metric: [[1, 0, 0, 0], [0, (k*r**2 - 1)/a(t)**2, 0, 0], [0, 0, -1/(r**2*a(t)**2), 0], [0, 0, 0, -1/(r**2*a(t)**2*sin(theta)**2)]]\n",
       "## Christoffel symbols: [[[0, 0, 0, 0], [0, -a(t)*Derivative(a(t), t)/(k*r**2 - 1), 0, 0], [0, 0, r**2*a(t)*Derivative(a(t), t), 0], [0, 0, 0, r**2*a(t)*sin(theta)**2*Derivative(a(t), t)]], [[0, Derivative(a(t), t)/a(t), 0, 0], [Derivative(a(t), t)/a(t), -k*r/(k*r**2 - 1), 0, 0], [0, 0, k*r**3 - r, 0], [0, 0, 0, r*(k*r**2 - 1)*sin(theta)**2]], [[0, 0, Derivative(a(t), t)/a(t), 0], [0, 0, 1/r, 0], [Derivative(a(t), t)/a(t), 1/r, 0, 0], [0, 0, 0, -sin(theta)*cos(theta)]], [[0, 0, 0, Derivative(a(t), t)/a(t)], [0, 0, 0, 1/r], [0, 0, 0, 1/tan(theta)], [Derivative(a(t), t)/a(t), 1/r, 1/tan(theta), 0]]]\n",
       "## Riemann tensor: [[[[0, 0, 0, 0], [0, 0, 0, 0], [0, 0, 0, 0], [0, 0, 0, 0]], [[0, -a(t)*Derivative(a(t), (t, 2))/(k*r**2 - 1), 0, 0], [a(t)*Derivative(a(t), (t, 2))/(k*r**2 - 1), 0, 0, 0], [0, 0, 0, 0], [0, 0, 0, 0]], [[0, 0, r**2*a(t)*Derivative(a(t), (t, 2)), 0], [0, 0, 0, 0], [-r**2*a(t)*Derivative(a(t), (t, 2)), 0, 0, 0], [0, 0, 0, 0]], [[0, 0, 0, r**2*a(t)*sin(theta)**2*Derivative(a(t), (t, 2))], [0, 0, 0, 0], [0, 0, 0, 0], [-r**2*a(t)*sin(theta)**2*Derivative(a(t), (t, 2)), 0, 0, 0]]], [[[0, Derivative(a(t), (t, 2))/a(t), 0, 0], [-Derivative(a(t), (t, 2))/a(t), 0, 0, 0], [0, 0, 0, 0], [0, 0, 0, 0]], [[0, 0, 0, 0], [0, 0, 0, 0], [0, 0, 0, 0], [0, 0, 0, 0]], [[0, 0, 0, 0], [0, 0, r**2*(k + Derivative(a(t), t)**2), 0], [0, r**2*(-k - Derivative(a(t), t)**2), 0, 0], [0, 0, 0, 0]], [[0, 0, 0, 0], [0, 0, 0, r**2*(k + Derivative(a(t), t)**2)*sin(theta)**2], [0, 0, 0, 0], [0, r**2*(-k - Derivative(a(t), t)**2)*sin(theta)**2, 0, 0]]], [[[0, 0, Derivative(a(t), (t, 2))/a(t), 0], [0, 0, 0, 0], [-Derivative(a(t), (t, 2))/a(t), 0, 0, 0], [0, 0, 0, 0]], [[0, 0, 0, 0], [0, 0, (k + Derivative(a(t), t)**2)/(k*r**2 - 1), 0], [0, (-k - Derivative(a(t), t)**2)/(k*r**2 - 1), 0, 0], [0, 0, 0, 0]], [[0, 0, 0, 0], [0, 0, 0, 0], [0, 0, 0, 0], [0, 0, 0, 0]], [[0, 0, 0, 0], [0, 0, 0, 0], [0, 0, 0, r**2*(k + Derivative(a(t), t)**2)*sin(theta)**2], [0, 0, r**2*(-k - Derivative(a(t), t)**2)*sin(theta)**2, 0]]], [[[0, 0, 0, Derivative(a(t), (t, 2))/a(t)], [0, 0, 0, 0], [0, 0, 0, 0], [-Derivative(a(t), (t, 2))/a(t), 0, 0, 0]], [[0, 0, 0, 0], [0, 0, 0, (k + Derivative(a(t), t)**2)/(k*r**2 - 1)], [0, 0, 0, 0], [0, (-k - Derivative(a(t), t)**2)/(k*r**2 - 1), 0, 0]], [[0, 0, 0, 0], [0, 0, 0, 0], [0, 0, 0, r**2*(-k - Derivative(a(t), t)**2)], [0, 0, r**2*(k + Derivative(a(t), t)**2), 0]], [[0, 0, 0, 0], [0, 0, 0, 0], [0, 0, 0, 0], [0, 0, 0, 0]]]]\n",
       "## Ricci tensor: [[-3*Derivative(a(t), (t, 2))/a(t), 0, 0, 0], [0, (-2*k - a(t)*Derivative(a(t), (t, 2)) - 2*Derivative(a(t), t)**2)/(k*r**2 - 1), 0, 0], [0, 0, r**2*(2*k + a(t)*Derivative(a(t), (t, 2)) + 2*Derivative(a(t), t)**2), 0], [0, 0, 0, r**2*(2*k + a(t)*Derivative(a(t), (t, 2)) + 2*Derivative(a(t), t)**2)*sin(theta)**2]]\n",
       "## Ricci scalar: 6*(-k - a(t)*Derivative(a(t), (t, 2)) - Derivative(a(t), t)**2)/a(t)**2"
      ]
     },
     "execution_count": 14,
     "metadata": {},
     "output_type": "execute_result"
    }
   ],
   "source": [
    "# coordinates \n",
    "t, r, theta, phi = sp.symbols('t r theta varphi')\n",
    "# constants\n",
    "k, c = sp.symbols('k c')\n",
    "# dependent function\n",
    "a = sp.Function('a')(t)\n",
    "# ------------------------------\n",
    "coords = sp.Matrix([t, r, theta, phi])\n",
    "metric = sp.diag(1, -a**2/(1-k*r**2), -r**2*a**2, -r**2*a**2*(sp.sin(theta))**2)\n",
    "geo = RiemannGeometry(metric, coords)\n",
    "geo.calculate()\n",
    "geo"
   ]
  }
 ],
 "metadata": {
  "kernelspec": {
   "display_name": "Python 3 (ipykernel)",
   "language": "python",
   "name": "python3"
  },
  "language_info": {
   "codemirror_mode": {
    "name": "ipython",
    "version": 3
   },
   "file_extension": ".py",
   "mimetype": "text/x-python",
   "name": "python",
   "nbconvert_exporter": "python",
   "pygments_lexer": "ipython3",
   "version": "3.9.6"
  }
 },
 "nbformat": 4,
 "nbformat_minor": 5
}
