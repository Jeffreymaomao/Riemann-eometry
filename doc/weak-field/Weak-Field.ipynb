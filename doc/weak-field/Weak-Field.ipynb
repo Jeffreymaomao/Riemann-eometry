{
 "cells": [
  {
   "cell_type": "markdown",
   "id": "a1166cdb-342b-49ec-8164-b9ca7671b41a",
   "metadata": {},
   "source": [
    "# Weak-Field metric"
   ]
  },
  {
   "cell_type": "code",
   "execution_count": 2,
   "id": "1c152e9c-c4b8-44e9-91c1-b9fce49248b3",
   "metadata": {},
   "outputs": [],
   "source": [
    "import sympy as sp\n",
    "from IPython.display import Math, Markdown"
   ]
  },
  {
   "cell_type": "code",
   "execution_count": 38,
   "id": "20a91f54-715a-4d58-93c3-2238fae4bbd3",
   "metadata": {},
   "outputs": [],
   "source": [
    "%reload_ext autoreload\n",
    "%autoreload 2\n",
    "from riemann_geometry import RiemannGeometry "
   ]
  },
  {
   "cell_type": "markdown",
   "id": "444fd6eb-4d2e-4335-aa6d-fb87a835d6e6",
   "metadata": {},
   "source": [
    "## Weak-Field in $\\mathbb{R}^{3+1}$ : Spherical coordinate "
   ]
  },
  {
   "cell_type": "code",
   "execution_count": 45,
   "id": "fa261973-11e6-4817-a502-2bd58b480f7c",
   "metadata": {},
   "outputs": [
    {
     "data": {
      "text/latex": [
       "$\\displaystyle x^{\\mu} = \\begin{pmatrix}t\\\\r\\\\\\theta\\\\\\varphi\\end{pmatrix}, \\quad g_{\\mu \\nu} = \\begin{pmatrix} - 2 \\Phi{\\left(r \\right)} - 1 & 0 & 0 & 0\\\\ 0 & 1 - 2 \\Phi{\\left(r \\right)} & 0 & 0\\\\ 0 & 0 & r^{2} \\cdot \\left(1 - 2 \\Phi{\\left(r \\right)}\\right) & 0\\\\ 0 & 0 & 0 & r^{2} \\cdot \\left(1 - 2 \\Phi{\\left(r \\right)}\\right) \\sin^{2}{\\left(\\theta \\right)} \\end{pmatrix}$"
      ],
      "text/plain": [
       "<IPython.core.display.Math object>"
      ]
     },
     "execution_count": 45,
     "metadata": {},
     "output_type": "execute_result"
    }
   ],
   "source": [
    "t, r, theta, phi = sp.symbols('t r theta varphi')\n",
    "Phi = sp.Function('Phi')(r)\n",
    "# ------------------------------\n",
    "coords = sp.Matrix([t, r, theta, phi])\n",
    "metrix = sp.diag(-(1+2*Phi), (1-2*Phi), (1-2*Phi)*r**2, (1-2*Phi)*r**2*(sp.sin(theta))**2)\n",
    "\n",
    "geo = RiemannGeometry(metrix, coords)\n",
    "Math(f\"x^{{\\\\mu}} = {geo.x_latex()}, \\quad g_{{\\\\mu \\\\nu}} = {geo.g_latex()}\")"
   ]
  },
  {
   "cell_type": "code",
   "execution_count": 46,
   "id": "0e7781e5-13b0-407e-9c32-574312014808",
   "metadata": {},
   "outputs": [
    {
     "name": "stdout",
     "output_type": "stream",
     "text": [
      "Calculating ...\n"
     ]
    },
    {
     "name": "stderr",
     "output_type": "stream",
     "text": [
      "Christoffel Symbols : 100%|███████████████████████████████████| 4/4 [00:00<00:00, 14.79it/s]\n",
      "Riemann Tensor      : 100%|███████████████████████████████████| 4/4 [00:01<00:00,  3.80it/s]\n",
      "Ricci Tensor        : 100%|███████████████████████████████████| 4/4 [00:00<00:00, 12.80it/s]\n",
      "Ricci Scalar        : 100%|████████████████████████████████| 4/4 [00:00<00:00, 11452.02it/s]\n"
     ]
    }
   ],
   "source": [
    "# WARM: !!! It would take many time to calcuate!!!!!\n",
    "geo.calculate()\n",
    "# geo"
   ]
  },
  {
   "cell_type": "code",
   "execution_count": 65,
   "id": "cc2935a8-8408-4e23-8395-66061b3b5dfb",
   "metadata": {},
   "outputs": [
    {
     "data": {
      "text/latex": [
       "$\\displaystyle \\Gamma^{\\mu}_{\\alpha\\beta} = \\begin{pmatrix} \\begin{pmatrix} 0 & \\frac{\\Phi'}{2 \\Phi + 1} & 0 & 0\\\\ \\frac{\\Phi'}{2 \\Phi + 1} & 0 & 0 & 0\\\\ 0 & 0 & 0 & 0\\\\ 0 & 0 & 0 & 0 \\end{pmatrix} & \\begin{pmatrix} - \\frac{\\Phi'}{2 \\Phi - 1} & 0 & 0 & 0\\\\ 0 & \\frac{\\Phi'}{2 \\Phi - 1} & 0 & 0\\\\ 0 & 0 & \\frac{r \\left(- r \\Phi' - 2 \\Phi + 1\\right)}{2 \\Phi - 1} & 0\\\\ 0 & 0 & 0 & \\frac{r \\left(- r \\Phi' - 2 \\Phi + 1\\right) \\sin^{2}{\\left(\\theta \\right)}}{2 \\Phi - 1} \\end{pmatrix} & \\begin{pmatrix} 0 & 0 & 0 & 0\\\\ 0 & 0 & \\frac{r \\Phi' + 2 \\Phi - 1}{r \\left(2 \\Phi - 1\\right)} & 0\\\\ 0 & \\frac{r \\Phi' + 2 \\Phi - 1}{r \\left(2 \\Phi - 1\\right)} & 0 & 0\\\\ 0 & 0 & 0 & - \\sin{\\left(\\theta \\right)} \\cos{\\left(\\theta \\right)} \\end{pmatrix} & \\begin{pmatrix} 0 & 0 & 0 & 0\\\\ 0 & 0 & 0 & \\frac{r \\Phi' + 2 \\Phi - 1}{r \\left(2 \\Phi - 1\\right)}\\\\ 0 & 0 & 0 & \\frac{1}{\\tan{\\left(\\theta \\right)}}\\\\ 0 & \\frac{r \\Phi' + 2 \\Phi - 1}{r \\left(2 \\Phi - 1\\right)} & \\frac{1}{\\tan{\\left(\\theta \\right)}} & 0 \\end{pmatrix} \\end{pmatrix}$"
      ],
      "text/plain": [
       "<IPython.core.display.Math object>"
      ]
     },
     "execution_count": 65,
     "metadata": {},
     "output_type": "execute_result"
    }
   ],
   "source": [
    "Christoffel_latex = geo.Christoffel_symbols_latex()\n",
    "Christoffel_latex = Christoffel_latex.replace(\"\\\\frac{d}{d r} \\\\Phi{\\\\left(r \\\\right)}\", \"\\\\Phi'\")\n",
    "Christoffel_latex = Christoffel_latex.replace(\"\\\\Phi{\\\\left(r \\\\right)}\", \"\\\\Phi\")\n",
    "Math(f\"\\\\Gamma^{{\\\\mu}}_{{\\\\alpha\\\\beta}} = {Christoffel_latex}\")"
   ]
  },
  {
   "cell_type": "code",
   "execution_count": 72,
   "id": "01a12a9c-718b-43d9-bf56-f07c02316dec",
   "metadata": {},
   "outputs": [
    {
     "data": {
      "text/latex": [
       "$$x^{a}=\\begin{pmatrix}t\\\\r\\\\\\theta\\\\\\varphi\\end{pmatrix},\\quad g_{ab}=\\begin{pmatrix} - 2 \\Phi{\\left(r \\right)} - 1 & 0 & 0 & 0\\\\ 0 & 1 - 2 \\Phi{\\left(r \\right)} & 0 & 0\\\\ 0 & 0 & r^{2} \\cdot \\left(1 - 2 \\Phi{\\left(r \\right)}\\right) & 0\\\\ 0 & 0 & 0 & r^{2} \\cdot \\left(1 - 2 \\Phi{\\left(r \\right)}\\right) \\sin^{2}{\\left(\\theta \\right)} \\end{pmatrix},\\quad g^{ab}=\\begin{pmatrix} \\frac{1}{- 2 \\Phi{\\left(r \\right)} - 1} & 0 & 0 & 0\\\\ 0 & \\frac{1}{1 - 2 \\Phi{\\left(r \\right)}} & 0 & 0\\\\ 0 & 0 & - \\frac{1}{2 r^{2} \\Phi{\\left(r \\right)} - r^{2}} & 0\\\\ 0 & 0 & 0 & - \\frac{1}{2 r^{2} \\Phi{\\left(r \\right)} \\sin^{2}{\\left(\\theta \\right)} - r^{2} \\sin^{2}{\\left(\\theta \\right)}} \\end{pmatrix},$$\n",
       "$${\\Gamma^{a}}_{bc}=\\begin{pmatrix} \\begin{pmatrix} 0 & \\frac{\\frac{d}{d r} \\Phi{\\left(r \\right)}}{2 \\Phi{\\left(r \\right)} + 1} & 0 & 0\\\\ \\frac{\\frac{d}{d r} \\Phi{\\left(r \\right)}}{2 \\Phi{\\left(r \\right)} + 1} & 0 & 0 & 0\\\\ 0 & 0 & 0 & 0\\\\ 0 & 0 & 0 & 0 \\end{pmatrix} & \\begin{pmatrix} - \\frac{\\frac{d}{d r} \\Phi{\\left(r \\right)}}{2 \\Phi{\\left(r \\right)} - 1} & 0 & 0 & 0\\\\ 0 & \\frac{\\frac{d}{d r} \\Phi{\\left(r \\right)}}{2 \\Phi{\\left(r \\right)} - 1} & 0 & 0\\\\ 0 & 0 & \\frac{r \\left(- r \\frac{d}{d r} \\Phi{\\left(r \\right)} - 2 \\Phi{\\left(r \\right)} + 1\\right)}{2 \\Phi{\\left(r \\right)} - 1} & 0\\\\ 0 & 0 & 0 & \\frac{r \\left(- r \\frac{d}{d r} \\Phi{\\left(r \\right)} - 2 \\Phi{\\left(r \\right)} + 1\\right) \\sin^{2}{\\left(\\theta \\right)}}{2 \\Phi{\\left(r \\right)} - 1} \\end{pmatrix} & \\begin{pmatrix} 0 & 0 & 0 & 0\\\\ 0 & 0 & \\frac{r \\frac{d}{d r} \\Phi{\\left(r \\right)} + 2 \\Phi{\\left(r \\right)} - 1}{r \\left(2 \\Phi{\\left(r \\right)} - 1\\right)} & 0\\\\ 0 & \\frac{r \\frac{d}{d r} \\Phi{\\left(r \\right)} + 2 \\Phi{\\left(r \\right)} - 1}{r \\left(2 \\Phi{\\left(r \\right)} - 1\\right)} & 0 & 0\\\\ 0 & 0 & 0 & - \\sin{\\left(\\theta \\right)} \\cos{\\left(\\theta \\right)} \\end{pmatrix} & \\begin{pmatrix} 0 & 0 & 0 & 0\\\\ 0 & 0 & 0 & \\frac{r \\frac{d}{d r} \\Phi{\\left(r \\right)} + 2 \\Phi{\\left(r \\right)} - 1}{r \\left(2 \\Phi{\\left(r \\right)} - 1\\right)}\\\\ 0 & 0 & 0 & \\frac{1}{\\tan{\\left(\\theta \\right)}}\\\\ 0 & \\frac{r \\frac{d}{d r} \\Phi{\\left(r \\right)} + 2 \\Phi{\\left(r \\right)} - 1}{r \\left(2 \\Phi{\\left(r \\right)} - 1\\right)} & \\frac{1}{\\tan{\\left(\\theta \\right)}} & 0 \\end{pmatrix} \\end{pmatrix},$$\n",
       "$${R^{a}}_{bcd}=\\begin{pmatrix} \\begin{pmatrix} 0 & 0 & 0 & 0\\\\ 0 & 0 & 0 & 0\\\\ 0 & 0 & 0 & 0\\\\ 0 & 0 & 0 & 0 \\end{pmatrix} & \\begin{pmatrix} 0 & \\frac{- 4 \\Phi^{2}{\\left(r \\right)} \\frac{d^{2}}{d r^{2}} \\Phi{\\left(r \\right)} + 4 \\Phi{\\left(r \\right)} \\left(\\frac{d}{d r} \\Phi{\\left(r \\right)}\\right)^{2} + \\frac{d^{2}}{d r^{2}} \\Phi{\\left(r \\right)}}{8 \\Phi^{3}{\\left(r \\right)} + 4 \\Phi^{2}{\\left(r \\right)} - 2 \\Phi{\\left(r \\right)} - 1} & 0 & 0\\\\ \\frac{4 \\Phi^{2}{\\left(r \\right)} \\frac{d^{2}}{d r^{2}} \\Phi{\\left(r \\right)} - 4 \\Phi{\\left(r \\right)} \\left(\\frac{d}{d r} \\Phi{\\left(r \\right)}\\right)^{2} - \\frac{d^{2}}{d r^{2}} \\Phi{\\left(r \\right)}}{8 \\Phi^{3}{\\left(r \\right)} + 4 \\Phi^{2}{\\left(r \\right)} - 2 \\Phi{\\left(r \\right)} - 1} & 0 & 0 & 0\\\\ 0 & 0 & 0 & 0\\\\ 0 & 0 & 0 & 0 \\end{pmatrix} & \\begin{pmatrix} 0 & 0 & \\frac{r \\left(- r \\frac{d}{d r} \\Phi{\\left(r \\right)} - 2 \\Phi{\\left(r \\right)} + 1\\right) \\frac{d}{d r} \\Phi{\\left(r \\right)}}{4 \\Phi^{2}{\\left(r \\right)} - 1} & 0\\\\ 0 & 0 & 0 & 0\\\\ \\frac{r \\left(r \\frac{d}{d r} \\Phi{\\left(r \\right)} + 2 \\Phi{\\left(r \\right)} - 1\\right) \\frac{d}{d r} \\Phi{\\left(r \\right)}}{4 \\Phi^{2}{\\left(r \\right)} - 1} & 0 & 0 & 0\\\\ 0 & 0 & 0 & 0 \\end{pmatrix} & \\begin{pmatrix} 0 & 0 & 0 & \\frac{r \\left(- r \\frac{d}{d r} \\Phi{\\left(r \\right)} - 2 \\Phi{\\left(r \\right)} + 1\\right) \\sin^{2}{\\left(\\theta \\right)} \\frac{d}{d r} \\Phi{\\left(r \\right)}}{4 \\Phi^{2}{\\left(r \\right)} - 1}\\\\ 0 & 0 & 0 & 0\\\\ 0 & 0 & 0 & 0\\\\ \\frac{r \\left(r \\frac{d}{d r} \\Phi{\\left(r \\right)} + 2 \\Phi{\\left(r \\right)} - 1\\right) \\sin^{2}{\\left(\\theta \\right)} \\frac{d}{d r} \\Phi{\\left(r \\right)}}{4 \\Phi^{2}{\\left(r \\right)} - 1} & 0 & 0 & 0 \\end{pmatrix}\\\\ \\begin{pmatrix} 0 & \\frac{4 \\Phi^{2}{\\left(r \\right)} \\frac{d^{2}}{d r^{2}} \\Phi{\\left(r \\right)} - 4 \\Phi{\\left(r \\right)} \\left(\\frac{d}{d r} \\Phi{\\left(r \\right)}\\right)^{2} - \\frac{d^{2}}{d r^{2}} \\Phi{\\left(r \\right)}}{8 \\Phi^{3}{\\left(r \\right)} - 4 \\Phi^{2}{\\left(r \\right)} - 2 \\Phi{\\left(r \\right)} + 1} & 0 & 0\\\\ \\frac{- 4 \\Phi^{2}{\\left(r \\right)} \\frac{d^{2}}{d r^{2}} \\Phi{\\left(r \\right)} + 4 \\Phi{\\left(r \\right)} \\left(\\frac{d}{d r} \\Phi{\\left(r \\right)}\\right)^{2} + \\frac{d^{2}}{d r^{2}} \\Phi{\\left(r \\right)}}{8 \\Phi^{3}{\\left(r \\right)} - 4 \\Phi^{2}{\\left(r \\right)} - 2 \\Phi{\\left(r \\right)} + 1} & 0 & 0 & 0\\\\ 0 & 0 & 0 & 0\\\\ 0 & 0 & 0 & 0 \\end{pmatrix} & \\begin{pmatrix} 0 & 0 & 0 & 0\\\\ 0 & 0 & 0 & 0\\\\ 0 & 0 & 0 & 0\\\\ 0 & 0 & 0 & 0 \\end{pmatrix} & \\begin{pmatrix} 0 & 0 & 0 & 0\\\\ 0 & 0 & \\frac{r \\left(- 2 r \\Phi{\\left(r \\right)} \\frac{d^{2}}{d r^{2}} \\Phi{\\left(r \\right)} + 2 r \\left(\\frac{d}{d r} \\Phi{\\left(r \\right)}\\right)^{2} + r \\frac{d^{2}}{d r^{2}} \\Phi{\\left(r \\right)} - 2 \\Phi{\\left(r \\right)} \\frac{d}{d r} \\Phi{\\left(r \\right)} + \\frac{d}{d r} \\Phi{\\left(r \\right)}\\right)}{4 \\Phi^{2}{\\left(r \\right)} - 4 \\Phi{\\left(r \\right)} + 1} & 0\\\\ 0 & \\frac{r \\left(2 r \\Phi{\\left(r \\right)} \\frac{d^{2}}{d r^{2}} \\Phi{\\left(r \\right)} - 2 r \\left(\\frac{d}{d r} \\Phi{\\left(r \\right)}\\right)^{2} - r \\frac{d^{2}}{d r^{2}} \\Phi{\\left(r \\right)} + 2 \\Phi{\\left(r \\right)} \\frac{d}{d r} \\Phi{\\left(r \\right)} - \\frac{d}{d r} \\Phi{\\left(r \\right)}\\right)}{4 \\Phi^{2}{\\left(r \\right)} - 4 \\Phi{\\left(r \\right)} + 1} & 0 & 0\\\\ 0 & 0 & 0 & 0 \\end{pmatrix} & \\begin{pmatrix} 0 & 0 & 0 & 0\\\\ 0 & 0 & 0 & \\frac{r \\left(- 2 r \\Phi{\\left(r \\right)} \\frac{d^{2}}{d r^{2}} \\Phi{\\left(r \\right)} + 2 r \\left(\\frac{d}{d r} \\Phi{\\left(r \\right)}\\right)^{2} + r \\frac{d^{2}}{d r^{2}} \\Phi{\\left(r \\right)} - 2 \\Phi{\\left(r \\right)} \\frac{d}{d r} \\Phi{\\left(r \\right)} + \\frac{d}{d r} \\Phi{\\left(r \\right)}\\right) \\sin^{2}{\\left(\\theta \\right)}}{4 \\Phi^{2}{\\left(r \\right)} - 4 \\Phi{\\left(r \\right)} + 1}\\\\ 0 & 0 & 0 & 0\\\\ 0 & \\frac{r \\left(2 r \\Phi{\\left(r \\right)} \\frac{d^{2}}{d r^{2}} \\Phi{\\left(r \\right)} - 2 r \\left(\\frac{d}{d r} \\Phi{\\left(r \\right)}\\right)^{2} - r \\frac{d^{2}}{d r^{2}} \\Phi{\\left(r \\right)} + 2 \\Phi{\\left(r \\right)} \\frac{d}{d r} \\Phi{\\left(r \\right)} - \\frac{d}{d r} \\Phi{\\left(r \\right)}\\right) \\sin^{2}{\\left(\\theta \\right)}}{4 \\Phi^{2}{\\left(r \\right)} - 4 \\Phi{\\left(r \\right)} + 1} & 0 & 0 \\end{pmatrix}\\\\ \\begin{pmatrix} 0 & 0 & \\frac{\\left(r \\frac{d}{d r} \\Phi{\\left(r \\right)} + 2 \\Phi{\\left(r \\right)} - 1\\right) \\frac{d}{d r} \\Phi{\\left(r \\right)}}{r \\left(2 \\Phi{\\left(r \\right)} - 1\\right)^{2}} & 0\\\\ 0 & 0 & 0 & 0\\\\ - \\frac{\\left(r \\frac{d}{d r} \\Phi{\\left(r \\right)} + 2 \\Phi{\\left(r \\right)} - 1\\right) \\frac{d}{d r} \\Phi{\\left(r \\right)}}{r \\left(2 \\Phi{\\left(r \\right)} - 1\\right)^{2}} & 0 & 0 & 0\\\\ 0 & 0 & 0 & 0 \\end{pmatrix} & \\begin{pmatrix} 0 & 0 & 0 & 0\\\\ 0 & 0 & \\frac{2 r \\Phi{\\left(r \\right)} \\frac{d^{2}}{d r^{2}} \\Phi{\\left(r \\right)} - 2 r \\left(\\frac{d}{d r} \\Phi{\\left(r \\right)}\\right)^{2} - r \\frac{d^{2}}{d r^{2}} \\Phi{\\left(r \\right)} + 2 \\Phi{\\left(r \\right)} \\frac{d}{d r} \\Phi{\\left(r \\right)} - \\frac{d}{d r} \\Phi{\\left(r \\right)}}{r \\left(4 \\Phi^{2}{\\left(r \\right)} - 4 \\Phi{\\left(r \\right)} + 1\\right)} & 0\\\\ 0 & \\frac{- 2 r \\Phi{\\left(r \\right)} \\frac{d^{2}}{d r^{2}} \\Phi{\\left(r \\right)} + 2 r \\left(\\frac{d}{d r} \\Phi{\\left(r \\right)}\\right)^{2} + r \\frac{d^{2}}{d r^{2}} \\Phi{\\left(r \\right)} - 2 \\Phi{\\left(r \\right)} \\frac{d}{d r} \\Phi{\\left(r \\right)} + \\frac{d}{d r} \\Phi{\\left(r \\right)}}{r \\left(4 \\Phi^{2}{\\left(r \\right)} - 4 \\Phi{\\left(r \\right)} + 1\\right)} & 0 & 0\\\\ 0 & 0 & 0 & 0 \\end{pmatrix} & \\begin{pmatrix} 0 & 0 & 0 & 0\\\\ 0 & 0 & 0 & 0\\\\ 0 & 0 & 0 & 0\\\\ 0 & 0 & 0 & 0 \\end{pmatrix} & \\begin{pmatrix} 0 & 0 & 0 & 0\\\\ 0 & 0 & 0 & 0\\\\ 0 & 0 & 0 & \\sin^{2}{\\left(\\theta \\right)} - \\frac{\\left(r \\frac{d}{d r} \\Phi{\\left(r \\right)} + 2 \\Phi{\\left(r \\right)} - 1\\right)^{2} \\sin^{2}{\\left(\\theta \\right)}}{\\left(2 \\Phi{\\left(r \\right)} - 1\\right)^{2}}\\\\ 0 & 0 & - \\sin^{2}{\\left(\\theta \\right)} + \\frac{\\left(r \\frac{d}{d r} \\Phi{\\left(r \\right)} + 2 \\Phi{\\left(r \\right)} - 1\\right)^{2} \\sin^{2}{\\left(\\theta \\right)}}{\\left(2 \\Phi{\\left(r \\right)} - 1\\right)^{2}} & 0 \\end{pmatrix}\\\\ \\begin{pmatrix} 0 & 0 & 0 & \\frac{\\left(r \\frac{d}{d r} \\Phi{\\left(r \\right)} + 2 \\Phi{\\left(r \\right)} - 1\\right) \\frac{d}{d r} \\Phi{\\left(r \\right)}}{r \\left(2 \\Phi{\\left(r \\right)} - 1\\right)^{2}}\\\\ 0 & 0 & 0 & 0\\\\ 0 & 0 & 0 & 0\\\\ - \\frac{\\left(r \\frac{d}{d r} \\Phi{\\left(r \\right)} + 2 \\Phi{\\left(r \\right)} - 1\\right) \\frac{d}{d r} \\Phi{\\left(r \\right)}}{r \\left(2 \\Phi{\\left(r \\right)} - 1\\right)^{2}} & 0 & 0 & 0 \\end{pmatrix} & \\begin{pmatrix} 0 & 0 & 0 & 0\\\\ 0 & 0 & 0 & \\frac{2 r \\Phi{\\left(r \\right)} \\frac{d^{2}}{d r^{2}} \\Phi{\\left(r \\right)} - 2 r \\left(\\frac{d}{d r} \\Phi{\\left(r \\right)}\\right)^{2} - r \\frac{d^{2}}{d r^{2}} \\Phi{\\left(r \\right)} + 2 \\Phi{\\left(r \\right)} \\frac{d}{d r} \\Phi{\\left(r \\right)} - \\frac{d}{d r} \\Phi{\\left(r \\right)}}{r \\left(4 \\Phi^{2}{\\left(r \\right)} - 4 \\Phi{\\left(r \\right)} + 1\\right)}\\\\ 0 & 0 & 0 & 0\\\\ 0 & \\frac{- 2 r \\Phi{\\left(r \\right)} \\frac{d^{2}}{d r^{2}} \\Phi{\\left(r \\right)} + 2 r \\left(\\frac{d}{d r} \\Phi{\\left(r \\right)}\\right)^{2} + r \\frac{d^{2}}{d r^{2}} \\Phi{\\left(r \\right)} - 2 \\Phi{\\left(r \\right)} \\frac{d}{d r} \\Phi{\\left(r \\right)} + \\frac{d}{d r} \\Phi{\\left(r \\right)}}{r \\left(4 \\Phi^{2}{\\left(r \\right)} - 4 \\Phi{\\left(r \\right)} + 1\\right)} & 0 & 0 \\end{pmatrix} & \\begin{pmatrix} 0 & 0 & 0 & 0\\\\ 0 & 0 & 0 & 0\\\\ 0 & 0 & 0 & \\frac{r \\left(r \\frac{d}{d r} \\Phi{\\left(r \\right)} + 4 \\Phi{\\left(r \\right)} - 2\\right) \\frac{d}{d r} \\Phi{\\left(r \\right)}}{4 \\Phi^{2}{\\left(r \\right)} - 4 \\Phi{\\left(r \\right)} + 1}\\\\ 0 & 0 & \\frac{r \\left(- r \\frac{d}{d r} \\Phi{\\left(r \\right)} - 4 \\Phi{\\left(r \\right)} + 2\\right) \\frac{d}{d r} \\Phi{\\left(r \\right)}}{4 \\Phi^{2}{\\left(r \\right)} - 4 \\Phi{\\left(r \\right)} + 1} & 0 \\end{pmatrix} & \\begin{pmatrix} 0 & 0 & 0 & 0\\\\ 0 & 0 & 0 & 0\\\\ 0 & 0 & 0 & 0\\\\ 0 & 0 & 0 & 0 \\end{pmatrix} \\end{pmatrix},$$\n",
       "$$R_{ab}=\\begin{pmatrix} \\frac{- 4 r \\Phi^{2}{\\left(r \\right)} \\frac{d^{2}}{d r^{2}} \\Phi{\\left(r \\right)} - 2 r \\left(\\frac{d}{d r} \\Phi{\\left(r \\right)}\\right)^{2} + r \\frac{d^{2}}{d r^{2}} \\Phi{\\left(r \\right)} - 8 \\Phi^{2}{\\left(r \\right)} \\frac{d}{d r} \\Phi{\\left(r \\right)} + 2 \\frac{d}{d r} \\Phi{\\left(r \\right)}}{r \\left(8 \\Phi^{3}{\\left(r \\right)} - 4 \\Phi^{2}{\\left(r \\right)} - 2 \\Phi{\\left(r \\right)} + 1\\right)} & 0 & 0 & 0\\\\ 0 & \\frac{- 24 r \\Phi^{3}{\\left(r \\right)} \\frac{d^{2}}{d r^{2}} \\Phi{\\left(r \\right)} + 24 r \\Phi^{2}{\\left(r \\right)} \\left(\\frac{d}{d r} \\Phi{\\left(r \\right)}\\right)^{2} - 4 r \\Phi^{2}{\\left(r \\right)} \\frac{d^{2}}{d r^{2}} \\Phi{\\left(r \\right)} + 12 r \\Phi{\\left(r \\right)} \\left(\\frac{d}{d r} \\Phi{\\left(r \\right)}\\right)^{2} + 6 r \\Phi{\\left(r \\right)} \\frac{d^{2}}{d r^{2}} \\Phi{\\left(r \\right)} + 4 r \\left(\\frac{d}{d r} \\Phi{\\left(r \\right)}\\right)^{2} + r \\frac{d^{2}}{d r^{2}} \\Phi{\\left(r \\right)} - 16 \\Phi^{3}{\\left(r \\right)} \\frac{d}{d r} \\Phi{\\left(r \\right)} - 8 \\Phi^{2}{\\left(r \\right)} \\frac{d}{d r} \\Phi{\\left(r \\right)} + 4 \\Phi{\\left(r \\right)} \\frac{d}{d r} \\Phi{\\left(r \\right)} + 2 \\frac{d}{d r} \\Phi{\\left(r \\right)}}{r \\left(16 \\Phi^{4}{\\left(r \\right)} - 8 \\Phi^{2}{\\left(r \\right)} + 1\\right)} & 0 & 0\\\\ 0 & 0 & \\frac{r \\left(- 4 r \\Phi^{2}{\\left(r \\right)} \\frac{d^{2}}{d r^{2}} \\Phi{\\left(r \\right)} + 2 r \\left(\\frac{d}{d r} \\Phi{\\left(r \\right)}\\right)^{2} + r \\frac{d^{2}}{d r^{2}} \\Phi{\\left(r \\right)} - 16 \\Phi^{2}{\\left(r \\right)} \\frac{d}{d r} \\Phi{\\left(r \\right)} + 4 \\Phi{\\left(r \\right)} \\frac{d}{d r} \\Phi{\\left(r \\right)} + 2 \\frac{d}{d r} \\Phi{\\left(r \\right)}\\right)}{8 \\Phi^{3}{\\left(r \\right)} - 4 \\Phi^{2}{\\left(r \\right)} - 2 \\Phi{\\left(r \\right)} + 1} & 0\\\\ 0 & 0 & 0 & \\frac{r \\left(- 4 r \\Phi^{2}{\\left(r \\right)} \\frac{d^{2}}{d r^{2}} \\Phi{\\left(r \\right)} + 2 r \\left(\\frac{d}{d r} \\Phi{\\left(r \\right)}\\right)^{2} + r \\frac{d^{2}}{d r^{2}} \\Phi{\\left(r \\right)} - 16 \\Phi^{2}{\\left(r \\right)} \\frac{d}{d r} \\Phi{\\left(r \\right)} + 4 \\Phi{\\left(r \\right)} \\frac{d}{d r} \\Phi{\\left(r \\right)} + 2 \\frac{d}{d r} \\Phi{\\left(r \\right)}\\right) \\sin^{2}{\\left(\\theta \\right)}}{8 \\Phi^{3}{\\left(r \\right)} - 4 \\Phi^{2}{\\left(r \\right)} - 2 \\Phi{\\left(r \\right)} + 1} \\end{pmatrix},\\quad R=\\frac{2 \\cdot \\left(24 r \\Phi^{3}{\\left(r \\right)} \\frac{d^{2}}{d r^{2}} \\Phi{\\left(r \\right)} - 12 r \\Phi^{2}{\\left(r \\right)} \\left(\\frac{d}{d r} \\Phi{\\left(r \\right)}\\right)^{2} + 4 r \\Phi^{2}{\\left(r \\right)} \\frac{d^{2}}{d r^{2}} \\Phi{\\left(r \\right)} - 8 r \\Phi{\\left(r \\right)} \\left(\\frac{d}{d r} \\Phi{\\left(r \\right)}\\right)^{2} - 6 r \\Phi{\\left(r \\right)} \\frac{d^{2}}{d r^{2}} \\Phi{\\left(r \\right)} - 5 r \\left(\\frac{d}{d r} \\Phi{\\left(r \\right)}\\right)^{2} - r \\frac{d^{2}}{d r^{2}} \\Phi{\\left(r \\right)} + 48 \\Phi^{3}{\\left(r \\right)} \\frac{d}{d r} \\Phi{\\left(r \\right)} + 8 \\Phi^{2}{\\left(r \\right)} \\frac{d}{d r} \\Phi{\\left(r \\right)} - 12 \\Phi{\\left(r \\right)} \\frac{d}{d r} \\Phi{\\left(r \\right)} - 2 \\frac{d}{d r} \\Phi{\\left(r \\right)}\\right)}{r \\left(32 \\Phi^{5}{\\left(r \\right)} - 16 \\Phi^{4}{\\left(r \\right)} - 16 \\Phi^{3}{\\left(r \\right)} + 8 \\Phi^{2}{\\left(r \\right)} + 2 \\Phi{\\left(r \\right)} - 1\\right)}.$$"
      ],
      "text/plain": [
       "# Riemann geometry\n",
       "## x: [t, r, theta, varphi]\n",
       "## metric: [[-2*Phi(r) - 1, 0, 0, 0], [0, 1 - 2*Phi(r), 0, 0], [0, 0, r**2*(1 - 2*Phi(r)), 0], [0, 0, 0, r**2*(1 - 2*Phi(r))*sin(theta)**2]]\n",
       "## inverse metric: [[1/(-2*Phi(r) - 1), 0, 0, 0], [0, 1/(1 - 2*Phi(r)), 0, 0], [0, 0, -1/(2*r**2*Phi(r) - r**2), 0], [0, 0, 0, -1/(2*r**2*Phi(r)*sin(theta)**2 - r**2*sin(theta)**2)]]\n",
       "## Christoffel symbols: [[[0, Derivative(Phi(r), r)/(2*Phi(r) + 1), 0, 0], [Derivative(Phi(r), r)/(2*Phi(r) + 1), 0, 0, 0], [0, 0, 0, 0], [0, 0, 0, 0]], [[-Derivative(Phi(r), r)/(2*Phi(r) - 1), 0, 0, 0], [0, Derivative(Phi(r), r)/(2*Phi(r) - 1), 0, 0], [0, 0, r*(-r*Derivative(Phi(r), r) - 2*Phi(r) + 1)/(2*Phi(r) - 1), 0], [0, 0, 0, r*(-r*Derivative(Phi(r), r) - 2*Phi(r) + 1)*sin(theta)**2/(2*Phi(r) - 1)]], [[0, 0, 0, 0], [0, 0, (r*Derivative(Phi(r), r) + 2*Phi(r) - 1)/(r*(2*Phi(r) - 1)), 0], [0, (r*Derivative(Phi(r), r) + 2*Phi(r) - 1)/(r*(2*Phi(r) - 1)), 0, 0], [0, 0, 0, -sin(theta)*cos(theta)]], [[0, 0, 0, 0], [0, 0, 0, (r*Derivative(Phi(r), r) + 2*Phi(r) - 1)/(r*(2*Phi(r) - 1))], [0, 0, 0, 1/tan(theta)], [0, (r*Derivative(Phi(r), r) + 2*Phi(r) - 1)/(r*(2*Phi(r) - 1)), 1/tan(theta), 0]]]\n",
       "## Riemann tensor: [[[[0, 0, 0, 0], [0, 0, 0, 0], [0, 0, 0, 0], [0, 0, 0, 0]], [[0, (-4*Phi(r)**2*Derivative(Phi(r), (r, 2)) + 4*Phi(r)*Derivative(Phi(r), r)**2 + Derivative(Phi(r), (r, 2)))/(8*Phi(r)**3 + 4*Phi(r)**2 - 2*Phi(r) - 1), 0, 0], [(4*Phi(r)**2*Derivative(Phi(r), (r, 2)) - 4*Phi(r)*Derivative(Phi(r), r)**2 - Derivative(Phi(r), (r, 2)))/(8*Phi(r)**3 + 4*Phi(r)**2 - 2*Phi(r) - 1), 0, 0, 0], [0, 0, 0, 0], [0, 0, 0, 0]], [[0, 0, r*(-r*Derivative(Phi(r), r) - 2*Phi(r) + 1)*Derivative(Phi(r), r)/(4*Phi(r)**2 - 1), 0], [0, 0, 0, 0], [r*(r*Derivative(Phi(r), r) + 2*Phi(r) - 1)*Derivative(Phi(r), r)/(4*Phi(r)**2 - 1), 0, 0, 0], [0, 0, 0, 0]], [[0, 0, 0, r*(-r*Derivative(Phi(r), r) - 2*Phi(r) + 1)*sin(theta)**2*Derivative(Phi(r), r)/(4*Phi(r)**2 - 1)], [0, 0, 0, 0], [0, 0, 0, 0], [r*(r*Derivative(Phi(r), r) + 2*Phi(r) - 1)*sin(theta)**2*Derivative(Phi(r), r)/(4*Phi(r)**2 - 1), 0, 0, 0]]], [[[0, (4*Phi(r)**2*Derivative(Phi(r), (r, 2)) - 4*Phi(r)*Derivative(Phi(r), r)**2 - Derivative(Phi(r), (r, 2)))/(8*Phi(r)**3 - 4*Phi(r)**2 - 2*Phi(r) + 1), 0, 0], [(-4*Phi(r)**2*Derivative(Phi(r), (r, 2)) + 4*Phi(r)*Derivative(Phi(r), r)**2 + Derivative(Phi(r), (r, 2)))/(8*Phi(r)**3 - 4*Phi(r)**2 - 2*Phi(r) + 1), 0, 0, 0], [0, 0, 0, 0], [0, 0, 0, 0]], [[0, 0, 0, 0], [0, 0, 0, 0], [0, 0, 0, 0], [0, 0, 0, 0]], [[0, 0, 0, 0], [0, 0, r*(-2*r*Phi(r)*Derivative(Phi(r), (r, 2)) + 2*r*Derivative(Phi(r), r)**2 + r*Derivative(Phi(r), (r, 2)) - 2*Phi(r)*Derivative(Phi(r), r) + Derivative(Phi(r), r))/(4*Phi(r)**2 - 4*Phi(r) + 1), 0], [0, r*(2*r*Phi(r)*Derivative(Phi(r), (r, 2)) - 2*r*Derivative(Phi(r), r)**2 - r*Derivative(Phi(r), (r, 2)) + 2*Phi(r)*Derivative(Phi(r), r) - Derivative(Phi(r), r))/(4*Phi(r)**2 - 4*Phi(r) + 1), 0, 0], [0, 0, 0, 0]], [[0, 0, 0, 0], [0, 0, 0, r*(-2*r*Phi(r)*Derivative(Phi(r), (r, 2)) + 2*r*Derivative(Phi(r), r)**2 + r*Derivative(Phi(r), (r, 2)) - 2*Phi(r)*Derivative(Phi(r), r) + Derivative(Phi(r), r))*sin(theta)**2/(4*Phi(r)**2 - 4*Phi(r) + 1)], [0, 0, 0, 0], [0, r*(2*r*Phi(r)*Derivative(Phi(r), (r, 2)) - 2*r*Derivative(Phi(r), r)**2 - r*Derivative(Phi(r), (r, 2)) + 2*Phi(r)*Derivative(Phi(r), r) - Derivative(Phi(r), r))*sin(theta)**2/(4*Phi(r)**2 - 4*Phi(r) + 1), 0, 0]]], [[[0, 0, (r*Derivative(Phi(r), r) + 2*Phi(r) - 1)*Derivative(Phi(r), r)/(r*(2*Phi(r) - 1)**2), 0], [0, 0, 0, 0], [-(r*Derivative(Phi(r), r) + 2*Phi(r) - 1)*Derivative(Phi(r), r)/(r*(2*Phi(r) - 1)**2), 0, 0, 0], [0, 0, 0, 0]], [[0, 0, 0, 0], [0, 0, (2*r*Phi(r)*Derivative(Phi(r), (r, 2)) - 2*r*Derivative(Phi(r), r)**2 - r*Derivative(Phi(r), (r, 2)) + 2*Phi(r)*Derivative(Phi(r), r) - Derivative(Phi(r), r))/(r*(4*Phi(r)**2 - 4*Phi(r) + 1)), 0], [0, (-2*r*Phi(r)*Derivative(Phi(r), (r, 2)) + 2*r*Derivative(Phi(r), r)**2 + r*Derivative(Phi(r), (r, 2)) - 2*Phi(r)*Derivative(Phi(r), r) + Derivative(Phi(r), r))/(r*(4*Phi(r)**2 - 4*Phi(r) + 1)), 0, 0], [0, 0, 0, 0]], [[0, 0, 0, 0], [0, 0, 0, 0], [0, 0, 0, 0], [0, 0, 0, 0]], [[0, 0, 0, 0], [0, 0, 0, 0], [0, 0, 0, sin(theta)**2 - (r*Derivative(Phi(r), r) + 2*Phi(r) - 1)**2*sin(theta)**2/(2*Phi(r) - 1)**2], [0, 0, -sin(theta)**2 + (r*Derivative(Phi(r), r) + 2*Phi(r) - 1)**2*sin(theta)**2/(2*Phi(r) - 1)**2, 0]]], [[[0, 0, 0, (r*Derivative(Phi(r), r) + 2*Phi(r) - 1)*Derivative(Phi(r), r)/(r*(2*Phi(r) - 1)**2)], [0, 0, 0, 0], [0, 0, 0, 0], [-(r*Derivative(Phi(r), r) + 2*Phi(r) - 1)*Derivative(Phi(r), r)/(r*(2*Phi(r) - 1)**2), 0, 0, 0]], [[0, 0, 0, 0], [0, 0, 0, (2*r*Phi(r)*Derivative(Phi(r), (r, 2)) - 2*r*Derivative(Phi(r), r)**2 - r*Derivative(Phi(r), (r, 2)) + 2*Phi(r)*Derivative(Phi(r), r) - Derivative(Phi(r), r))/(r*(4*Phi(r)**2 - 4*Phi(r) + 1))], [0, 0, 0, 0], [0, (-2*r*Phi(r)*Derivative(Phi(r), (r, 2)) + 2*r*Derivative(Phi(r), r)**2 + r*Derivative(Phi(r), (r, 2)) - 2*Phi(r)*Derivative(Phi(r), r) + Derivative(Phi(r), r))/(r*(4*Phi(r)**2 - 4*Phi(r) + 1)), 0, 0]], [[0, 0, 0, 0], [0, 0, 0, 0], [0, 0, 0, r*(r*Derivative(Phi(r), r) + 4*Phi(r) - 2)*Derivative(Phi(r), r)/(4*Phi(r)**2 - 4*Phi(r) + 1)], [0, 0, r*(-r*Derivative(Phi(r), r) - 4*Phi(r) + 2)*Derivative(Phi(r), r)/(4*Phi(r)**2 - 4*Phi(r) + 1), 0]], [[0, 0, 0, 0], [0, 0, 0, 0], [0, 0, 0, 0], [0, 0, 0, 0]]]]\n",
       "## Ricci tensor: [[(-4*r*Phi(r)**2*Derivative(Phi(r), (r, 2)) - 2*r*Derivative(Phi(r), r)**2 + r*Derivative(Phi(r), (r, 2)) - 8*Phi(r)**2*Derivative(Phi(r), r) + 2*Derivative(Phi(r), r))/(r*(8*Phi(r)**3 - 4*Phi(r)**2 - 2*Phi(r) + 1)), 0, 0, 0], [0, (-24*r*Phi(r)**3*Derivative(Phi(r), (r, 2)) + 24*r*Phi(r)**2*Derivative(Phi(r), r)**2 - 4*r*Phi(r)**2*Derivative(Phi(r), (r, 2)) + 12*r*Phi(r)*Derivative(Phi(r), r)**2 + 6*r*Phi(r)*Derivative(Phi(r), (r, 2)) + 4*r*Derivative(Phi(r), r)**2 + r*Derivative(Phi(r), (r, 2)) - 16*Phi(r)**3*Derivative(Phi(r), r) - 8*Phi(r)**2*Derivative(Phi(r), r) + 4*Phi(r)*Derivative(Phi(r), r) + 2*Derivative(Phi(r), r))/(r*(16*Phi(r)**4 - 8*Phi(r)**2 + 1)), 0, 0], [0, 0, r*(-4*r*Phi(r)**2*Derivative(Phi(r), (r, 2)) + 2*r*Derivative(Phi(r), r)**2 + r*Derivative(Phi(r), (r, 2)) - 16*Phi(r)**2*Derivative(Phi(r), r) + 4*Phi(r)*Derivative(Phi(r), r) + 2*Derivative(Phi(r), r))/(8*Phi(r)**3 - 4*Phi(r)**2 - 2*Phi(r) + 1), 0], [0, 0, 0, r*(-4*r*Phi(r)**2*Derivative(Phi(r), (r, 2)) + 2*r*Derivative(Phi(r), r)**2 + r*Derivative(Phi(r), (r, 2)) - 16*Phi(r)**2*Derivative(Phi(r), r) + 4*Phi(r)*Derivative(Phi(r), r) + 2*Derivative(Phi(r), r))*sin(theta)**2/(8*Phi(r)**3 - 4*Phi(r)**2 - 2*Phi(r) + 1)]]\n",
       "## Ricci scalar: 2*(24*r*Phi(r)**3*Derivative(Phi(r), (r, 2)) - 12*r*Phi(r)**2*Derivative(Phi(r), r)**2 + 4*r*Phi(r)**2*Derivative(Phi(r), (r, 2)) - 8*r*Phi(r)*Derivative(Phi(r), r)**2 - 6*r*Phi(r)*Derivative(Phi(r), (r, 2)) - 5*r*Derivative(Phi(r), r)**2 - r*Derivative(Phi(r), (r, 2)) + 48*Phi(r)**3*Derivative(Phi(r), r) + 8*Phi(r)**2*Derivative(Phi(r), r) - 12*Phi(r)*Derivative(Phi(r), r) - 2*Derivative(Phi(r), r))/(r*(32*Phi(r)**5 - 16*Phi(r)**4 - 16*Phi(r)**3 + 8*Phi(r)**2 + 2*Phi(r) - 1))"
      ]
     },
     "execution_count": 72,
     "metadata": {},
     "output_type": "execute_result"
    }
   ],
   "source": [
    "geo"
   ]
  },
  {
   "cell_type": "markdown",
   "id": "99a7f905-4827-4505-8a99-acd988f9974b",
   "metadata": {},
   "source": [
    "## Weak-Field in $\\mathbb{R}^{3+1}$ : Cartesian coordinate "
   ]
  },
  {
   "cell_type": "code",
   "execution_count": 27,
   "id": "e328cfdd-8f85-491e-b1c4-a7d120d31bc0",
   "metadata": {},
   "outputs": [
    {
     "data": {
      "text/latex": [
       "$\\displaystyle x^{\\mu} = \\begin{pmatrix}t\\\\x\\\\y\\\\z\\end{pmatrix}, \\quad g_{\\mu\n",
       "u} = \\begin{pmatrix} - 2 \\Phi{\\left(t,x,y,z \\right)} - 1 & 0 & 0 & 0\\\\ 0 & 1 - 2 \\Phi{\\left(t,x,y,z \\right)} & 0 & 0\\\\ 0 & 0 & 1 - 2 \\Phi{\\left(t,x,y,z \\right)} & 0\\\\ 0 & 0 & 0 & 1 - 2 \\Phi{\\left(t,x,y,z \\right)} \\end{pmatrix}$"
      ],
      "text/plain": [
       "<IPython.core.display.Math object>"
      ]
     },
     "execution_count": 27,
     "metadata": {},
     "output_type": "execute_result"
    }
   ],
   "source": [
    "t, x, y, z = sp.symbols('t x y z')\n",
    "Phi = sp.Function('Phi')(t,x,y,z)\n",
    "# ------------------------------\n",
    "coords = sp.Matrix([t, x, y, z])\n",
    "metrix = sp.diag(-(1+2*Phi), (1-2*Phi), (1-2*Phi), (1-2*Phi))\n",
    "\n",
    "geo = RiemannGeometry(metrix, coords)\n",
    "Math(f\"x^{{\\mu}} = {geo.x_latex()}, \\quad g_{{\\mu\\nu}} = {geo.g_latex()}\")"
   ]
  },
  {
   "cell_type": "code",
   "execution_count": 34,
   "id": "bd0666cf-1b12-4229-928c-de64879bdb65",
   "metadata": {},
   "outputs": [],
   "source": [
    "# WARM: !!! It would take many time to calcuate!!!!!\n",
    "# geo.calculate()\n",
    "# geo"
   ]
  }
 ],
 "metadata": {
  "kernelspec": {
   "display_name": "Python 3 (ipykernel)",
   "language": "python",
   "name": "python3"
  },
  "language_info": {
   "codemirror_mode": {
    "name": "ipython",
    "version": 3
   },
   "file_extension": ".py",
   "mimetype": "text/x-python",
   "name": "python",
   "nbconvert_exporter": "python",
   "pygments_lexer": "ipython3",
   "version": "3.9.6"
  }
 },
 "nbformat": 4,
 "nbformat_minor": 5
}
